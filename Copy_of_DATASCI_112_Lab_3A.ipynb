{
  "nbformat": 4,
  "nbformat_minor": 0,
  "metadata": {
    "kernelspec": {
      "display_name": "Python 3",
      "language": "python",
      "name": "python3"
    },
    "language_info": {
      "codemirror_mode": {
        "name": "ipython",
        "version": 3
      },
      "file_extension": ".py",
      "mimetype": "text/x-python",
      "name": "python",
      "nbconvert_exporter": "python",
      "pygments_lexer": "ipython3",
      "version": "3.6.8"
    },
    "colab": {
      "provenance": [],
      "include_colab_link": true
    }
  },
  "cells": [
    {
      "cell_type": "markdown",
      "metadata": {
        "id": "view-in-github",
        "colab_type": "text"
      },
      "source": [
        "<a href=\"https://colab.research.google.com/github/claudiamoses/DataScience-Class-Projects/blob/main/Copy_of_DATASCI_112_Lab_3A.ipynb\" target=\"_parent\"><img src=\"https://colab.research.google.com/assets/colab-badge.svg\" alt=\"Open In Colab\"/></a>"
      ]
    },
    {
      "cell_type": "markdown",
      "metadata": {
        "id": "iG3X1KFIBLUK"
      },
      "source": [
        "# Authorship of the Federalist Papers\n",
        "\n",
        "The _Federalist Papers_ were a set of 85 essays published between 1787 and 1788 to promote the ratification of the United States Constitution. They were originally published under the pseudonym \"Publius\". Although the identity of the authors was a closely guarded secret at the time, most of the papers have since been conclusively attributed to one of Hamilton, Jay, or Madison. The known authorships can be found in `https://dlsun.github.io/pods/data/federalist/authorship.csv`.\n",
        "\n",
        "For 15 of the papers, however, the authorships remain disputed. (These papers can be identified from the `authorship.csv` file because the \"Author\" field is blank.) In this analysis, you will use the papers with known authorship to predict the authorships of the disputed papers. The text of each paper is available at `https://dlsun.github.io/pods/data/federalist/#.txt`, where `#` is the number of the paper (i.e., a number from 1 to 85). The name of the file indicates the number of the paper."
      ]
    },
    {
      "cell_type": "markdown",
      "metadata": {
        "id": "8YRe6SB3BLUN"
      },
      "source": [
        "## Question 1\n",
        "\n",
        "When analyzing an author's style, common words like \"the\" and \"on\" are actually more useful than rare words like \"hostilities\". That is because rare words typically signify context. Context is useful if you are trying to find documents about similar topics, but not so useful if you are trying to identify an author's style because different authors can write about the same topic. For example, both Dr. Seuss and Charles Dickens used rare words like \"chimney\" and \"stockings\" in _How the Grinch Stole Christmas_ and _A Christmas Carol_, respectively. But they used common words very differently: Dickens used the word \"upon\" over 100 times, while Dr. Seuss did not use \"upon\" even once.\n",
        "\n",
        "Read in the Federalist Papers. Create a term-frequency matrix consisting of only the 50 most common words in the corpus. (Because we are restricting to the most common words already, there is no reason to reweight them using TF-IDF.)\n",
        "\n",
        "- Feel free to just use `CountVectorizer` with the default `token_pattern`.\n",
        "- Take a look at the `max_features=` argument of [`CountVectorizer`](https://scikit-learn.org/stable/modules/generated/sklearn.feature_extraction.text.CountVectorizer.html).\n",
        "\n",
        "Print out this term-frequency matrix as a `DataFrame`. Make sure the index is the number of the paper and the column names are the most common words.\n",
        "\n",
        "Save this `DataFrame` to a CSV file using [`DataFrame.to_csv`](https://pandas.pydata.org/docs/reference/api/pandas.DataFrame.to_csv.html) and **download the file to your local machine**.\n",
        "\n",
        "- You can download the CSV file from the file browser (folder icon in the sidebar).\n",
        "- If you come back to this lab later, upload this CSV file to the file browser and read it into Colab, rather than re-reading the data from the web.\n",
        "- You will need this CSV file for Part B of this lab."
      ]
    },
    {
      "cell_type": "code",
      "source": [
        "import pandas as pd\n",
        "import requests"
      ],
      "metadata": {
        "id": "JM_zSqxFFKTz"
      },
      "execution_count": null,
      "outputs": []
    },
    {
      "cell_type": "code",
      "source": [
        "# read in all 85 papers\n",
        "papers_dir = \"https://dlsun.github.io/pods/data/federalist/\"\n",
        "docs = {}\n",
        "\n",
        "for i in range(1, 86):\n",
        "  filename = str(i)\n",
        "  response = requests.get(papers_dir + str(i) + \".txt\", \"r\")\n",
        "  docs[filename] = response.text"
      ],
      "metadata": {
        "id": "6vuU1KwWA8al"
      },
      "execution_count": null,
      "outputs": []
    },
    {
      "cell_type": "code",
      "source": [
        "from sklearn.feature_extraction.text import CountVectorizer"
      ],
      "metadata": {
        "id": "wxl1P9oreMr6"
      },
      "execution_count": null,
      "outputs": []
    },
    {
      "cell_type": "code",
      "source": [
        "#count words in each doc and add to dataframe\n",
        "vec = CountVectorizer(max_features=50)\n",
        "vec.fit(docs.values())\n",
        "vectorized_data = vec.transform(docs.values())\n",
        "tf_df = pd.DataFrame(vectorized_data.toarray(), index=docs.keys(), columns=vec.get_feature_names_out())\n",
        "tf_df.to_csv(\"FederalistPapersAuthorship.csv\")"
      ],
      "metadata": {
        "id": "rO61y-VcdtK6"
      },
      "execution_count": null,
      "outputs": []
    },
    {
      "cell_type": "markdown",
      "metadata": {
        "id": "bDLgJQtaHljA"
      },
      "source": [
        "## Question 2\n",
        "\n",
        "Make a visualization that summarizes the most common words used by Hamilton, Madison, and Jay.\n",
        "\n",
        "Try to make your visualization so that it provides insight into the _differences_ between the ways these three writers used language."
      ]
    },
    {
      "cell_type": "code",
      "source": [
        "# Create dataframe of 20 most common words\n",
        "vec = CountVectorizer(max_features=20)\n",
        "vec.fit(docs.values())\n",
        "vectorized_data = vec.transform(docs.values())\n",
        "tf_t20_df = pd.DataFrame(vectorized_data.toarray(), index=docs.keys(), columns=vec.get_feature_names_out())\n",
        "tf_t20_df\n",
        "\n",
        "# Create dataframes for each author's work\n",
        "authors_df = pd.read_csv(\"https://dlsun.github.io/pods/data/federalist/authorship.csv\")\n",
        "hamilton_df = authors_df.loc[authors_df[\"Author\"] == \"Hamilton\"].reset_index()\n",
        "jay_df = authors_df.loc[authors_df[\"Author\"] == \"Jay\"].reset_index()\n",
        "madison_df = authors_df.loc[authors_df[\"Author\"] == \"Madison\"].reset_index()\n",
        "madison_df\n",
        "\n",
        "# Create a list of indices for each author\n",
        "hamilton_paper_indices = list(hamilton_df[\"index\"])\n",
        "jay_paper_indices = list(jay_df[\"index\"])\n",
        "madison_paper_indices = list(madison_df[\"index\"])\n",
        "\n",
        "# Create df for average number of appearances of each word in tf_df for each author\n",
        "hamilton_proportions = (tf_t20_df.iloc[hamilton_paper_indices].mean(axis=\"rows\\\n",
        "\")) / (tf_t20_df.iloc[hamilton_paper_indices].sum(axis=\"columns\")).mean()\n",
        "jay_proportions = tf_t20_df.iloc[jay_paper_indices].mean(axis=\"rows\\\n",
        "\") / (tf_t20_df.iloc[jay_paper_indices].sum(axis=\"columns\")).mean()\n",
        "madison_proportions = tf_t20_df.iloc[madison_paper_indices].mean(axis=\"rows\\\n",
        "\") / (tf_t20_df.iloc[madison_paper_indices].sum(axis=\"columns\")).mean()\n",
        "average_term_proportions = pd.DataFrame({'Hamilton': hamilton_proportions,\n",
        "                                         'Jay': jay_proportions, 'Madison': madison_proportions})\n",
        "average_term_proportions\n",
        "\n",
        "#create a heatmap function\n",
        "import seaborn as sns\n",
        "import matplotlib.pyplot as plt\n",
        "map = sns.heatmap(average_term_proportions, cmap=\"Reds\")\n",
        "map.set(xlabel='Author Last Name', ylabel='Word Proportions')\n",
        "map.set_title('Top 20 common word proportions in the Federalist Papers by author')\n",
        "plt.show()"
      ],
      "metadata": {
        "id": "2zogsKZtBA1t",
        "colab": {
          "base_uri": "https://localhost:8080/",
          "height": 472
        },
        "outputId": "61643d90-c8c1-4ee5-8ba6-052a6bcb0896"
      },
      "execution_count": null,
      "outputs": [
        {
          "output_type": "display_data",
          "data": {
            "text/plain": [
              "<Figure size 640x480 with 2 Axes>"
            ],
            "image/png": "[encoded data removed]"
          },
          "metadata": {}
        }
      ]
    },
    {
      "cell_type": "markdown",
      "source": [
        "_YOUR INTERPRETATION HERE_\n",
        "\n",
        "It appears that on average, Hamilton, Jay, and Madison's papers used a lot of the same words with more or less frequency in their papers. However, we can detect slight differences between the frequency of certain words based on the heatmap. For example, while all authors used the word \"the\" quite frequently, we can see that on average, Madison uses it as over 1/4 of his top 20 words per paper, while hamilton uses it for around 1/5 of the common words and Jay around 1/8. Similarly, Hamilton and Madison use the words \"of\"with greater frequency than Jay. A word that doesn't appear to follow this pattern is the word \"and\", which Jay appears to use more frequently than Madison and Hamilton, and \"to\", which Hamilton uses with the most frequency, then Jay, then Madison.\n",
        "\n",
        "It is important to note that these proportions are with regards to the top 20 common words per paper, NOT the total words per paper."
      ],
      "metadata": {
        "id": "s5lzEEI8BBzz"
      }
    },
    {
      "cell_type": "markdown",
      "metadata": {
        "id": "fh0DzmKrBLUT"
      },
      "source": [
        "## Question 3\n",
        "\n",
        "For each document with disputed authorship, find the most similar document with _known_ authorship, using cosine distance on the term frequencies. You can attribute the disputed document to the (known) author of this document."
      ]
    },
    {
      "cell_type": "code",
      "source": [
        "# create df of disputed authorship\n",
        "authors_df = pd.read_csv(\"https://dlsun.github.io/pods/data/federalist/authorship.csv\")\n",
        "disputed_df = authors_df[pd.isna(authors_df[\"Author\"])].reset_index()\n",
        "disputed_indices = list(disputed_df[\"index\"])\n",
        "undisputed_indices = hamilton_paper_indices + jay_paper_indices + madison_paper_indices\n",
        "undisputed_df = authors_df.iloc[undisputed_indices].reset_index()"
      ],
      "metadata": {
        "id": "sszLtjdABKiL"
      },
      "execution_count": null,
      "outputs": []
    },
    {
      "cell_type": "code",
      "source": [
        "#create disputed df and undisputed df\n",
        "disputed_papers = tf_df.iloc[disputed_indices]\n",
        "undisputed_papers = tf_df.iloc[undisputed_indices]"
      ],
      "metadata": {
        "id": "jCrwFK07eBaB"
      },
      "execution_count": null,
      "outputs": []
    },
    {
      "cell_type": "code",
      "source": [
        "#create array of closest undisputed papers to each disputed paper\n",
        "\n",
        "from sklearn.feature_extraction.text import TfidfVectorizer\n",
        "from sklearn.metrics import pairwise_distances\n",
        "\n",
        "vec = TfidfVectorizer()\n",
        "vec.fit(disputed_papers)\n",
        "vec.fit(undisputed_papers)\n",
        "\n",
        "vec.transform(disputed_papers)\n",
        "vec.transform(undisputed_papers)\n",
        "\n",
        "undisputed_pairs = pairwise_distances(disputed_papers, undisputed_papers,\n",
        "                                      metric=\"cosine\").argsort().argmin(axis=1)"
      ],
      "metadata": {
        "id": "o_LWmORS9fc6"
      },
      "execution_count": null,
      "outputs": []
    },
    {
      "cell_type": "code",
      "source": [
        "#create mapping from each disputed paper to an author\n",
        "disputed_df[\"Predicted Author\"] = [undisputed_df.loc[index, \"Author\"]\n",
        "                                   for index in undisputed_pairs]\n",
        "disputed_df"
      ],
      "metadata": {
        "colab": {
          "base_uri": "https://localhost:8080/",
          "height": 520
        },
        "id": "E-aRhHY6fAqf",
        "outputId": "4739123b-61a3-42ea-8b43-f9b0ca8e9f85"
      },
      "execution_count": null,
      "outputs": [
        {
          "output_type": "execute_result",
          "data": {
            "text/plain": [
              "    index  Paper Author Predicted Author\n",
              "0      17     18    NaN          Madison\n",
              "1      18     19    NaN              Jay\n",
              "2      19     20    NaN              Jay\n",
              "3      48     49    NaN          Madison\n",
              "4      49     50    NaN          Madison\n",
              "5      50     51    NaN              Jay\n",
              "6      51     52    NaN         Hamilton\n",
              "7      52     53    NaN         Hamilton\n",
              "8      53     54    NaN          Madison\n",
              "9      54     55    NaN         Hamilton\n",
              "10     55     56    NaN         Hamilton\n",
              "11     56     57    NaN         Hamilton\n",
              "12     57     58    NaN         Hamilton\n",
              "13     61     62    NaN         Hamilton\n",
              "14     62     63    NaN         Hamilton"
            ],
            "text/html": [
              "\n",
              "  <div id=\"df-acea174d-ac2b-4b79-a021-438548c1ed3f\" class=\"colab-df-container\">\n",
              "    <div>\n",
              "<style scoped>\n",
              "    .dataframe tbody tr th:only-of-type {\n",
              "        vertical-align: middle;\n",
              "    }\n",
              "\n",
              "    .dataframe tbody tr th {\n",
              "        vertical-align: top;\n",
              "    }\n",
              "\n",
              "    .dataframe thead th {\n",
              "        text-align: right;\n",
              "    }\n",
              "</style>\n",
              "<table border=\"1\" class=\"dataframe\">\n",
              "  <thead>\n",
              "    <tr style=\"text-align: right;\">\n",
              "      <th></th>\n",
              "      <th>index</th>\n",
              "      <th>Paper</th>\n",
              "      <th>Author</th>\n",
              "      <th>Predicted Author</th>\n",
              "    </tr>\n",
              "  </thead>\n",
              "  <tbody>\n",
              "    <tr>\n",
              "      <th>0</th>\n",
              "      <td>17</td>\n",
              "      <td>18</td>\n",
              "      <td>NaN</td>\n",
              "      <td>Madison</td>\n",
              "    </tr>\n",
              "    <tr>\n",
              "      <th>1</th>\n",
              "      <td>18</td>\n",
              "      <td>19</td>\n",
              "      <td>NaN</td>\n",
              "      <td>Jay</td>\n",
              "    </tr>\n",
              "    <tr>\n",
              "      <th>2</th>\n",
              "      <td>19</td>\n",
              "      <td>20</td>\n",
              "      <td>NaN</td>\n",
              "      <td>Jay</td>\n",
              "    </tr>\n",
              "    <tr>\n",
              "      <th>3</th>\n",
              "      <td>48</td>\n",
              "      <td>49</td>\n",
              "      <td>NaN</td>\n",
              "      <td>Madison</td>\n",
              "    </tr>\n",
              "    <tr>\n",
              "      <th>4</th>\n",
              "      <td>49</td>\n",
              "      <td>50</td>\n",
              "      <td>NaN</td>\n",
              "      <td>Madison</td>\n",
              "    </tr>\n",
              "    <tr>\n",
              "      <th>5</th>\n",
              "      <td>50</td>\n",
              "      <td>51</td>\n",
              "      <td>NaN</td>\n",
              "      <td>Jay</td>\n",
              "    </tr>\n",
              "    <tr>\n",
              "      <th>6</th>\n",
              "      <td>51</td>\n",
              "      <td>52</td>\n",
              "      <td>NaN</td>\n",
              "      <td>Hamilton</td>\n",
              "    </tr>\n",
              "    <tr>\n",
              "      <th>7</th>\n",
              "      <td>52</td>\n",
              "      <td>53</td>\n",
              "      <td>NaN</td>\n",
              "      <td>Hamilton</td>\n",
              "    </tr>\n",
              "    <tr>\n",
              "      <th>8</th>\n",
              "      <td>53</td>\n",
              "      <td>54</td>\n",
              "      <td>NaN</td>\n",
              "      <td>Madison</td>\n",
              "    </tr>\n",
              "    <tr>\n",
              "      <th>9</th>\n",
              "      <td>54</td>\n",
              "      <td>55</td>\n",
              "      <td>NaN</td>\n",
              "      <td>Hamilton</td>\n",
              "    </tr>\n",
              "    <tr>\n",
              "      <th>10</th>\n",
              "      <td>55</td>\n",
              "      <td>56</td>\n",
              "      <td>NaN</td>\n",
              "      <td>Hamilton</td>\n",
              "    </tr>\n",
              "    <tr>\n",
              "      <th>11</th>\n",
              "      <td>56</td>\n",
              "      <td>57</td>\n",
              "      <td>NaN</td>\n",
              "      <td>Hamilton</td>\n",
              "    </tr>\n",
              "    <tr>\n",
              "      <th>12</th>\n",
              "      <td>57</td>\n",
              "      <td>58</td>\n",
              "      <td>NaN</td>\n",
              "      <td>Hamilton</td>\n",
              "    </tr>\n",
              "    <tr>\n",
              "      <th>13</th>\n",
              "      <td>61</td>\n",
              "      <td>62</td>\n",
              "      <td>NaN</td>\n",
              "      <td>Hamilton</td>\n",
              "    </tr>\n",
              "    <tr>\n",
              "      <th>14</th>\n",
              "      <td>62</td>\n",
              "      <td>63</td>\n",
              "      <td>NaN</td>\n",
              "      <td>Hamilton</td>\n",
              "    </tr>\n",
              "  </tbody>\n",
              "</table>\n",
              "</div>\n",
              "    <div class=\"colab-df-buttons\">\n",
              "\n",
              "  <div class=\"colab-df-container\">\n",
              "    <button class=\"colab-df-convert\" onclick=\"convertToInteractive('df-acea174d-ac2b-4b79-a021-438548c1ed3f')\"\n",
              "            title=\"Convert this dataframe to an interactive table.\"\n",
              "            style=\"display:none;\">\n",
              "\n",
              "  <svg xmlns=\"http://www.w3.org/2000/svg\" height=\"24px\" viewBox=\"0 -960 960 960\">\n",
              "    <path d=\"M120-120v-720h720v720H120Zm60-500h600v-160H180v160Zm220 220h160v-160H400v160Zm0 220h160v-160H400v160ZM180-400h160v-160H180v160Zm440 0h160v-160H620v160ZM180-180h160v-160H180v160Zm440 0h160v-160H620v160Z\"/>\n",
              "  </svg>\n",
              "    </button>\n",
              "\n",
              "  <style>\n",
              "    .colab-df-container {\n",
              "      display:flex;\n",
              "      gap: 12px;\n",
              "    }\n",
              "\n",
              "    .colab-df-convert {\n",
              "      background-color: #E8F0FE;\n",
              "      border: none;\n",
              "      border-radius: 50%;\n",
              "      cursor: pointer;\n",
              "      display: none;\n",
              "      fill: #1967D2;\n",
              "      height: 32px;\n",
              "      padding: 0 0 0 0;\n",
              "      width: 32px;\n",
              "    }\n",
              "\n",
              "    .colab-df-convert:hover {\n",
              "      background-color: #E2EBFA;\n",
              "      box-shadow: 0px 1px 2px rgba(60, 64, 67, 0.3), 0px 1px 3px 1px rgba(60, 64, 67, 0.15);\n",
              "      fill: #174EA6;\n",
              "    }\n",
              "\n",
              "    .colab-df-buttons div {\n",
              "      margin-bottom: 4px;\n",
              "    }\n",
              "\n",
              "    [theme=dark] .colab-df-convert {\n",
              "      background-color: #3B4455;\n",
              "      fill: #D2E3FC;\n",
              "    }\n",
              "\n",
              "    [theme=dark] .colab-df-convert:hover {\n",
              "      background-color: #434B5C;\n",
              "      box-shadow: 0px 1px 3px 1px rgba(0, 0, 0, 0.15);\n",
              "      filter: drop-shadow(0px 1px 2px rgba(0, 0, 0, 0.3));\n",
              "      fill: #FFFFFF;\n",
              "    }\n",
              "  </style>\n",
              "\n",
              "    <script>\n",
              "      const buttonEl =\n",
              "        document.querySelector('#df-acea174d-ac2b-4b79-a021-438548c1ed3f button.colab-df-convert');\n",
              "      buttonEl.style.display =\n",
              "        google.colab.kernel.accessAllowed ? 'block' : 'none';\n",
              "\n",
              "      async function convertToInteractive(key) {\n",
              "        const element = document.querySelector('#df-acea174d-ac2b-4b79-a021-438548c1ed3f');\n",
              "        const dataTable =\n",
              "          await google.colab.kernel.invokeFunction('convertToInteractive',\n",
              "                                                    [key], {});\n",
              "        if (!dataTable) return;\n",
              "\n",
              "        const docLinkHtml = 'Like what you see? Visit the ' +\n",
              "          '<a target=\"_blank\" href=https://colab.research.google.com/notebooks/data_table.ipynb>data table notebook</a>'\n",
              "          + ' to learn more about interactive tables.';\n",
              "        element.innerHTML = '';\n",
              "        dataTable['output_type'] = 'display_data';\n",
              "        await google.colab.output.renderOutput(dataTable, element);\n",
              "        const docLink = document.createElement('div');\n",
              "        docLink.innerHTML = docLinkHtml;\n",
              "        element.appendChild(docLink);\n",
              "      }\n",
              "    </script>\n",
              "  </div>\n",
              "\n",
              "\n",
              "<div id=\"df-e33f4190-de24-455b-be6e-859f5d35eba1\">\n",
              "  <button class=\"colab-df-quickchart\" onclick=\"quickchart('df-e33f4190-de24-455b-be6e-859f5d35eba1')\"\n",
              "            title=\"Suggest charts\"\n",
              "            style=\"display:none;\">\n",
              "\n",
              "<svg xmlns=\"http://www.w3.org/2000/svg\" height=\"24px\"viewBox=\"0 0 24 24\"\n",
              "     width=\"24px\">\n",
              "    <g>\n",
              "        <path d=\"M19 3H5c-1.1 0-2 .9-2 2v14c0 1.1.9 2 2 2h14c1.1 0 2-.9 2-2V5c0-1.1-.9-2-2-2zM9 17H7v-7h2v7zm4 0h-2V7h2v10zm4 0h-2v-4h2v4z\"/>\n",
              "    </g>\n",
              "</svg>\n",
              "  </button>\n",
              "\n",
              "<style>\n",
              "  .colab-df-quickchart {\n",
              "      --bg-color: #E8F0FE;\n",
              "      --fill-color: #1967D2;\n",
              "      --hover-bg-color: #E2EBFA;\n",
              "      --hover-fill-color: #174EA6;\n",
              "      --disabled-fill-color: #AAA;\n",
              "      --disabled-bg-color: #DDD;\n",
              "  }\n",
              "\n",
              "  [theme=dark] .colab-df-quickchart {\n",
              "      --bg-color: #3B4455;\n",
              "      --fill-color: #D2E3FC;\n",
              "      --hover-bg-color: #434B5C;\n",
              "      --hover-fill-color: #FFFFFF;\n",
              "      --disabled-bg-color: #3B4455;\n",
              "      --disabled-fill-color: #666;\n",
              "  }\n",
              "\n",
              "  .colab-df-quickchart {\n",
              "    background-color: var(--bg-color);\n",
              "    border: none;\n",
              "    border-radius: 50%;\n",
              "    cursor: pointer;\n",
              "    display: none;\n",
              "    fill: var(--fill-color);\n",
              "    height: 32px;\n",
              "    padding: 0;\n",
              "    width: 32px;\n",
              "  }\n",
              "\n",
              "  .colab-df-quickchart:hover {\n",
              "    background-color: var(--hover-bg-color);\n",
              "    box-shadow: 0 1px 2px rgba(60, 64, 67, 0.3), 0 1px 3px 1px rgba(60, 64, 67, 0.15);\n",
              "    fill: var(--button-hover-fill-color);\n",
              "  }\n",
              "\n",
              "  .colab-df-quickchart-complete:disabled,\n",
              "  .colab-df-quickchart-complete:disabled:hover {\n",
              "    background-color: var(--disabled-bg-color);\n",
              "    fill: var(--disabled-fill-color);\n",
              "    box-shadow: none;\n",
              "  }\n",
              "\n",
              "  .colab-df-spinner {\n",
              "    border: 2px solid var(--fill-color);\n",
              "    border-color: transparent;\n",
              "    border-bottom-color: var(--fill-color);\n",
              "    animation:\n",
              "      spin 1s steps(1) infinite;\n",
              "  }\n",
              "\n",
              "  @keyframes spin {\n",
              "    0% {\n",
              "      border-color: transparent;\n",
              "      border-bottom-color: var(--fill-color);\n",
              "      border-left-color: var(--fill-color);\n",
              "    }\n",
              "    20% {\n",
              "      border-color: transparent;\n",
              "      border-left-color: var(--fill-color);\n",
              "      border-top-color: var(--fill-color);\n",
              "    }\n",
              "    30% {\n",
              "      border-color: transparent;\n",
              "      border-left-color: var(--fill-color);\n",
              "      border-top-color: var(--fill-color);\n",
              "      border-right-color: var(--fill-color);\n",
              "    }\n",
              "    40% {\n",
              "      border-color: transparent;\n",
              "      border-right-color: var(--fill-color);\n",
              "      border-top-color: var(--fill-color);\n",
              "    }\n",
              "    60% {\n",
              "      border-color: transparent;\n",
              "      border-right-color: var(--fill-color);\n",
              "    }\n",
              "    80% {\n",
              "      border-color: transparent;\n",
              "      border-right-color: var(--fill-color);\n",
              "      border-bottom-color: var(--fill-color);\n",
              "    }\n",
              "    90% {\n",
              "      border-color: transparent;\n",
              "      border-bottom-color: var(--fill-color);\n",
              "    }\n",
              "  }\n",
              "</style>\n",
              "\n",
              "  <script>\n",
              "    async function quickchart(key) {\n",
              "      const quickchartButtonEl =\n",
              "        document.querySelector('#' + key + ' button');\n",
              "      quickchartButtonEl.disabled = true;  // To prevent multiple clicks.\n",
              "      quickchartButtonEl.classList.add('colab-df-spinner');\n",
              "      try {\n",
              "        const charts = await google.colab.kernel.invokeFunction(\n",
              "            'suggestCharts', [key], {});\n",
              "      } catch (error) {\n",
              "        console.error('Error during call to suggestCharts:', error);\n",
              "      }\n",
              "      quickchartButtonEl.classList.remove('colab-df-spinner');\n",
              "      quickchartButtonEl.classList.add('colab-df-quickchart-complete');\n",
              "    }\n",
              "    (() => {\n",
              "      let quickchartButtonEl =\n",
              "        document.querySelector('#df-e33f4190-de24-455b-be6e-859f5d35eba1 button');\n",
              "      quickchartButtonEl.style.display =\n",
              "        google.colab.kernel.accessAllowed ? 'block' : 'none';\n",
              "    })();\n",
              "  </script>\n",
              "</div>\n",
              "    </div>\n",
              "  </div>\n"
            ]
          },
          "metadata": {},
          "execution_count": 9
        }
      ]
    },
    {
      "cell_type": "markdown",
      "source": [
        "_USE YOUR RESULTS TO PREDICT THE AUTHORS OF EACH OF THE 15 DISPUTED PAPERS._\n",
        "\n",
        "\n",
        "The above dataframe lists the original index of each paper with disputed authorship, along with the Paper number, the Author (which is NaN), and the Predicted Author.\n",
        "\n"
      ],
      "metadata": {
        "id": "cfTsAguMHC8M"
      }
    },
    {
      "cell_type": "markdown",
      "metadata": {
        "id": "8Ng3BgkXBLUw"
      },
      "source": [
        "## Submission Instructions\n",
        "\n",
        "- Restart this notebook and run the cells from beginning to end.\n",
        "  - Go to Runtime > Restart and Run All."
      ]
    },
    {
      "cell_type": "code",
      "source": [
        "# @markdown Run this cell to download this notebook as a webpage, `_NOTEBOOK.html`.\n",
        "\n",
        "import google, json, nbformat\n",
        "\n",
        "# Get the current notebook and write it to _NOTEBOOK.ipynb\n",
        "raw_notebook = google.colab._message.blocking_request(\"get_ipynb\",\n",
        "                                                      timeout_sec=30)[\"ipynb\"]\n",
        "with open(\"_NOTEBOOK.ipynb\", \"w\", encoding=\"utf-8\") as ipynb_file:\n",
        "  ipynb_file.write(json.dumps(raw_notebook))\n",
        "\n",
        "# Use nbconvert to convert .ipynb to .html.\n",
        "!jupyter nbconvert --to html --log-level WARN _NOTEBOOK.ipynb\n",
        "\n",
        "# Download the .html file.\n",
        "google.colab.files.download(\"_NOTEBOOK.html\")"
      ],
      "metadata": {
        "cellView": "form",
        "id": "VAMYJu39IzRK",
        "colab": {
          "base_uri": "https://localhost:8080/",
          "height": 17
        },
        "outputId": "ddc3c5f9-60d4-4696-b4e2-b6d2e4eaf326"
      },
      "execution_count": null,
      "outputs": [
        {
          "output_type": "display_data",
          "data": {
            "text/plain": [
              "<IPython.core.display.Javascript object>"
            ],
            "application/javascript": [
              "\n",
              "    async function download(id, filename, size) {\n",
              "      if (!google.colab.kernel.accessAllowed) {\n",
              "        return;\n",
              "      }\n",
              "      const div = document.createElement('div');\n",
              "      const label = document.createElement('label');\n",
              "      label.textContent = `Downloading \"${filename}\": `;\n",
              "      div.appendChild(label);\n",
              "      const progress = document.createElement('progress');\n",
              "      progress.max = size;\n",
              "      div.appendChild(progress);\n",
              "      document.body.appendChild(div);\n",
              "\n",
              "      const buffers = [];\n",
              "      let downloaded = 0;\n",
              "\n",
              "      const channel = await google.colab.kernel.comms.open(id);\n",
              "      // Send a message to notify the kernel that we're ready.\n",
              "      channel.send({})\n",
              "\n",
              "      for await (const message of channel.messages) {\n",
              "        // Send a message to notify the kernel that we're ready.\n",
              "        channel.send({})\n",
              "        if (message.buffers) {\n",
              "          for (const buffer of message.buffers) {\n",
              "            buffers.push(buffer);\n",
              "            downloaded += buffer.byteLength;\n",
              "            progress.value = downloaded;\n",
              "          }\n",
              "        }\n",
              "      }\n",
              "      const blob = new Blob(buffers, {type: 'application/binary'});\n",
              "      const a = document.createElement('a');\n",
              "      a.href = window.URL.createObjectURL(blob);\n",
              "      a.download = filename;\n",
              "      div.appendChild(a);\n",
              "      a.click();\n",
              "      div.remove();\n",
              "    }\n",
              "  "
            ]
          },
          "metadata": {}
        },
        {
          "output_type": "display_data",
          "data": {
            "text/plain": [
              "<IPython.core.display.Javascript object>"
            ],
            "application/javascript": [
              "download(\"download_92c2e621-145f-4c70-9f1a-133049d46f95\", \"_NOTEBOOK.html\", 660743)"
            ]
          },
          "metadata": {}
        }
      ]
    },
    {
      "cell_type": "markdown",
      "source": [
        "- Open `_NOTEBOOK.html` in your browser, and save it as a PDF.\n",
        "    - Go to File > Print > Save as PDF.\n",
        "- Double check that all of your code and output is visible in the saved PDF.\n",
        "- Upload the PDF to [Gradescope](https://www.gradescope.com/courses/694907).\n",
        "    - Please be sure to select the correct pages corresponding to each question."
      ],
      "metadata": {
        "id": "n_y7H-YEI1xi"
      }
    }
  ]
}