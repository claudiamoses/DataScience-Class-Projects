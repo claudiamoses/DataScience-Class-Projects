{
  "nbformat": 4,
  "nbformat_minor": 0,
  "metadata": {
    "kernelspec": {
      "display_name": "Python 3",
      "language": "python",
      "name": "python3"
    },
    "language_info": {
      "codemirror_mode": {
        "name": "ipython",
        "version": 3
      },
      "file_extension": ".py",
      "mimetype": "text/x-python",
      "name": "python",
      "nbconvert_exporter": "python",
      "pygments_lexer": "ipython3",
      "version": "3.6.8"
    },
    "colab": {
      "provenance": [],
      "include_colab_link": true
    }
  },
  "cells": [
    {
      "cell_type": "markdown",
      "metadata": {
        "id": "view-in-github",
        "colab_type": "text"
      },
      "source": [
        "<a href=\"https://colab.research.google.com/github/claudiamoses/DataScience-Class-Projects/blob/main/Copy_of_DATASCI_112_Lab_3B.ipynb\" target=\"_parent\"><img src=\"https://colab.research.google.com/assets/colab-badge.svg\" alt=\"Open In Colab\"/></a>"
      ]
    },
    {
      "cell_type": "markdown",
      "metadata": {
        "id": "iG3X1KFIBLUK"
      },
      "source": [
        "# Evaluating Authorship Models\n",
        "\n",
        "In Part A of this lab, you built a simple model to predict the authorship of the 15 disputed Federalist Papers.\n",
        "\n",
        "In Part B, you will try out different models and compare them."
      ]
    },
    {
      "cell_type": "markdown",
      "metadata": {
        "id": "8YRe6SB3BLUN"
      },
      "source": [
        "## Question 0\n",
        "\n",
        "In Part A, you saved the term-frequency matrix for the Federalist Papers as a CSV file. Upload this file to the Colab runtime and read it in.\n",
        "\n",
        "_Do not recreate the term-frequency matrix from scratch!_"
      ]
    },
    {
      "cell_type": "code",
      "source": [
        "# Import file and get rid of weird columns\n",
        "import pandas as pd\n",
        "tf_df = pd.read_csv('/content/FederalistPapersAuthorship.csv').drop(\"Unnamed: 0\", axis=\"columns\")"
      ],
      "metadata": {
        "id": "6vuU1KwWA8al"
      },
      "execution_count": null,
      "outputs": []
    },
    {
      "cell_type": "markdown",
      "metadata": {
        "id": "bDLgJQtaHljA"
      },
      "source": [
        "## Question 1a\n",
        "\n",
        "In the first part of this lab, you attributed each disputed document to the author of the closest document with _known_ authorship. How accurate are these attributions? There's no way to know for certain because we don't know who wrote the disputed documents (by definition!).\n",
        "\n",
        "Let's measure the performance of this model a different way. For each document with _known_ authorship, find the closest (other) document with _known_ authorship. How often was this closest document written by the same author? Report this as a proportion. This proportion is called the **accuracy**."
      ]
    },
    {
      "cell_type": "code",
      "source": [
        "# Copy code from last lab for calculating best estimate for author\n",
        "\n",
        "# Create dataframes for each author's work\n",
        "authors_df = pd.read_csv(\"https://dlsun.github.io/pods/data/federalist/authorship.csv\")\n",
        "hamilton_df = authors_df.loc[authors_df[\"Author\"] == \"Hamilton\"].reset_index()\n",
        "jay_df = authors_df.loc[authors_df[\"Author\"] == \"Jay\"].reset_index()\n",
        "madison_df = authors_df.loc[authors_df[\"Author\"] == \"Madison\"].reset_index()\n",
        "madison_df\n",
        "\n",
        "# Create a list of indices for each author\n",
        "hamilton_paper_indices = list(hamilton_df[\"index\"])\n",
        "jay_paper_indices = list(jay_df[\"index\"])\n",
        "madison_paper_indices = list(madison_df[\"index\"])\n",
        "\n",
        "#create a df for known authorship\n",
        "undisputed_indices = hamilton_paper_indices + jay_paper_indices + madison_paper_indices\n",
        "undisputed_df = authors_df.iloc[undisputed_indices].reset_index()\n",
        "\n",
        "#create undisputed tf matrix\n",
        "undisputed_papers = tf_df.iloc[undisputed_indices]"
      ],
      "metadata": {
        "id": "fVv64tIG1dZo"
      },
      "execution_count": null,
      "outputs": []
    },
    {
      "cell_type": "code",
      "source": [
        "#create array of closest undisputed papers to each disputed paper\n",
        "from sklearn.feature_extraction.text import TfidfVectorizer\n",
        "from sklearn.metrics import pairwise_distances\n",
        "import numpy as np\n",
        "\n",
        "vec = TfidfVectorizer()\n",
        "vec.fit(undisputed_papers)\n",
        "vec.transform(undisputed_papers)\n",
        "\n",
        "#create matrix where we max out the diagonals so that papers will not be paired with themselves,\n",
        "#and return new smallest distance\n",
        "undisputed_pairs_matrix = pairwise_distances(undisputed_papers, undisputed_papers,\n",
        "                                      metric=\"cosine\")\n",
        "np.fill_diagonal(undisputed_pairs_matrix, np.inf)\n",
        "undisputed_pairs = undisputed_pairs_matrix.argmin(axis=1)"
      ],
      "metadata": {
        "id": "2zogsKZtBA1t"
      },
      "execution_count": null,
      "outputs": []
    },
    {
      "cell_type": "code",
      "source": [
        "#create mapping from each undisputed paper to a predicted author\n",
        "undisputed_df[\"Predicted Author\"] = [undisputed_df.loc[index, \"Author\"] for index in undisputed_pairs]"
      ],
      "metadata": {
        "id": "_l5A2NDw2Xrr"
      },
      "execution_count": null,
      "outputs": []
    },
    {
      "cell_type": "code",
      "source": [
        "# calculate frequency with which \"Author\" column matched \"Predicted Author\" column\n",
        "undisputed_df[\"Correct Prediction\"] = undisputed_df[\"Author\"] == undisputed_df[\"Predicted Author\"]\n",
        "accuracy = undisputed_df[\"Correct Prediction\"].sum() / len(undisputed_df)\n",
        "accuracy"
      ],
      "metadata": {
        "colab": {
          "base_uri": "https://localhost:8080/"
        },
        "id": "pgrh_uUy2rtr",
        "outputId": "b2f964a4-1684-47d0-cbe6-993bdac089cb"
      },
      "execution_count": null,
      "outputs": [
        {
          "output_type": "execute_result",
          "data": {
            "text/plain": [
              "0.9142857142857143"
            ]
          },
          "metadata": {},
          "execution_count": 12
        }
      ]
    },
    {
      "cell_type": "markdown",
      "source": [
        "_YOUR INTERPRETATION HERE_\n",
        "\n",
        "It appears that the algorithm predicted the author of each paper with 91.4% accuracy."
      ],
      "metadata": {
        "id": "s5lzEEI8BBzz"
      }
    },
    {
      "cell_type": "markdown",
      "source": [
        "## Question 1b\n",
        "\n",
        "Using the attributed authors and actual authors from above, create a **confusion matrix**.\n",
        "\n",
        "- A [confusion matrix](https://en.wikipedia.org/wiki/Confusion_matrix#Confusion_matrices_with_more_than_two_categories) counts how often a model predicts a class vs. how often the observation was actually in that class.\n",
        "- In our case, we have 3 classes, Hamilton, Jay, or Madison, so the confusion matrix is $3\\times 3$. The confusion matrix counts how often the model attributes Hamilton, Jay, or Madison (based on the closest document) vs. how often the document was actually written by Hamilton, Jay, or Madison.\n",
        "- You can create a confusion matrix using [scikit-learn](https://scikit-learn.org/stable/modules/generated/sklearn.metrics.confusion_matrix.html), but it's also not difficult to create it from scratch using Pandas operations.\n",
        "- Whichever you choose, make sure your confusion matrix is nicely formatted as a `DataFrame` with labeled rows and columns.\n",
        "\n",
        "Show how to calculate the accuracy from the confusion matrix. Make sure this agrees with the value you got above!"
      ],
      "metadata": {
        "id": "W9gRqCRuOkpl"
      }
    },
    {
      "cell_type": "code",
      "source": [
        "#  Create a confusion matrix using scikit-learn\n",
        "from sklearn.metrics import confusion_matrix\n",
        "c_matrix = confusion_matrix(undisputed_df[\"Author\"], undisputed_df[\"Predicted Author\"])\n",
        "c_matrix_df = pd.DataFrame(c_matrix, index=[\"Hamilton\", \"Jay\", \"Madison\"],\n",
        "                           columns=[\"Hamilton\", \"Jay\", \"Madison\"])\n",
        "c_matrix_df"
      ],
      "metadata": {
        "id": "XgYRMizvOkaA",
        "colab": {
          "base_uri": "https://localhost:8080/",
          "height": 143
        },
        "outputId": "6c6951dd-259f-4b1a-ede2-08d6fbf6d4f2"
      },
      "execution_count": null,
      "outputs": [
        {
          "output_type": "execute_result",
          "data": {
            "text/plain": [
              "          Hamilton  Jay  Madison\n",
              "Hamilton        48    0        3\n",
              "Jay              0    4        1\n",
              "Madison          2    0       12"
            ],
            "text/html": [
              "\n",
              "  <div id=\"df-c7312056-6db8-4ba7-8797-09e8ba74c002\" class=\"colab-df-container\">\n",
              "    <div>\n",
              "<style scoped>\n",
              "    .dataframe tbody tr th:only-of-type {\n",
              "        vertical-align: middle;\n",
              "    }\n",
              "\n",
              "    .dataframe tbody tr th {\n",
              "        vertical-align: top;\n",
              "    }\n",
              "\n",
              "    .dataframe thead th {\n",
              "        text-align: right;\n",
              "    }\n",
              "</style>\n",
              "<table border=\"1\" class=\"dataframe\">\n",
              "  <thead>\n",
              "    <tr style=\"text-align: right;\">\n",
              "      <th></th>\n",
              "      <th>Hamilton</th>\n",
              "      <th>Jay</th>\n",
              "      <th>Madison</th>\n",
              "    </tr>\n",
              "  </thead>\n",
              "  <tbody>\n",
              "    <tr>\n",
              "      <th>Hamilton</th>\n",
              "      <td>48</td>\n",
              "      <td>0</td>\n",
              "      <td>3</td>\n",
              "    </tr>\n",
              "    <tr>\n",
              "      <th>Jay</th>\n",
              "      <td>0</td>\n",
              "      <td>4</td>\n",
              "      <td>1</td>\n",
              "    </tr>\n",
              "    <tr>\n",
              "      <th>Madison</th>\n",
              "      <td>2</td>\n",
              "      <td>0</td>\n",
              "      <td>12</td>\n",
              "    </tr>\n",
              "  </tbody>\n",
              "</table>\n",
              "</div>\n",
              "    <div class=\"colab-df-buttons\">\n",
              "\n",
              "  <div class=\"colab-df-container\">\n",
              "    <button class=\"colab-df-convert\" onclick=\"convertToInteractive('df-c7312056-6db8-4ba7-8797-09e8ba74c002')\"\n",
              "            title=\"Convert this dataframe to an interactive table.\"\n",
              "            style=\"display:none;\">\n",
              "\n",
              "  <svg xmlns=\"http://www.w3.org/2000/svg\" height=\"24px\" viewBox=\"0 -960 960 960\">\n",
              "    <path d=\"M120-120v-720h720v720H120Zm60-500h600v-160H180v160Zm220 220h160v-160H400v160Zm0 220h160v-160H400v160ZM180-400h160v-160H180v160Zm440 0h160v-160H620v160ZM180-180h160v-160H180v160Zm440 0h160v-160H620v160Z\"/>\n",
              "  </svg>\n",
              "    </button>\n",
              "\n",
              "  <style>\n",
              "    .colab-df-container {\n",
              "      display:flex;\n",
              "      gap: 12px;\n",
              "    }\n",
              "\n",
              "    .colab-df-convert {\n",
              "      background-color: #E8F0FE;\n",
              "      border: none;\n",
              "      border-radius: 50%;\n",
              "      cursor: pointer;\n",
              "      display: none;\n",
              "      fill: #1967D2;\n",
              "      height: 32px;\n",
              "      padding: 0 0 0 0;\n",
              "      width: 32px;\n",
              "    }\n",
              "\n",
              "    .colab-df-convert:hover {\n",
              "      background-color: #E2EBFA;\n",
              "      box-shadow: 0px 1px 2px rgba(60, 64, 67, 0.3), 0px 1px 3px 1px rgba(60, 64, 67, 0.15);\n",
              "      fill: #174EA6;\n",
              "    }\n",
              "\n",
              "    .colab-df-buttons div {\n",
              "      margin-bottom: 4px;\n",
              "    }\n",
              "\n",
              "    [theme=dark] .colab-df-convert {\n",
              "      background-color: #3B4455;\n",
              "      fill: #D2E3FC;\n",
              "    }\n",
              "\n",
              "    [theme=dark] .colab-df-convert:hover {\n",
              "      background-color: #434B5C;\n",
              "      box-shadow: 0px 1px 3px 1px rgba(0, 0, 0, 0.15);\n",
              "      filter: drop-shadow(0px 1px 2px rgba(0, 0, 0, 0.3));\n",
              "      fill: #FFFFFF;\n",
              "    }\n",
              "  </style>\n",
              "\n",
              "    <script>\n",
              "      const buttonEl =\n",
              "        document.querySelector('#df-c7312056-6db8-4ba7-8797-09e8ba74c002 button.colab-df-convert');\n",
              "      buttonEl.style.display =\n",
              "        google.colab.kernel.accessAllowed ? 'block' : 'none';\n",
              "\n",
              "      async function convertToInteractive(key) {\n",
              "        const element = document.querySelector('#df-c7312056-6db8-4ba7-8797-09e8ba74c002');\n",
              "        const dataTable =\n",
              "          await google.colab.kernel.invokeFunction('convertToInteractive',\n",
              "                                                    [key], {});\n",
              "        if (!dataTable) return;\n",
              "\n",
              "        const docLinkHtml = 'Like what you see? Visit the ' +\n",
              "          '<a target=\"_blank\" href=https://colab.research.google.com/notebooks/data_table.ipynb>data table notebook</a>'\n",
              "          + ' to learn more about interactive tables.';\n",
              "        element.innerHTML = '';\n",
              "        dataTable['output_type'] = 'display_data';\n",
              "        await google.colab.output.renderOutput(dataTable, element);\n",
              "        const docLink = document.createElement('div');\n",
              "        docLink.innerHTML = docLinkHtml;\n",
              "        element.appendChild(docLink);\n",
              "      }\n",
              "    </script>\n",
              "  </div>\n",
              "\n",
              "\n",
              "<div id=\"df-36dd2cd8-622a-481e-8bee-4662fc11b07a\">\n",
              "  <button class=\"colab-df-quickchart\" onclick=\"quickchart('df-36dd2cd8-622a-481e-8bee-4662fc11b07a')\"\n",
              "            title=\"Suggest charts\"\n",
              "            style=\"display:none;\">\n",
              "\n",
              "<svg xmlns=\"http://www.w3.org/2000/svg\" height=\"24px\"viewBox=\"0 0 24 24\"\n",
              "     width=\"24px\">\n",
              "    <g>\n",
              "        <path d=\"M19 3H5c-1.1 0-2 .9-2 2v14c0 1.1.9 2 2 2h14c1.1 0 2-.9 2-2V5c0-1.1-.9-2-2-2zM9 17H7v-7h2v7zm4 0h-2V7h2v10zm4 0h-2v-4h2v4z\"/>\n",
              "    </g>\n",
              "</svg>\n",
              "  </button>\n",
              "\n",
              "<style>\n",
              "  .colab-df-quickchart {\n",
              "      --bg-color: #E8F0FE;\n",
              "      --fill-color: #1967D2;\n",
              "      --hover-bg-color: #E2EBFA;\n",
              "      --hover-fill-color: #174EA6;\n",
              "      --disabled-fill-color: #AAA;\n",
              "      --disabled-bg-color: #DDD;\n",
              "  }\n",
              "\n",
              "  [theme=dark] .colab-df-quickchart {\n",
              "      --bg-color: #3B4455;\n",
              "      --fill-color: #D2E3FC;\n",
              "      --hover-bg-color: #434B5C;\n",
              "      --hover-fill-color: #FFFFFF;\n",
              "      --disabled-bg-color: #3B4455;\n",
              "      --disabled-fill-color: #666;\n",
              "  }\n",
              "\n",
              "  .colab-df-quickchart {\n",
              "    background-color: var(--bg-color);\n",
              "    border: none;\n",
              "    border-radius: 50%;\n",
              "    cursor: pointer;\n",
              "    display: none;\n",
              "    fill: var(--fill-color);\n",
              "    height: 32px;\n",
              "    padding: 0;\n",
              "    width: 32px;\n",
              "  }\n",
              "\n",
              "  .colab-df-quickchart:hover {\n",
              "    background-color: var(--hover-bg-color);\n",
              "    box-shadow: 0 1px 2px rgba(60, 64, 67, 0.3), 0 1px 3px 1px rgba(60, 64, 67, 0.15);\n",
              "    fill: var(--button-hover-fill-color);\n",
              "  }\n",
              "\n",
              "  .colab-df-quickchart-complete:disabled,\n",
              "  .colab-df-quickchart-complete:disabled:hover {\n",
              "    background-color: var(--disabled-bg-color);\n",
              "    fill: var(--disabled-fill-color);\n",
              "    box-shadow: none;\n",
              "  }\n",
              "\n",
              "  .colab-df-spinner {\n",
              "    border: 2px solid var(--fill-color);\n",
              "    border-color: transparent;\n",
              "    border-bottom-color: var(--fill-color);\n",
              "    animation:\n",
              "      spin 1s steps(1) infinite;\n",
              "  }\n",
              "\n",
              "  @keyframes spin {\n",
              "    0% {\n",
              "      border-color: transparent;\n",
              "      border-bottom-color: var(--fill-color);\n",
              "      border-left-color: var(--fill-color);\n",
              "    }\n",
              "    20% {\n",
              "      border-color: transparent;\n",
              "      border-left-color: var(--fill-color);\n",
              "      border-top-color: var(--fill-color);\n",
              "    }\n",
              "    30% {\n",
              "      border-color: transparent;\n",
              "      border-left-color: var(--fill-color);\n",
              "      border-top-color: var(--fill-color);\n",
              "      border-right-color: var(--fill-color);\n",
              "    }\n",
              "    40% {\n",
              "      border-color: transparent;\n",
              "      border-right-color: var(--fill-color);\n",
              "      border-top-color: var(--fill-color);\n",
              "    }\n",
              "    60% {\n",
              "      border-color: transparent;\n",
              "      border-right-color: var(--fill-color);\n",
              "    }\n",
              "    80% {\n",
              "      border-color: transparent;\n",
              "      border-right-color: var(--fill-color);\n",
              "      border-bottom-color: var(--fill-color);\n",
              "    }\n",
              "    90% {\n",
              "      border-color: transparent;\n",
              "      border-bottom-color: var(--fill-color);\n",
              "    }\n",
              "  }\n",
              "</style>\n",
              "\n",
              "  <script>\n",
              "    async function quickchart(key) {\n",
              "      const quickchartButtonEl =\n",
              "        document.querySelector('#' + key + ' button');\n",
              "      quickchartButtonEl.disabled = true;  // To prevent multiple clicks.\n",
              "      quickchartButtonEl.classList.add('colab-df-spinner');\n",
              "      try {\n",
              "        const charts = await google.colab.kernel.invokeFunction(\n",
              "            'suggestCharts', [key], {});\n",
              "      } catch (error) {\n",
              "        console.error('Error during call to suggestCharts:', error);\n",
              "      }\n",
              "      quickchartButtonEl.classList.remove('colab-df-spinner');\n",
              "      quickchartButtonEl.classList.add('colab-df-quickchart-complete');\n",
              "    }\n",
              "    (() => {\n",
              "      let quickchartButtonEl =\n",
              "        document.querySelector('#df-36dd2cd8-622a-481e-8bee-4662fc11b07a button');\n",
              "      quickchartButtonEl.style.display =\n",
              "        google.colab.kernel.accessAllowed ? 'block' : 'none';\n",
              "    })();\n",
              "  </script>\n",
              "</div>\n",
              "    </div>\n",
              "  </div>\n"
            ]
          },
          "metadata": {},
          "execution_count": 13
        }
      ]
    },
    {
      "cell_type": "markdown",
      "source": [
        "_Calculate the accuracy using the confusion matrix._\n",
        "\n",
        "To calculate the accuracy using the confusion matrix, we need to add up all the values along the diagonal, and divide that over the total sum off all the values in the matrix. This creates a proportion of accurate estimates, which are those along the diagonal, out of all estimates in the matrix, which is the accuracy proportion. In matrix theory, the sum of the diagonals is called the trace. Here, I will use numpy to calculate the trace, and divide it by the total sum of values in the confusion matrix."
      ],
      "metadata": {
        "id": "_URQi27qO9Ct"
      }
    },
    {
      "cell_type": "code",
      "source": [
        "# execute the above formula\n",
        "correct_predictions = np.trace(c_matrix)\n",
        "total_predictions = c_matrix.sum()\n",
        "c_matrix_accuracy = correct_predictions / total_predictions\n",
        "c_matrix_accuracy"
      ],
      "metadata": {
        "colab": {
          "base_uri": "https://localhost:8080/"
        },
        "id": "bMVeZcNHQY-F",
        "outputId": "89d22998-fbf2-4501-ca78-a7ac9df19399"
      },
      "execution_count": null,
      "outputs": [
        {
          "output_type": "execute_result",
          "data": {
            "text/plain": [
              "0.9142857142857143"
            ]
          },
          "metadata": {},
          "execution_count": 14
        }
      ]
    },
    {
      "cell_type": "markdown",
      "source": [
        "Here again we get an accuracy of 91.4%, which is the same accuracy we calculated above."
      ],
      "metadata": {
        "id": "Nttv2SaYRDvk"
      }
    },
    {
      "cell_type": "markdown",
      "metadata": {
        "id": "fh0DzmKrBLUT"
      },
      "source": [
        "## Question 2\n",
        "\n",
        "Instead of attributing each document to the author of the closest other document, suppose that we base the attribution on the authors of the $k$ closest other documents by \"voting\". (For example, if 3\n",
        "of the $k=5$ closest documents were written by Hamilton, 1 by Madison, and 1 by Jay, then we would attribute that document to Hamilton.)\n",
        "\n",
        "Let's first try this on documents with _known_ authorship. For different values of $k$:\n",
        "\n",
        "- determine the attribution of each document based on the $k$ closest other documents\n",
        "- calculate the accuracy.\n",
        "\n",
        "Make a line graph showing the accuracy as a function of $k$. Which value of $k$ is best?\n",
        "\n",
        "[_Note:_ You are not allowed to use `sklearn.neighbors.KNeighborsClassifier` to do this exercise!]"
      ]
    },
    {
      "cell_type": "code",
      "source": [
        "import matplotlib.pyplot as plt"
      ],
      "metadata": {
        "id": "5-RACaoiVAwl"
      },
      "execution_count": null,
      "outputs": []
    },
    {
      "cell_type": "code",
      "source": [
        "def find_accuracy(k):\n",
        "  # find k-nearest neighbors on our undisputed_pairs_matrix from earlier\n",
        "  undisputed_pairs = np.argsort(undisputed_pairs_matrix, axis=1)[:, :k]\n",
        "\n",
        "  # find each k-group's most common authors and create a list\n",
        "  undisputed_pairs_authors = pd.Series(undisputed_df.loc[index, \"Author\"] for index in undisputed_pairs)\n",
        "  undisputed_pairs_authors_mode = pd.Series(index.mode().iat[0] for index in undisputed_pairs_authors)\n",
        "  undisputed_pairs_authors_mode = undisputed_pairs_authors_mode.tolist()\n",
        "\n",
        "  # put new list into df and calculate accuracy\n",
        "  undisputed_df_2 = undisputed_df\n",
        "  undisputed_df_2[\"Predicted Author\"] = undisputed_pairs_authors_mode\n",
        "  undisputed_df_2[\"Correct Prediction\"] = undisputed_df_2[\"Author\"] == undisputed_df_2[\"Predicted Author\"]\n",
        "  accuracy = undisputed_df_2[\"Correct Prediction\"].sum() / len(undisputed_df_2)\n",
        "  return accuracy"
      ],
      "metadata": {
        "id": "i-A3N_27H8si"
      },
      "execution_count": null,
      "outputs": []
    },
    {
      "cell_type": "code",
      "source": [
        "# graph accuracy by value\n",
        "x_values = []\n",
        "y_values = []\n",
        "\n",
        "for i in range(1, 11):\n",
        "  x_values.append(i)\n",
        "  y_values.append(find_accuracy(i))\n",
        "\n",
        "plt.plot(x_values, y_values, linestyle=\"-\")\n",
        "plt.xlabel(\"K-nearest neighbors\")\n",
        "plt.ylabel(\"Paper Author Accuracy\")\n",
        "plt.title(\"Federalist Papers author prediction accuracy using k-nearest neighbors\")\n",
        "plt.show()"
      ],
      "metadata": {
        "colab": {
          "base_uri": "https://localhost:8080/",
          "height": 472
        },
        "id": "wTxsI7z7IRDk",
        "outputId": "8821af99-5008-4862-b39a-324c05c82a85"
      },
      "execution_count": null,
      "outputs": [
        {
          "output_type": "display_data",
          "data": {
            "text/plain": [
              "<Figure size 640x480 with 1 Axes>"
            ],
            "image/png": "[encoded data removed]"
          },
          "metadata": {}
        }
      ]
    },
    {
      "cell_type": "markdown",
      "source": [
        "_Which value of $k$ is best?_\n",
        "\n",
        "Based on the peak in the graph, we can see that using a k-value of 5, or the 5 nearest neighbors, returns the most accurate estimate at around 95.8%."
      ],
      "metadata": {
        "id": "cfTsAguMHC8M"
      }
    },
    {
      "cell_type": "markdown",
      "source": [
        "## Question 3\n",
        "\n",
        "Now, use the best value of $k$ that you found in Question 2, and attribute the _disputed_ documents based on the $k$ closest documents with _known_ authorship."
      ],
      "metadata": {
        "id": "jQP9XgGaih7A"
      }
    },
    {
      "cell_type": "code",
      "source": [
        "# Use methodology from last few questions:)\n",
        "disputed_df = authors_df[pd.isna(authors_df[\"Author\"])].reset_index()\n",
        "disputed_indices = list(disputed_df[\"index\"])\n",
        "disputed_papers = tf_df.iloc[disputed_indices]\n",
        "\n",
        "#create array of closest undisputed papers to each disputed paper\n",
        "from sklearn.feature_extraction.text import TfidfVectorizer\n",
        "from sklearn.metrics import pairwise_distances\n",
        "import numpy as np\n",
        "\n",
        "vec = TfidfVectorizer()\n",
        "vec.fit(disputed_papers)\n",
        "vec.transform(disputed_papers)\n",
        "\n",
        "vec.fit(undisputed_papers)\n",
        "vec.transform(undisputed_papers)\n",
        "\n",
        "#create distance matrix\n",
        "disputed_pairs_matrix = pairwise_distances(disputed_papers, undisputed_papers,\n",
        "                                      metric=\"cosine\")\n",
        "\n",
        "# find k-nearest neighbors on our matrix\n",
        "disputed_pairs = np.argsort(disputed_pairs_matrix, axis=1)[:, :5]\n",
        "\n",
        "# find each 5-group's most common authors and create a list\n",
        "disputed_pairs_authors = pd.Series(undisputed_df.loc[index, \"Author\"] for index in disputed_pairs)\n",
        "disputed_pairs_authors_mode = pd.Series(index.mode().iat[0] for index in disputed_pairs_authors)\n",
        "disputed_pairs_authors_mode = disputed_pairs_authors_mode.tolist()\n",
        "\n",
        "\n",
        "# put new list into df\n",
        "disputed_df_2 = disputed_df\n",
        "disputed_df_2[\"Predicted Author\"] = disputed_pairs_authors_mode\n",
        "disputed_df_2"
      ],
      "metadata": {
        "id": "Y7vKhcTzihyS",
        "colab": {
          "base_uri": "https://localhost:8080/",
          "height": 520
        },
        "outputId": "526d0e40-700f-4d69-c1ec-c2b9bf292d24"
      },
      "execution_count": null,
      "outputs": [
        {
          "output_type": "execute_result",
          "data": {
            "text/plain": [
              "    index  Paper Author Predicted Author\n",
              "0      17     18    NaN          Madison\n",
              "1      18     19    NaN          Madison\n",
              "2      19     20    NaN          Madison\n",
              "3      48     49    NaN         Hamilton\n",
              "4      49     50    NaN          Madison\n",
              "5      50     51    NaN          Madison\n",
              "6      51     52    NaN         Hamilton\n",
              "7      52     53    NaN          Madison\n",
              "8      53     54    NaN          Madison\n",
              "9      54     55    NaN         Hamilton\n",
              "10     55     56    NaN         Hamilton\n",
              "11     56     57    NaN          Madison\n",
              "12     57     58    NaN          Madison\n",
              "13     61     62    NaN         Hamilton\n",
              "14     62     63    NaN          Madison"
            ],
            "text/html": [
              "\n",
              "  <div id=\"df-450a3a86-e418-4d3b-a2f5-0ec8dcad03a1\" class=\"colab-df-container\">\n",
              "    <div>\n",
              "<style scoped>\n",
              "    .dataframe tbody tr th:only-of-type {\n",
              "        vertical-align: middle;\n",
              "    }\n",
              "\n",
              "    .dataframe tbody tr th {\n",
              "        vertical-align: top;\n",
              "    }\n",
              "\n",
              "    .dataframe thead th {\n",
              "        text-align: right;\n",
              "    }\n",
              "</style>\n",
              "<table border=\"1\" class=\"dataframe\">\n",
              "  <thead>\n",
              "    <tr style=\"text-align: right;\">\n",
              "      <th></th>\n",
              "      <th>index</th>\n",
              "      <th>Paper</th>\n",
              "      <th>Author</th>\n",
              "      <th>Predicted Author</th>\n",
              "    </tr>\n",
              "  </thead>\n",
              "  <tbody>\n",
              "    <tr>\n",
              "      <th>0</th>\n",
              "      <td>17</td>\n",
              "      <td>18</td>\n",
              "      <td>NaN</td>\n",
              "      <td>Madison</td>\n",
              "    </tr>\n",
              "    <tr>\n",
              "      <th>1</th>\n",
              "      <td>18</td>\n",
              "      <td>19</td>\n",
              "      <td>NaN</td>\n",
              "      <td>Madison</td>\n",
              "    </tr>\n",
              "    <tr>\n",
              "      <th>2</th>\n",
              "      <td>19</td>\n",
              "      <td>20</td>\n",
              "      <td>NaN</td>\n",
              "      <td>Madison</td>\n",
              "    </tr>\n",
              "    <tr>\n",
              "      <th>3</th>\n",
              "      <td>48</td>\n",
              "      <td>49</td>\n",
              "      <td>NaN</td>\n",
              "      <td>Hamilton</td>\n",
              "    </tr>\n",
              "    <tr>\n",
              "      <th>4</th>\n",
              "      <td>49</td>\n",
              "      <td>50</td>\n",
              "      <td>NaN</td>\n",
              "      <td>Madison</td>\n",
              "    </tr>\n",
              "    <tr>\n",
              "      <th>5</th>\n",
              "      <td>50</td>\n",
              "      <td>51</td>\n",
              "      <td>NaN</td>\n",
              "      <td>Madison</td>\n",
              "    </tr>\n",
              "    <tr>\n",
              "      <th>6</th>\n",
              "      <td>51</td>\n",
              "      <td>52</td>\n",
              "      <td>NaN</td>\n",
              "      <td>Hamilton</td>\n",
              "    </tr>\n",
              "    <tr>\n",
              "      <th>7</th>\n",
              "      <td>52</td>\n",
              "      <td>53</td>\n",
              "      <td>NaN</td>\n",
              "      <td>Madison</td>\n",
              "    </tr>\n",
              "    <tr>\n",
              "      <th>8</th>\n",
              "      <td>53</td>\n",
              "      <td>54</td>\n",
              "      <td>NaN</td>\n",
              "      <td>Madison</td>\n",
              "    </tr>\n",
              "    <tr>\n",
              "      <th>9</th>\n",
              "      <td>54</td>\n",
              "      <td>55</td>\n",
              "      <td>NaN</td>\n",
              "      <td>Hamilton</td>\n",
              "    </tr>\n",
              "    <tr>\n",
              "      <th>10</th>\n",
              "      <td>55</td>\n",
              "      <td>56</td>\n",
              "      <td>NaN</td>\n",
              "      <td>Hamilton</td>\n",
              "    </tr>\n",
              "    <tr>\n",
              "      <th>11</th>\n",
              "      <td>56</td>\n",
              "      <td>57</td>\n",
              "      <td>NaN</td>\n",
              "      <td>Madison</td>\n",
              "    </tr>\n",
              "    <tr>\n",
              "      <th>12</th>\n",
              "      <td>57</td>\n",
              "      <td>58</td>\n",
              "      <td>NaN</td>\n",
              "      <td>Madison</td>\n",
              "    </tr>\n",
              "    <tr>\n",
              "      <th>13</th>\n",
              "      <td>61</td>\n",
              "      <td>62</td>\n",
              "      <td>NaN</td>\n",
              "      <td>Hamilton</td>\n",
              "    </tr>\n",
              "    <tr>\n",
              "      <th>14</th>\n",
              "      <td>62</td>\n",
              "      <td>63</td>\n",
              "      <td>NaN</td>\n",
              "      <td>Madison</td>\n",
              "    </tr>\n",
              "  </tbody>\n",
              "</table>\n",
              "</div>\n",
              "    <div class=\"colab-df-buttons\">\n",
              "\n",
              "  <div class=\"colab-df-container\">\n",
              "    <button class=\"colab-df-convert\" onclick=\"convertToInteractive('df-450a3a86-e418-4d3b-a2f5-0ec8dcad03a1')\"\n",
              "            title=\"Convert this dataframe to an interactive table.\"\n",
              "            style=\"display:none;\">\n",
              "\n",
              "  <svg xmlns=\"http://www.w3.org/2000/svg\" height=\"24px\" viewBox=\"0 -960 960 960\">\n",
              "    <path d=\"M120-120v-720h720v720H120Zm60-500h600v-160H180v160Zm220 220h160v-160H400v160Zm0 220h160v-160H400v160ZM180-400h160v-160H180v160Zm440 0h160v-160H620v160ZM180-180h160v-160H180v160Zm440 0h160v-160H620v160Z\"/>\n",
              "  </svg>\n",
              "    </button>\n",
              "\n",
              "  <style>\n",
              "    .colab-df-container {\n",
              "      display:flex;\n",
              "      gap: 12px;\n",
              "    }\n",
              "\n",
              "    .colab-df-convert {\n",
              "      background-color: #E8F0FE;\n",
              "      border: none;\n",
              "      border-radius: 50%;\n",
              "      cursor: pointer;\n",
              "      display: none;\n",
              "      fill: #1967D2;\n",
              "      height: 32px;\n",
              "      padding: 0 0 0 0;\n",
              "      width: 32px;\n",
              "    }\n",
              "\n",
              "    .colab-df-convert:hover {\n",
              "      background-color: #E2EBFA;\n",
              "      box-shadow: 0px 1px 2px rgba(60, 64, 67, 0.3), 0px 1px 3px 1px rgba(60, 64, 67, 0.15);\n",
              "      fill: #174EA6;\n",
              "    }\n",
              "\n",
              "    .colab-df-buttons div {\n",
              "      margin-bottom: 4px;\n",
              "    }\n",
              "\n",
              "    [theme=dark] .colab-df-convert {\n",
              "      background-color: #3B4455;\n",
              "      fill: #D2E3FC;\n",
              "    }\n",
              "\n",
              "    [theme=dark] .colab-df-convert:hover {\n",
              "      background-color: #434B5C;\n",
              "      box-shadow: 0px 1px 3px 1px rgba(0, 0, 0, 0.15);\n",
              "      filter: drop-shadow(0px 1px 2px rgba(0, 0, 0, 0.3));\n",
              "      fill: #FFFFFF;\n",
              "    }\n",
              "  </style>\n",
              "\n",
              "    <script>\n",
              "      const buttonEl =\n",
              "        document.querySelector('#df-450a3a86-e418-4d3b-a2f5-0ec8dcad03a1 button.colab-df-convert');\n",
              "      buttonEl.style.display =\n",
              "        google.colab.kernel.accessAllowed ? 'block' : 'none';\n",
              "\n",
              "      async function convertToInteractive(key) {\n",
              "        const element = document.querySelector('#df-450a3a86-e418-4d3b-a2f5-0ec8dcad03a1');\n",
              "        const dataTable =\n",
              "          await google.colab.kernel.invokeFunction('convertToInteractive',\n",
              "                                                    [key], {});\n",
              "        if (!dataTable) return;\n",
              "\n",
              "        const docLinkHtml = 'Like what you see? Visit the ' +\n",
              "          '<a target=\"_blank\" href=https://colab.research.google.com/notebooks/data_table.ipynb>data table notebook</a>'\n",
              "          + ' to learn more about interactive tables.';\n",
              "        element.innerHTML = '';\n",
              "        dataTable['output_type'] = 'display_data';\n",
              "        await google.colab.output.renderOutput(dataTable, element);\n",
              "        const docLink = document.createElement('div');\n",
              "        docLink.innerHTML = docLinkHtml;\n",
              "        element.appendChild(docLink);\n",
              "      }\n",
              "    </script>\n",
              "  </div>\n",
              "\n",
              "\n",
              "<div id=\"df-b87a9085-2240-450c-9c37-c5fd9f4249e7\">\n",
              "  <button class=\"colab-df-quickchart\" onclick=\"quickchart('df-b87a9085-2240-450c-9c37-c5fd9f4249e7')\"\n",
              "            title=\"Suggest charts\"\n",
              "            style=\"display:none;\">\n",
              "\n",
              "<svg xmlns=\"http://www.w3.org/2000/svg\" height=\"24px\"viewBox=\"0 0 24 24\"\n",
              "     width=\"24px\">\n",
              "    <g>\n",
              "        <path d=\"M19 3H5c-1.1 0-2 .9-2 2v14c0 1.1.9 2 2 2h14c1.1 0 2-.9 2-2V5c0-1.1-.9-2-2-2zM9 17H7v-7h2v7zm4 0h-2V7h2v10zm4 0h-2v-4h2v4z\"/>\n",
              "    </g>\n",
              "</svg>\n",
              "  </button>\n",
              "\n",
              "<style>\n",
              "  .colab-df-quickchart {\n",
              "      --bg-color: #E8F0FE;\n",
              "      --fill-color: #1967D2;\n",
              "      --hover-bg-color: #E2EBFA;\n",
              "      --hover-fill-color: #174EA6;\n",
              "      --disabled-fill-color: #AAA;\n",
              "      --disabled-bg-color: #DDD;\n",
              "  }\n",
              "\n",
              "  [theme=dark] .colab-df-quickchart {\n",
              "      --bg-color: #3B4455;\n",
              "      --fill-color: #D2E3FC;\n",
              "      --hover-bg-color: #434B5C;\n",
              "      --hover-fill-color: #FFFFFF;\n",
              "      --disabled-bg-color: #3B4455;\n",
              "      --disabled-fill-color: #666;\n",
              "  }\n",
              "\n",
              "  .colab-df-quickchart {\n",
              "    background-color: var(--bg-color);\n",
              "    border: none;\n",
              "    border-radius: 50%;\n",
              "    cursor: pointer;\n",
              "    display: none;\n",
              "    fill: var(--fill-color);\n",
              "    height: 32px;\n",
              "    padding: 0;\n",
              "    width: 32px;\n",
              "  }\n",
              "\n",
              "  .colab-df-quickchart:hover {\n",
              "    background-color: var(--hover-bg-color);\n",
              "    box-shadow: 0 1px 2px rgba(60, 64, 67, 0.3), 0 1px 3px 1px rgba(60, 64, 67, 0.15);\n",
              "    fill: var(--button-hover-fill-color);\n",
              "  }\n",
              "\n",
              "  .colab-df-quickchart-complete:disabled,\n",
              "  .colab-df-quickchart-complete:disabled:hover {\n",
              "    background-color: var(--disabled-bg-color);\n",
              "    fill: var(--disabled-fill-color);\n",
              "    box-shadow: none;\n",
              "  }\n",
              "\n",
              "  .colab-df-spinner {\n",
              "    border: 2px solid var(--fill-color);\n",
              "    border-color: transparent;\n",
              "    border-bottom-color: var(--fill-color);\n",
              "    animation:\n",
              "      spin 1s steps(1) infinite;\n",
              "  }\n",
              "\n",
              "  @keyframes spin {\n",
              "    0% {\n",
              "      border-color: transparent;\n",
              "      border-bottom-color: var(--fill-color);\n",
              "      border-left-color: var(--fill-color);\n",
              "    }\n",
              "    20% {\n",
              "      border-color: transparent;\n",
              "      border-left-color: var(--fill-color);\n",
              "      border-top-color: var(--fill-color);\n",
              "    }\n",
              "    30% {\n",
              "      border-color: transparent;\n",
              "      border-left-color: var(--fill-color);\n",
              "      border-top-color: var(--fill-color);\n",
              "      border-right-color: var(--fill-color);\n",
              "    }\n",
              "    40% {\n",
              "      border-color: transparent;\n",
              "      border-right-color: var(--fill-color);\n",
              "      border-top-color: var(--fill-color);\n",
              "    }\n",
              "    60% {\n",
              "      border-color: transparent;\n",
              "      border-right-color: var(--fill-color);\n",
              "    }\n",
              "    80% {\n",
              "      border-color: transparent;\n",
              "      border-right-color: var(--fill-color);\n",
              "      border-bottom-color: var(--fill-color);\n",
              "    }\n",
              "    90% {\n",
              "      border-color: transparent;\n",
              "      border-bottom-color: var(--fill-color);\n",
              "    }\n",
              "  }\n",
              "</style>\n",
              "\n",
              "  <script>\n",
              "    async function quickchart(key) {\n",
              "      const quickchartButtonEl =\n",
              "        document.querySelector('#' + key + ' button');\n",
              "      quickchartButtonEl.disabled = true;  // To prevent multiple clicks.\n",
              "      quickchartButtonEl.classList.add('colab-df-spinner');\n",
              "      try {\n",
              "        const charts = await google.colab.kernel.invokeFunction(\n",
              "            'suggestCharts', [key], {});\n",
              "      } catch (error) {\n",
              "        console.error('Error during call to suggestCharts:', error);\n",
              "      }\n",
              "      quickchartButtonEl.classList.remove('colab-df-spinner');\n",
              "      quickchartButtonEl.classList.add('colab-df-quickchart-complete');\n",
              "    }\n",
              "    (() => {\n",
              "      let quickchartButtonEl =\n",
              "        document.querySelector('#df-b87a9085-2240-450c-9c37-c5fd9f4249e7 button');\n",
              "      quickchartButtonEl.style.display =\n",
              "        google.colab.kernel.accessAllowed ? 'block' : 'none';\n",
              "    })();\n",
              "  </script>\n",
              "</div>\n",
              "    </div>\n",
              "  </div>\n"
            ]
          },
          "metadata": {},
          "execution_count": 11
        }
      ]
    },
    {
      "cell_type": "markdown",
      "source": [
        "_YOUR CONCLUSION HERE_\n",
        "\n",
        "With this new method, I get the above predictions as to who wrote each disputed paper. The 5-nearest neighbors of each disputed paper appear to be very different than the predicted outcomes from the first part of the lab, just based off of the 1-nearest neighbor (aka the most similar paper). We can see that John Jay gets a lot less credit, and Madison gets a lot more with this new method. I also notice that authors are a lot less clustered by index with this new method."
      ],
      "metadata": {
        "id": "JogZVsVMjlr6"
      }
    },
    {
      "cell_type": "markdown",
      "metadata": {
        "id": "8Ng3BgkXBLUw"
      },
      "source": [
        "## Submission Instructions\n",
        "\n",
        "- Restart this notebook and run the cells from beginning to end.\n",
        "  - Go to Runtime > Restart and Run All."
      ]
    },
    {
      "cell_type": "code",
      "source": [
        "# @markdown Run this cell to download this notebook as a webpage, `_NOTEBOOK.html`.\n",
        "\n",
        "import google, json, nbformat\n",
        "\n",
        "# Get the current notebook and write it to _NOTEBOOK.ipynb\n",
        "raw_notebook = google.colab._message.blocking_request(\"get_ipynb\",\n",
        "                                                      timeout_sec=30)[\"ipynb\"]\n",
        "with open(\"_NOTEBOOK.ipynb\", \"w\", encoding=\"utf-8\") as ipynb_file:\n",
        "  ipynb_file.write(json.dumps(raw_notebook))\n",
        "\n",
        "# Use nbconvert to convert .ipynb to .html.\n",
        "!jupyter nbconvert --to html --log-level WARN _NOTEBOOK.ipynb\n",
        "\n",
        "# Download the .html file.\n",
        "google.colab.files.download(\"_NOTEBOOK.html\")"
      ],
      "metadata": {
        "cellView": "form",
        "id": "VAMYJu39IzRK",
        "colab": {
          "base_uri": "https://localhost:8080/",
          "height": 17
        },
        "outputId": "bfe39dda-178f-4fe2-af00-094fd9816f97"
      },
      "execution_count": null,
      "outputs": [
        {
          "output_type": "display_data",
          "data": {
            "text/plain": [
              "<IPython.core.display.Javascript object>"
            ],
            "application/javascript": [
              "\n",
              "    async function download(id, filename, size) {\n",
              "      if (!google.colab.kernel.accessAllowed) {\n",
              "        return;\n",
              "      }\n",
              "      const div = document.createElement('div');\n",
              "      const label = document.createElement('label');\n",
              "      label.textContent = `Downloading \"${filename}\": `;\n",
              "      div.appendChild(label);\n",
              "      const progress = document.createElement('progress');\n",
              "      progress.max = size;\n",
              "      div.appendChild(progress);\n",
              "      document.body.appendChild(div);\n",
              "\n",
              "      const buffers = [];\n",
              "      let downloaded = 0;\n",
              "\n",
              "      const channel = await google.colab.kernel.comms.open(id);\n",
              "      // Send a message to notify the kernel that we're ready.\n",
              "      channel.send({})\n",
              "\n",
              "      for await (const message of channel.messages) {\n",
              "        // Send a message to notify the kernel that we're ready.\n",
              "        channel.send({})\n",
              "        if (message.buffers) {\n",
              "          for (const buffer of message.buffers) {\n",
              "            buffers.push(buffer);\n",
              "            downloaded += buffer.byteLength;\n",
              "            progress.value = downloaded;\n",
              "          }\n",
              "        }\n",
              "      }\n",
              "      const blob = new Blob(buffers, {type: 'application/binary'});\n",
              "      const a = document.createElement('a');\n",
              "      a.href = window.URL.createObjectURL(blob);\n",
              "      a.download = filename;\n",
              "      div.appendChild(a);\n",
              "      a.click();\n",
              "      div.remove();\n",
              "    }\n",
              "  "
            ]
          },
          "metadata": {}
        },
        {
          "output_type": "display_data",
          "data": {
            "text/plain": [
              "<IPython.core.display.Javascript object>"
            ],
            "application/javascript": [
              "download(\"download_e53f68d8-43ec-402c-b28b-b8efe20a8fe0\", \"_NOTEBOOK.html\", 677672)"
            ]
          },
          "metadata": {}
        }
      ]
    },
    {
      "cell_type": "markdown",
      "source": [
        "- Open `_NOTEBOOK.html` in your browser, and save it as a PDF.\n",
        "    - Go to File > Print > Save as PDF.\n",
        "- Double check that all of your code and output is visible in the saved PDF.\n",
        "- Upload the PDF to [Gradescope](https://www.gradescope.com/courses/694907).\n",
        "    - Please be sure to select the correct pages corresponding to each question."
      ],
      "metadata": {
        "id": "n_y7H-YEI1xi"
      }
    }
  ]
}
