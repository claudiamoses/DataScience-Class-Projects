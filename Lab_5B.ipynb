{
  "nbformat": 4,
  "nbformat_minor": 0,
  "metadata": {
    "kernelspec": {
      "display_name": "Python 3",
      "language": "python",
      "name": "python3"
    },
    "language_info": {
      "codemirror_mode": {
        "name": "ipython",
        "version": 3
      },
      "file_extension": ".py",
      "mimetype": "text/x-python",
      "name": "python",
      "nbconvert_exporter": "python",
      "pygments_lexer": "ipython3",
      "version": "3.6.8"
    },
    "colab": {
      "provenance": [],
      "include_colab_link": true
    }
  },
  "cells": [
    {
      "cell_type": "markdown",
      "metadata": {
        "id": "view-in-github",
        "colab_type": "text"
      },
      "source": [
        "<a href=\"https://colab.research.google.com/github/claudiamoses/DataScience-Class-Projects/blob/main/Copy_of_DATASCI_112_Lab_5B.ipynb\" target=\"_parent\"><img src=\"https://colab.research.google.com/assets/colab-badge.svg\" alt=\"Open In Colab\"/></a>"
      ]
    },
    {
      "cell_type": "markdown",
      "metadata": {
        "id": "ByynuurZOPFd"
      },
      "source": [
        "# Song Lyrics Generator\n",
        "\n",
        "In Part A of this lab, you scraped a website to get the lyrics of songs by your favorite artist.\n",
        "\n",
        "In this part, you will train a model called a Markov chain on those lyrics, and generate a song in the style of your favorite artist."
      ]
    },
    {
      "cell_type": "markdown",
      "source": [
        "## Question 0. Read in the Data\n",
        "\n",
        "In Part A, you saved a `DataFrame` of songs by your favorite artist to a CSV file. Read in that CSV file here."
      ],
      "metadata": {
        "id": "Eh_Rk07HtJEu"
      }
    },
    {
      "cell_type": "code",
      "source": [
        "# TODO: Upload and read in your data from the CSV file\n",
        "import pandas as pd\n",
        "path = \"/content/Stevie.csv\"\n",
        "df = pd.read_csv(path)\n",
        "df.head(5)"
      ],
      "metadata": {
        "id": "YT4FmjNBtI7m",
        "colab": {
          "base_uri": "https://localhost:8080/",
          "height": 206
        },
        "outputId": "fb8f7d99-8fab-4fed-8039-d412b4bd949c"
      },
      "execution_count": null,
      "outputs": [
        {
          "output_type": "execute_result",
          "data": {
            "text/plain": [
              "                      Song                                             Lyrics\n",
              "0     Affairs of the Heart  One set of doors was the color of honey One se...\n",
              "1  After the Glitter Fades  Well I never thought I'd make it Here in Holly...\n",
              "2                    Alice  Well I heard she flew down to the Mountain Cit...\n",
              "3       The Apartment Song   I used to live in a two room apartment   Neig...\n",
              "4                    Angel  Sometimes The most beautiful things The most i..."
            ],
            "text/html": [
              "\n",
              "  <div id=\"df-6a35829c-3889-41ca-872d-7011947d217b\" class=\"colab-df-container\">\n",
              "    <div>\n",
              "<style scoped>\n",
              "    .dataframe tbody tr th:only-of-type {\n",
              "        vertical-align: middle;\n",
              "    }\n",
              "\n",
              "    .dataframe tbody tr th {\n",
              "        vertical-align: top;\n",
              "    }\n",
              "\n",
              "    .dataframe thead th {\n",
              "        text-align: right;\n",
              "    }\n",
              "</style>\n",
              "<table border=\"1\" class=\"dataframe\">\n",
              "  <thead>\n",
              "    <tr style=\"text-align: right;\">\n",
              "      <th></th>\n",
              "      <th>Song</th>\n",
              "      <th>Lyrics</th>\n",
              "    </tr>\n",
              "  </thead>\n",
              "  <tbody>\n",
              "    <tr>\n",
              "      <th>0</th>\n",
              "      <td>Affairs of the Heart</td>\n",
              "      <td>One set of doors was the color of honey One se...</td>\n",
              "    </tr>\n",
              "    <tr>\n",
              "      <th>1</th>\n",
              "      <td>After the Glitter Fades</td>\n",
              "      <td>Well I never thought I'd make it Here in Holly...</td>\n",
              "    </tr>\n",
              "    <tr>\n",
              "      <th>2</th>\n",
              "      <td>Alice</td>\n",
              "      <td>Well I heard she flew down to the Mountain Cit...</td>\n",
              "    </tr>\n",
              "    <tr>\n",
              "      <th>3</th>\n",
              "      <td>The Apartment Song</td>\n",
              "      <td>I used to live in a two room apartment   Neig...</td>\n",
              "    </tr>\n",
              "    <tr>\n",
              "      <th>4</th>\n",
              "      <td>Angel</td>\n",
              "      <td>Sometimes The most beautiful things The most i...</td>\n",
              "    </tr>\n",
              "  </tbody>\n",
              "</table>\n",
              "</div>\n",
              "    <div class=\"colab-df-buttons\">\n",
              "\n",
              "  <div class=\"colab-df-container\">\n",
              "    <button class=\"colab-df-convert\" onclick=\"convertToInteractive('df-6a35829c-3889-41ca-872d-7011947d217b')\"\n",
              "            title=\"Convert this dataframe to an interactive table.\"\n",
              "            style=\"display:none;\">\n",
              "\n",
              "  <svg xmlns=\"http://www.w3.org/2000/svg\" height=\"24px\" viewBox=\"0 -960 960 960\">\n",
              "    <path d=\"M120-120v-720h720v720H120Zm60-500h600v-160H180v160Zm220 220h160v-160H400v160Zm0 220h160v-160H400v160ZM180-400h160v-160H180v160Zm440 0h160v-160H620v160ZM180-180h160v-160H180v160Zm440 0h160v-160H620v160Z\"/>\n",
              "  </svg>\n",
              "    </button>\n",
              "\n",
              "  <style>\n",
              "    .colab-df-container {\n",
              "      display:flex;\n",
              "      gap: 12px;\n",
              "    }\n",
              "\n",
              "    .colab-df-convert {\n",
              "      background-color: #E8F0FE;\n",
              "      border: none;\n",
              "      border-radius: 50%;\n",
              "      cursor: pointer;\n",
              "      display: none;\n",
              "      fill: #1967D2;\n",
              "      height: 32px;\n",
              "      padding: 0 0 0 0;\n",
              "      width: 32px;\n",
              "    }\n",
              "\n",
              "    .colab-df-convert:hover {\n",
              "      background-color: #E2EBFA;\n",
              "      box-shadow: 0px 1px 2px rgba(60, 64, 67, 0.3), 0px 1px 3px 1px rgba(60, 64, 67, 0.15);\n",
              "      fill: #174EA6;\n",
              "    }\n",
              "\n",
              "    .colab-df-buttons div {\n",
              "      margin-bottom: 4px;\n",
              "    }\n",
              "\n",
              "    [theme=dark] .colab-df-convert {\n",
              "      background-color: #3B4455;\n",
              "      fill: #D2E3FC;\n",
              "    }\n",
              "\n",
              "    [theme=dark] .colab-df-convert:hover {\n",
              "      background-color: #434B5C;\n",
              "      box-shadow: 0px 1px 3px 1px rgba(0, 0, 0, 0.15);\n",
              "      filter: drop-shadow(0px 1px 2px rgba(0, 0, 0, 0.3));\n",
              "      fill: #FFFFFF;\n",
              "    }\n",
              "  </style>\n",
              "\n",
              "    <script>\n",
              "      const buttonEl =\n",
              "        document.querySelector('#df-6a35829c-3889-41ca-872d-7011947d217b button.colab-df-convert');\n",
              "      buttonEl.style.display =\n",
              "        google.colab.kernel.accessAllowed ? 'block' : 'none';\n",
              "\n",
              "      async function convertToInteractive(key) {\n",
              "        const element = document.querySelector('#df-6a35829c-3889-41ca-872d-7011947d217b');\n",
              "        const dataTable =\n",
              "          await google.colab.kernel.invokeFunction('convertToInteractive',\n",
              "                                                    [key], {});\n",
              "        if (!dataTable) return;\n",
              "\n",
              "        const docLinkHtml = 'Like what you see? Visit the ' +\n",
              "          '<a target=\"_blank\" href=https://colab.research.google.com/notebooks/data_table.ipynb>data table notebook</a>'\n",
              "          + ' to learn more about interactive tables.';\n",
              "        element.innerHTML = '';\n",
              "        dataTable['output_type'] = 'display_data';\n",
              "        await google.colab.output.renderOutput(dataTable, element);\n",
              "        const docLink = document.createElement('div');\n",
              "        docLink.innerHTML = docLinkHtml;\n",
              "        element.appendChild(docLink);\n",
              "      }\n",
              "    </script>\n",
              "  </div>\n",
              "\n",
              "\n",
              "<div id=\"df-ed065918-1439-45cf-a2e0-c09737193414\">\n",
              "  <button class=\"colab-df-quickchart\" onclick=\"quickchart('df-ed065918-1439-45cf-a2e0-c09737193414')\"\n",
              "            title=\"Suggest charts\"\n",
              "            style=\"display:none;\">\n",
              "\n",
              "<svg xmlns=\"http://www.w3.org/2000/svg\" height=\"24px\"viewBox=\"0 0 24 24\"\n",
              "     width=\"24px\">\n",
              "    <g>\n",
              "        <path d=\"M19 3H5c-1.1 0-2 .9-2 2v14c0 1.1.9 2 2 2h14c1.1 0 2-.9 2-2V5c0-1.1-.9-2-2-2zM9 17H7v-7h2v7zm4 0h-2V7h2v10zm4 0h-2v-4h2v4z\"/>\n",
              "    </g>\n",
              "</svg>\n",
              "  </button>\n",
              "\n",
              "<style>\n",
              "  .colab-df-quickchart {\n",
              "      --bg-color: #E8F0FE;\n",
              "      --fill-color: #1967D2;\n",
              "      --hover-bg-color: #E2EBFA;\n",
              "      --hover-fill-color: #174EA6;\n",
              "      --disabled-fill-color: #AAA;\n",
              "      --disabled-bg-color: #DDD;\n",
              "  }\n",
              "\n",
              "  [theme=dark] .colab-df-quickchart {\n",
              "      --bg-color: #3B4455;\n",
              "      --fill-color: #D2E3FC;\n",
              "      --hover-bg-color: #434B5C;\n",
              "      --hover-fill-color: #FFFFFF;\n",
              "      --disabled-bg-color: #3B4455;\n",
              "      --disabled-fill-color: #666;\n",
              "  }\n",
              "\n",
              "  .colab-df-quickchart {\n",
              "    background-color: var(--bg-color);\n",
              "    border: none;\n",
              "    border-radius: 50%;\n",
              "    cursor: pointer;\n",
              "    display: none;\n",
              "    fill: var(--fill-color);\n",
              "    height: 32px;\n",
              "    padding: 0;\n",
              "    width: 32px;\n",
              "  }\n",
              "\n",
              "  .colab-df-quickchart:hover {\n",
              "    background-color: var(--hover-bg-color);\n",
              "    box-shadow: 0 1px 2px rgba(60, 64, 67, 0.3), 0 1px 3px 1px rgba(60, 64, 67, 0.15);\n",
              "    fill: var(--button-hover-fill-color);\n",
              "  }\n",
              "\n",
              "  .colab-df-quickchart-complete:disabled,\n",
              "  .colab-df-quickchart-complete:disabled:hover {\n",
              "    background-color: var(--disabled-bg-color);\n",
              "    fill: var(--disabled-fill-color);\n",
              "    box-shadow: none;\n",
              "  }\n",
              "\n",
              "  .colab-df-spinner {\n",
              "    border: 2px solid var(--fill-color);\n",
              "    border-color: transparent;\n",
              "    border-bottom-color: var(--fill-color);\n",
              "    animation:\n",
              "      spin 1s steps(1) infinite;\n",
              "  }\n",
              "\n",
              "  @keyframes spin {\n",
              "    0% {\n",
              "      border-color: transparent;\n",
              "      border-bottom-color: var(--fill-color);\n",
              "      border-left-color: var(--fill-color);\n",
              "    }\n",
              "    20% {\n",
              "      border-color: transparent;\n",
              "      border-left-color: var(--fill-color);\n",
              "      border-top-color: var(--fill-color);\n",
              "    }\n",
              "    30% {\n",
              "      border-color: transparent;\n",
              "      border-left-color: var(--fill-color);\n",
              "      border-top-color: var(--fill-color);\n",
              "      border-right-color: var(--fill-color);\n",
              "    }\n",
              "    40% {\n",
              "      border-color: transparent;\n",
              "      border-right-color: var(--fill-color);\n",
              "      border-top-color: var(--fill-color);\n",
              "    }\n",
              "    60% {\n",
              "      border-color: transparent;\n",
              "      border-right-color: var(--fill-color);\n",
              "    }\n",
              "    80% {\n",
              "      border-color: transparent;\n",
              "      border-right-color: var(--fill-color);\n",
              "      border-bottom-color: var(--fill-color);\n",
              "    }\n",
              "    90% {\n",
              "      border-color: transparent;\n",
              "      border-bottom-color: var(--fill-color);\n",
              "    }\n",
              "  }\n",
              "</style>\n",
              "\n",
              "  <script>\n",
              "    async function quickchart(key) {\n",
              "      const quickchartButtonEl =\n",
              "        document.querySelector('#' + key + ' button');\n",
              "      quickchartButtonEl.disabled = true;  // To prevent multiple clicks.\n",
              "      quickchartButtonEl.classList.add('colab-df-spinner');\n",
              "      try {\n",
              "        const charts = await google.colab.kernel.invokeFunction(\n",
              "            'suggestCharts', [key], {});\n",
              "      } catch (error) {\n",
              "        console.error('Error during call to suggestCharts:', error);\n",
              "      }\n",
              "      quickchartButtonEl.classList.remove('colab-df-spinner');\n",
              "      quickchartButtonEl.classList.add('colab-df-quickchart-complete');\n",
              "    }\n",
              "    (() => {\n",
              "      let quickchartButtonEl =\n",
              "        document.querySelector('#df-ed065918-1439-45cf-a2e0-c09737193414 button');\n",
              "      quickchartButtonEl.style.display =\n",
              "        google.colab.kernel.accessAllowed ? 'block' : 'none';\n",
              "    })();\n",
              "  </script>\n",
              "</div>\n",
              "    </div>\n",
              "  </div>\n"
            ],
            "application/vnd.google.colaboratory.intrinsic+json": {
              "type": "dataframe",
              "variable_name": "df",
              "summary": "{\n  \"name\": \"df\",\n  \"rows\": 193,\n  \"fields\": [\n    {\n      \"column\": \"Song\",\n      \"properties\": {\n        \"dtype\": \"string\",\n        \"num_unique_values\": 193,\n        \"samples\": [\n          \"Finally Find a Girlfriend\",\n          \"Running Through the Garden\",\n          \"I Will Run to You\"\n        ],\n        \"semantic_type\": \"\",\n        \"description\": \"\"\n      }\n    },\n    {\n      \"column\": \"Lyrics\",\n      \"properties\": {\n        \"dtype\": \"string\",\n        \"num_unique_values\": 193,\n        \"samples\": [\n          \"I remember how it was before I met my baby  I was sometimes lonely and sometimes crazy  I had a lot of girls to help me pass the time but  when she arrived I left it all behind It's fine It's fine And she loves me so much I'm with her all of the timeIt's fine I found a girl Finally found a girl Finally find a girlfriend, yeah yeahAnd she made me understand what love can really mean and now my nights are spent with more than dreams I'm here to tell you now she loves me to the letter  and I must admit that I never felt betterIt's fine Yeah it's fine And she loves me so much I'm with her all of the timeIt's fine I found a girl Finally found a girl Finally find a girlfriend Ooh yeahOoh Ooh Ooh Ooh Ooh OohIt's fine Yeah it's fine And she loves me so much I'm with her all of the timeIt's fine I found a girl Finally found a girl Finally find a girlfriendYeah it's fine I found a girl Finally found a girl Finally find a girlfriendYeah  It's fine I found a girl (hey) Finally found a girl Finally find a girlfriend (yeah)Ooh Ooh Ooh Ooh Ooh Ooh\",\n          \"Until she herself Became the deadliest poison  As she grew older Ooh, until she herself Became just as fatal As was her garden And so you run toward What you know is wrong There are too many flowers To cut down With all the love I have for your life For the love I have for your life Turn around... Never did I mean to (never did I meanto) Imprison you (imprison you) Here in my garden (here in my garden) Like I am imprisoned (like I am imprisoned) All the love I have for your life All the love I have for your life Turn around (turn around) Until she herself Understood her garden Leaving her heart broken, No future at all Until she herself Became the toxic garden Always frightened, No future at all And so you run towards What you know is wrong There are too many flowers To cut down With all the love I have for your life With all the love I have for your life Turn around... Never did I mean to (never did I meanto) Imprison you (imprison you) Here in my garden (here in my garden) Like I am imprisoned (like I am imprisoned) All the love I have for your life All the love I have for your life Turn around (turn around) So you run towards What you know is wrong But there are too many flowers To cut down With all the love I have for your life With all the love I have for your life Turn around... Running through the garden,  I'm running in brilliant colors I'm running straight toward, straight toward What you know is really wrong Too many flowers here to cut down For the love I have for your life Turn around For the love I have (for the love I have) For the love I have (for the love I have) Turn around... \",\n          \"One so young...so changed Should not be left alone Two...in love...should confess And not be left alone I will run to you  Down whatever road you choose I will follow you down I will run to you You've had time...come around Will you please make up your mind I...stand accused...on trial Will you please make up your mind I will run to you Down whatever road you choose I will follow you down I will run to you Make it easy for me I been lonely baby  Show some mercy honey I was nothing All those lonely nights Showed me something If you need me I'll come runnin' I will run to you Down whatever road you choose I will follow you down I will run to you\"\n        ],\n        \"semantic_type\": \"\",\n        \"description\": \"\"\n      }\n    }\n  ]\n}"
            }
          },
          "metadata": {},
          "execution_count": 2
        }
      ]
    },
    {
      "cell_type": "markdown",
      "metadata": {
        "id": "o4ddDff6OPFx"
      },
      "source": [
        "## Question 1. Unigram Markov Chain Model\n",
        "\n",
        "Build a Markov chain using the data that you read in above. Your model will process the lyrics and store the word transitions for that artist. The transitions will be stored in a dict called `chain`, which maps each word to a list of \"next\" words.\n",
        "\n",
        "For example, if your song was [\"The Joker\" by the Steve Miller Band](https://www.youtube.com/watch?v=dV3AziKTBUo), `chain` might look as follows:\n",
        "\n",
        "```\n",
        "chain = {\n",
        "    \"some\": [\"people\", \"call\", \"people\"],\n",
        "    \"call\": [\"me\", \"me\", \"me\"],\n",
        "    \"the\": [\"space\", \"gangster\", \"pompitous\", ...],\n",
        "    \"me\": [\"the\", \"the\", \"Maurice\"],\n",
        "    ...\n",
        "}\n",
        "```\n",
        "\n",
        "Besides words, you should include a few additional states in your Markov chain. You should have `\"<START>\"` and `\"<END>\"` states so that we can keep track of which words are likely to begin and end songs. You should also include a state called `\"<N>\"` to denote line breaks so that you can keep track of where lines begin and end. It is up to you whether you want to include normalize case and strip punctuation.\n",
        "\n",
        "So for example, for [\"The Joker\"](https://www.azlyrics.com/lyrics/stevemillerband/thejoker.html), you would add the following to your chain:\n",
        "\n",
        "```\n",
        "chain = {\n",
        "    \"<START>\": [\"Some\", ...],\n",
        "    \"Some\": [\"people\", ...],\n",
        "    \"people\": [\"call\", ...],\n",
        "    \"call\": [\"me\", ...],\n",
        "    \"me\": [\"the\", ...],\n",
        "    \"the\": [\"space\", ...],\n",
        "    \"space\": [\"cowboy,\", ...],\n",
        "    \"cowboy,\": [\"yeah\", ...],\n",
        "    \"yeah\": [\"<N>\", ...],\n",
        "    \"<N>\": [\"Some\", ..., \"Come\"],\n",
        "    ...,\n",
        "    \"Come\": [\"on\", ...],\n",
        "    \"on\": [\"baby\", ...],\n",
        "    \"baby\": [\"and\", ...],\n",
        "    \"and\": [\"I'll\", ...],\n",
        "    \"I'll\": [\"show\", ...],\n",
        "    \"show\": [\"you\", ...],\n",
        "    \"you\": [\"a\", ...],\n",
        "    \"a\": [\"good\", ...],\n",
        "    \"good\": [\"time\", ...],\n",
        "    \"time\": [\"<END>\", ...],\n",
        "}\n",
        "```\n",
        "\n",
        "Your chain will be trained on not just one song, but by all songs by your artist."
      ]
    },
    {
      "cell_type": "code",
      "source": [
        "from sklearn.feature_extraction.text import CountVectorizer"
      ],
      "metadata": {
        "id": "_DIYc3gCgocz"
      },
      "execution_count": null,
      "outputs": []
    },
    {
      "cell_type": "code",
      "metadata": {
        "id": "5P9Bsg6pOPFy"
      },
      "source": [
        "def train_unigram_markov_chain(lyrics):\n",
        "  \"\"\"\n",
        "  Args:\n",
        "    - lyrics: a list or Series of strings, where each string represents\n",
        "              the lyrics of one song by an artist.\n",
        "\n",
        "  Returns:\n",
        "    A dict that maps a single word (\"unigram\") to a list of words\n",
        "    that follow that unigram, representing the Markov chain.\n",
        "  \"\"\"\n",
        "  chain = {\"<START>\": [], \"<N>\": []}\n",
        "  for lyric in lyrics:\n",
        "    # TODO: update the Markov chain\n",
        "    words = lyric.split()\n",
        "    for i in range(len(words)):\n",
        "      if i == 0:\n",
        "        chain[\"<START>\"].append(words[i])\n",
        "      if words[i] not in chain:\n",
        "        chain[words[i]] = []\n",
        "      if i != len(words) - 1:\n",
        "        if not words[i + 1][0].isupper() or words[i + 1][0:1] == \"I \" or words[i + 1][0:1] == \"I'\":\n",
        "          chain[words[i]].append(words[i+1])\n",
        "        else:\n",
        "          chain[words[i]].append(\"<N>\")\n",
        "          chain[\"<N>\"].append(words[i + 1])\n",
        "      else:\n",
        "        chain[words[i]].append(\"<END>\")\n",
        "\n",
        "  return chain"
      ],
      "execution_count": null,
      "outputs": []
    },
    {
      "cell_type": "code",
      "metadata": {
        "id": "ewkgeMyQOPF2",
        "colab": {
          "base_uri": "https://localhost:8080/"
        },
        "outputId": "d3c76a85-8055-4f46-ff09-d983f0ab268e"
      },
      "source": [
        "# Call the function on the lyrics column of your `DataFrame`.\n",
        "unigram_chain = train_unigram_markov_chain(df[\"Lyrics\"])\n",
        "\n",
        "# What words tend to start a song (i.e., what words follow the <START> tag?)\n",
        "print(unigram_chain[\"<START>\"])\n",
        "\n",
        "# What words tend to begin a line (i.e., what words follow the line break tag?)\n",
        "print(unigram_chain[\"<N>\"][:20])"
      ],
      "execution_count": null,
      "outputs": [
        {
          "output_type": "stream",
          "name": "stdout",
          "text": [
            "['One', 'Well', 'Well', 'I', 'Sometimes', 'It', 'At', 'This', 'Beautiful', \"You're\", 'You', 'The', 'I', 'There', 'You--beloved', 'For', \"I've\", 'Meeting', 'Climbs', 'Listen', \"What's\", 'I', \"C'mon,\", \"You've\", 'You', 'She', 'Do', 'I', 'Eyes', 'Crying', 'Maybe', 'Well', 'Walk', 'Papa', 'It', 'Baby,', 'Now', 'Just', 'Crying', 'We', 'She', \"Don't\", 'I', 'I', 'So', 'I', '(Burning...)', 'To', 'I', \"She's\", 'Dim', 'You', 'I', 'There', 'Except', 'And', 'What', 'Through', 'When', 'Rock', 'Though', \"Don't\", 'Rhinestone', 'So', 'Has', 'Hello,', 'Alas', 'Still', 'Hurry', 'Yes,', 'I', 'When', 'Talk', \"Someone's\", 'You', 'Outside', 'One', 'I', 'Baby', \"You've\", 'Illume', 'He', \"You've\", 'Well', 'I', 'Every', 'The', \"It's\", 'I', 'Such', 'It', 'Nobody', 'Did', \"I'll\", 'Temptation', 'I', 'Now', 'Is', 'How', 'Well', 'Sunflowers', 'Can', 'It', 'Do', 'Oh', 'You', 'Wake', 'Ooh', \"I'm\", 'Come', 'And', '-', 'Some', \"You're\", 'Like', 'I', 'In', 'And', 'Thrown', 'When', 'I', 'It', 'If', 'I', 'I', '(Ooh', 'Outside', 'You', 'The', 'So', 'There', 'When', 'Rhiannon', 'Sometimes', 'Somewhere', 'You', 'Rosanna,', 'Until', 'Learn', 'Wait', \"Somethin'\", 'Was', 'Baby', 'Come', 'You', 'So', 'She', 'You', 'Alright,', 'Intense', 'Take', 'Go', 'I', 'I', 'In', 'I', 'Well', \"I'm\", 'No', \"It's\", 'Baby', 'Every', 'What', \"I've\", 'God,', 'And', 'I', 'Meet', 'Dreams', 'Step', 'The', 'He', \"There's\", 'And', 'I', 'Anytime', 'You', '(Great', \"Don't\", 'So', \"It's\", 'When', 'Whenever', 'Would', 'In', 'Something', 'I', 'You', 'When', \"It's\", \"Don't\", 'You', 'Late']\n",
            "['One', 'Well', 'I', 'As', 'Well', 'I', 'For', 'Well', 'Than', 'Never', 'Well', 'Than', 'Always', 'In', 'I', 'Through', 'I', 'Well', 'I', 'Well']\n"
          ]
        }
      ]
    },
    {
      "cell_type": "markdown",
      "metadata": {
        "id": "CkdEbg7HOPF5"
      },
      "source": [
        "Now, let's generate new lyrics using the Markov chain you constructed above. To do this, we'll begin at the `\"<START>\"` state and randomly sample a word from the list of words that follow `\"<START>\"`. Then, at each step, we'll randomly sample the next word from the list of words that followed each current word. We will continue this process until we sample the `\"<END>\"` state. This will give us the complete lyrics of a randomly generated song!\n",
        "\n",
        "You may find the `random.choice()` function helpful for this question."
      ]
    },
    {
      "cell_type": "code",
      "metadata": {
        "id": "CsFHxt0XOPF6"
      },
      "source": [
        "import random\n",
        "\n",
        "def generate_new_lyrics_from_unigram_chain(chain):\n",
        "  \"\"\"\n",
        "  Args:\n",
        "    - chain: a dict representing a unigram Markov chain\n",
        "\n",
        "  Returns:\n",
        "    A string representing the randomly generated song.\n",
        "  \"\"\"\n",
        "  # a list for storing the generated words,\n",
        "  # initialized with the first word\n",
        "  words = [random.choice(chain[\"<START>\"])]\n",
        "\n",
        "  # TODO: generate the next word, appending to the `words` list\n",
        "  current_word = words[0]\n",
        "  size_words = 1\n",
        "  while current_word != \"<END>\":\n",
        "    if current_word in chain:\n",
        "      words.append(random.choice(chain[current_word]))\n",
        "    else:\n",
        "      words.append(random.choice(chain[\"<N>\"]))\n",
        "    current_word = words[size_words]\n",
        "    size_words += 1\n",
        "\n",
        "\n",
        "  # join the words together into a string with line breaks\n",
        "  lyrics = \" \".join(words[:-1])\n",
        "  return \"\\n\".join(lyrics.split(\"<N>\"))"
      ],
      "execution_count": null,
      "outputs": []
    },
    {
      "cell_type": "code",
      "metadata": {
        "id": "hmop55SGOPF-",
        "colab": {
          "base_uri": "https://localhost:8080/"
        },
        "outputId": "a809e4f1-da25-4aff-fafb-bdd2e8a4102c"
      },
      "source": [
        "print(generate_new_lyrics_from_unigram_chain(unigram_chain))"
      ],
      "execution_count": null,
      "outputs": [
        {
          "output_type": "stream",
          "name": "stdout",
          "text": [
            "Just because you choose \n",
            " And a while \n",
            " I can be gone, stolen from difference worlds...we are the days since you've never said you'd like an invitation would live with the one \n",
            " If you cared about you understood \n",
            " Like \n",
            " I know that is my mindThe blonde in the night in her ancient ways to be your skin \n",
            " She was always seems \n",
            " She takes yours away \n",
            " But more time, \n",
            " You'll have to be here... \n",
            " Li \n",
            " For the one \n",
            " Lo-o-o-o-ove \n",
            " What's the spring to the window... \n",
            " Intuition, has to me in my reflection in the same closed door \n",
            " Well \n",
            " He fell for a woman...yes \n",
            " Don't come into you stay in your happy-ever-afters... \n",
            " Paris \n",
            " Oh, there's no difference \n",
            " Seemingly waiting on \n",
            " And the room in the love will disappear \n",
            " It was late \n",
            " Come in that the middle of that it's so much\n"
          ]
        }
      ]
    },
    {
      "cell_type": "markdown",
      "metadata": {
        "id": "CjwB8aiMOPGE"
      },
      "source": [
        "## Question 2. Bigram Markov Chain Model\n",
        "\n",
        "Now you'll build a more complex Markov chain that uses the last _two_ words (or bigram) to predict the next word. Now your dict should map a _tuple_ of words to a list of words that appear after it.\n",
        "\n",
        "As before, you should also include tags that indicate the beginning and end of a song, as well as line breaks. That is, a tuple might contain tags like `\"<START>\"`, `\"<END>\"`, and `\"<N>\"`, in addition to regular words. So for example, for [\"The Joker\"](https://www.azlyrics.com/lyrics/stevemillerband/thejoker.html), you would add the following to your chain:\n",
        "\n",
        "```\n",
        "bigram_chain = {\n",
        "    (None, \"<START>\"): [\"Some\", ...],\n",
        "    (\"<START>\", \"Some\"): [\"people\", ...],\n",
        "    (\"Some\", \"people\"): [\"call\", ...],\n",
        "    (\"people\", \"call\"): [\"me\", ...],\n",
        "    (\"call\", \"me\"): [\"the\", ...],\n",
        "    (\"me\", \"the\"): [\"space\", ...],\n",
        "    (\"the\", \"space\"): [\"cowboy,\", ...],\n",
        "    (\"space\", \"cowboy,\"): [\"yeah\", ...],\n",
        "    (\"cowboy,\", \"yeah\"): [\"<N>\", ...],\n",
        "    (\"yeah\", \"<N>\"): [\"Some\", ...],\n",
        "    (\"time\", \"<N>\"): [\"Come\"],\n",
        "    ...,\n",
        "    (\"<N>\", \"Come\"): [\"on\", ...],\n",
        "    (\"Come\", \"on\"): [\"baby\", ...],\n",
        "    (\"on\", \"baby\"): [\"and\", ...],\n",
        "    (\"baby\", \"and\"): [\"I'll\", ...],\n",
        "    (\"and\", \"I'll\"): [\"show\", ...],\n",
        "    (\"I'll\", \"show\"): [\"you\", ...],\n",
        "    (\"show\", \"you\"): [\"a\", ...],\n",
        "    (\"you\", \"a\"): [\"good\", ...],\n",
        "    (\"a\", \"good\"): [\"time\", ...],\n",
        "    (\"good\", \"time\"): [\"<END>\", ...],\n",
        "}\n",
        "```"
      ]
    },
    {
      "cell_type": "code",
      "metadata": {
        "id": "sQQf5qfLOPGF"
      },
      "source": [
        "def train_bigram_markov_chain(lyrics):\n",
        "  \"\"\"\n",
        "  Args:\n",
        "    - lyrics: a list or Series of strings, where each string represents\n",
        "              the lyrics of one song by an artist.\n",
        "\n",
        "  Returns:\n",
        "    A dict that maps a tuple of 2 words (\"bigram\") to a list of words\n",
        "    that follow that bigram, representing the Markov chain.\n",
        "  \"\"\"\n",
        "  chain = {(None, \"<START>\"): []}\n",
        "  for lyric in lyrics:\n",
        "    # TODO: train the Markov chain\n",
        "    words = lyric.split()\n",
        "    for i in range(len(words) - 1):\n",
        "      if i == 0:\n",
        "        chain[(None, \"<START>\")].append((words[i]))\n",
        "        chain[(\"<START>\", words[i])] = []\n",
        "        chain[(\"<START>\", words[i])].append(words[i + 1])\n",
        "      if i != len(words) - 2:\n",
        "        if not words[i + 1][0].isupper() or words[i + 1][0:1] == \"I \" or words[i + 1][0:1] == \"I'\":\n",
        "          if not (words[i], words[i + 1]) in chain.keys():\n",
        "            chain[(words[i], words[i + 1])] = []\n",
        "          if not words[i + 2][0].isupper() or words[i + 2][0:1] == \"I \" or words[i + 2][0:1] == \"I'\":\n",
        "            chain[(words[i], words[i + 1])].append(words[i + 2])\n",
        "          else:\n",
        "            chain[(words[i], words[i + 1])].append(\"<N>\")\n",
        "            if not (\"<N>\", words[i + 2]) in chain.keys():\n",
        "              chain[(\"<N>\", words[i + 2])] = []\n",
        "        else:\n",
        "          chain[(words[i], \"<N>\")] = []\n",
        "          chain[(words[i], \"<N>\")].append(words[i + 1])\n",
        "          chain[(\"<N>\", words[i + 1])] = []\n",
        "          chain[(\"<N>\", words[i + 1])].append(words[i + 2])\n",
        "      else:\n",
        "        chain[(words[i], words[i + 1])] = []\n",
        "        chain[(words[i], words[i + 1])].append(\"<END>\")\n",
        "\n",
        "  return chain"
      ],
      "execution_count": null,
      "outputs": []
    },
    {
      "cell_type": "code",
      "metadata": {
        "id": "OpPtRfOxOPGI",
        "colab": {
          "base_uri": "https://localhost:8080/"
        },
        "outputId": "47fa9fa6-182b-4766-9202-c2784077641d"
      },
      "source": [
        "# Call your function on the lyrics column of your `DataFrame`.\n",
        "bigram_chain = train_bigram_markov_chain(df[\"Lyrics\"])\n",
        "\n",
        "# What words tend to start a song (i.e., what words follow the <START> tag?)\n",
        "print(bigram_chain[(None, \"<START>\")])"
      ],
      "execution_count": null,
      "outputs": [
        {
          "output_type": "stream",
          "name": "stdout",
          "text": [
            "['One', 'Well', 'Well', 'I', 'Sometimes', 'It', 'At', 'This', 'Beautiful', \"You're\", 'You', 'The', 'I', 'There', 'You--beloved', 'For', \"I've\", 'Meeting', 'Climbs', 'Listen', \"What's\", 'I', \"C'mon,\", \"You've\", 'You', 'She', 'Do', 'I', 'Eyes', 'Crying', 'Maybe', 'Well', 'Walk', 'Papa', 'It', 'Baby,', 'Now', 'Just', 'Crying', 'We', 'She', \"Don't\", 'I', 'I', 'So', 'I', '(Burning...)', 'To', 'I', \"She's\", 'Dim', 'You', 'I', 'There', 'Except', 'And', 'What', 'Through', 'When', 'Rock', 'Though', \"Don't\", 'Rhinestone', 'So', 'Has', 'Hello,', 'Alas', 'Still', 'Hurry', 'Yes,', 'I', 'When', 'Talk', \"Someone's\", 'You', 'Outside', 'One', 'I', 'Baby', \"You've\", 'Illume', 'He', \"You've\", 'Well', 'I', 'Every', 'The', \"It's\", 'I', 'Such', 'It', 'Nobody', 'Did', \"I'll\", 'Temptation', 'I', 'Now', 'Is', 'How', 'Well', 'Sunflowers', 'Can', 'It', 'Do', 'Oh', 'You', 'Wake', 'Ooh', \"I'm\", 'Come', 'And', '-', 'Some', \"You're\", 'Like', 'I', 'In', 'And', 'Thrown', 'When', 'I', 'It', 'If', 'I', 'I', '(Ooh', 'Outside', 'You', 'The', 'So', 'There', 'When', 'Rhiannon', 'Sometimes', 'Somewhere', 'You', 'Rosanna,', 'Until', 'Learn', 'Wait', \"Somethin'\", 'Was', 'Baby', 'Come', 'You', 'So', 'She', 'You', 'Alright,', 'Intense', 'Take', 'Go', 'I', 'I', 'In', 'I', 'Well', \"I'm\", 'No', \"It's\", 'Baby', 'Every', 'What', \"I've\", 'God,', 'And', 'I', 'Meet', 'Dreams', 'Step', 'The', 'He', \"There's\", 'And', 'I', 'Anytime', 'You', '(Great', \"Don't\", 'So', \"It's\", 'When', 'Whenever', 'Would', 'In', 'Something', 'I', 'You', 'When', \"It's\", \"Don't\", 'You', 'Late']\n"
          ]
        }
      ]
    },
    {
      "cell_type": "markdown",
      "metadata": {
        "id": "4rih6gnzOPGL"
      },
      "source": [
        "Now, let's generate new lyrics using the Markov chain you constructed above. To do this, we'll begin at the `(None, \"<START>\")` state and randomly sample a word from the list of words that follow this bigram. Then, at each step, we'll randomly sample the next word from the list of words that followed the current bigram (i.e., the last two words). We will continue this process until we sample the `\"<END>\"` state. This will give us the complete lyrics of a randomly generated song!"
      ]
    },
    {
      "cell_type": "code",
      "metadata": {
        "id": "fmtEgsDoOPGM"
      },
      "source": [
        "import random\n",
        "\n",
        "def generate_new_lyrics_from_bigram_chain(chain):\n",
        "  \"\"\"\n",
        "  Args:\n",
        "    - chain: a dict representing a bigram Markov chain\n",
        "\n",
        "  Returns:\n",
        "    A string representing the randomly generated song.\n",
        "  \"\"\"\n",
        "\n",
        "  # a list for storing the generated words,\n",
        "  # initialized with the first word\n",
        "  words = [random.choice(chain[(None, \"<START>\")])]\n",
        "  current_tuple = ((\"<START>\", words[0]))\n",
        "  # TODO: generate the next word, appending to the `words` list\n",
        "\n",
        "  while current_tuple[1] != \"<END>\":\n",
        "    last_word = current_tuple[1]\n",
        "    if current_tuple in chain:\n",
        "      new_word = random.choice(chain[current_tuple])\n",
        "      words.append(new_word)\n",
        "      current_tuple = (last_word, new_word)\n",
        "    else:\n",
        "      possible_tuples = [bigram for bigram in chain if bigram[0] == last_word]\n",
        "      random_tuple = random.choice(possible_tuples)\n",
        "      words.append(random_tuple[1])\n",
        "      current_tuple = random_tuple\n",
        "\n",
        "\n",
        "\n",
        "\n",
        "  # join the words together into a string with line breaks\n",
        "  lyrics = \" \".join(words[:-1])\n",
        "  return \"\\n\".join(lyrics.split(\"<N>\"))"
      ],
      "execution_count": null,
      "outputs": []
    },
    {
      "cell_type": "code",
      "metadata": {
        "id": "WPPTdLloOPGO",
        "colab": {
          "base_uri": "https://localhost:8080/"
        },
        "outputId": "9fa42792-0044-4dd3-8266-83a6068a0b66"
      },
      "source": [
        "print(generate_new_lyrics_from_bigram_chain(bigram_chain))"
      ],
      "execution_count": null,
      "outputs": [
        {
          "output_type": "stream",
          "name": "stdout",
          "text": [
            "He fell for her \n",
            " She burned his house down saying \n",
            " I cannot show \n",
            " Got the feeling remains... \n",
            " Even in the world \n",
            " Everyone was smiling \n",
            " Though their pain was apparent and the wind \n",
            " In dark sorrow \n",
            " They don't matter at all \n",
            " Where are the lost world. \n",
            " Yea You're my little saviour, \n",
            " I cannot pretend \n",
            " You're not a sin \n",
            " Give to me \n",
            " But I happy \n",
            " Yes for now, \n",
            " But I didn't love you\n"
          ]
        }
      ]
    },
    {
      "cell_type": "markdown",
      "metadata": {
        "id": "RUEJzOtnOPGR"
      },
      "source": [
        "## Question 3. Analysis\n",
        "\n",
        "Compare the quality of the lyrics generated by the unigram model (in Question 1) and the bigram model (in Question 2). Which model seems to generate more reasonable lyrics? Can you explain why? What do you see as the advantages and disadvantages of each model?\n",
        "\n",
        "Share your favorite generated song with the rest of the class in this [thread on Ed](https://edstem.org/us/courses/51640/discussion/4463213)! Please be mindful about the appropriateness of your song lyrics."
      ]
    },
    {
      "cell_type": "markdown",
      "metadata": {
        "id": "8k2Hym0UOPGS"
      },
      "source": [
        "**YOUR ANSWER HERE.**"
      ]
    },
    {
      "cell_type": "markdown",
      "source": [
        "The bigram chain model generated a song that was much more sensical than did the unigram chain. This is because the word that was chosen to be added onto the list was based on a little more context because it had to logically follow two words in order rather than just one, so it was created from a larger part of a sentence that already made sense. One thing that we talked about in class was that these algorithms cause an overall lack of context when generating new outputs, and I definitely see that here.\n",
        "\n",
        "Overall, the issue with the bigram chain is that it is much larger than the unigram chain. So although we got a fairly more sensical song, if we wanted to get more sensical, we would have to make even bigger bigram chains which could be more computationally and spacially expensive. So the advantage of the unigram chain is that it's a smaller chain/smaller computation, but the bigram makes a marginally better song.\n",
        "\n",
        "The other thing I'm really impressed by is that I feel like the length of the songs are roughly equivalent to the length of an actual Stevie Nicks song, so the random choice brought us to the END state in a roughly accurate number of iterations."
      ],
      "metadata": {
        "id": "INHOXOrrK5hP"
      }
    },
    {
      "cell_type": "markdown",
      "source": [
        "## Submission Instructions\n",
        "\n",
        "- Restart this notebook and run the cells from beginning to end.\n",
        "  - Go to Runtime > Restart and Run All."
      ],
      "metadata": {
        "id": "hHpjedjEVVbF"
      }
    },
    {
      "cell_type": "code",
      "source": [
        "# @markdown Run this cell to download this notebook as a webpage, `_NOTEBOOK.html`.\n",
        "\n",
        "import google, json, nbformat\n",
        "\n",
        "# Get the current notebook and write it to _NOTEBOOK.ipynb\n",
        "raw_notebook = google.colab._message.blocking_request(\"get_ipynb\",\n",
        "                                                      timeout_sec=30)[\"ipynb\"]\n",
        "with open(\"_NOTEBOOK.ipynb\", \"w\", encoding=\"utf-8\") as ipynb_file:\n",
        "  ipynb_file.write(json.dumps(raw_notebook))\n",
        "\n",
        "# Use nbconvert to convert .ipynb to .html.\n",
        "!jupyter nbconvert --to html --log-level WARN _NOTEBOOK.ipynb\n",
        "\n",
        "# Download the .html file.\n",
        "google.colab.files.download(\"_NOTEBOOK.html\")"
      ],
      "metadata": {
        "cellView": "form",
        "id": "NUyxLlt1VcFp",
        "colab": {
          "base_uri": "https://localhost:8080/",
          "height": 17
        },
        "outputId": "9e374dac-c71b-4278-fb0e-7b8c13f4af48"
      },
      "execution_count": null,
      "outputs": [
        {
          "output_type": "display_data",
          "data": {
            "text/plain": [
              "<IPython.core.display.Javascript object>"
            ],
            "application/javascript": [
              "\n",
              "    async function download(id, filename, size) {\n",
              "      if (!google.colab.kernel.accessAllowed) {\n",
              "        return;\n",
              "      }\n",
              "      const div = document.createElement('div');\n",
              "      const label = document.createElement('label');\n",
              "      label.textContent = `Downloading \"${filename}\": `;\n",
              "      div.appendChild(label);\n",
              "      const progress = document.createElement('progress');\n",
              "      progress.max = size;\n",
              "      div.appendChild(progress);\n",
              "      document.body.appendChild(div);\n",
              "\n",
              "      const buffers = [];\n",
              "      let downloaded = 0;\n",
              "\n",
              "      const channel = await google.colab.kernel.comms.open(id);\n",
              "      // Send a message to notify the kernel that we're ready.\n",
              "      channel.send({})\n",
              "\n",
              "      for await (const message of channel.messages) {\n",
              "        // Send a message to notify the kernel that we're ready.\n",
              "        channel.send({})\n",
              "        if (message.buffers) {\n",
              "          for (const buffer of message.buffers) {\n",
              "            buffers.push(buffer);\n",
              "            downloaded += buffer.byteLength;\n",
              "            progress.value = downloaded;\n",
              "          }\n",
              "        }\n",
              "      }\n",
              "      const blob = new Blob(buffers, {type: 'application/binary'});\n",
              "      const a = document.createElement('a');\n",
              "      a.href = window.URL.createObjectURL(blob);\n",
              "      a.download = filename;\n",
              "      div.appendChild(a);\n",
              "      a.click();\n",
              "      div.remove();\n",
              "    }\n",
              "  "
            ]
          },
          "metadata": {}
        },
        {
          "output_type": "display_data",
          "data": {
            "text/plain": [
              "<IPython.core.display.Javascript object>"
            ],
            "application/javascript": [
              "download(\"download_03b4e954-ede0-4bb7-a5c0-ddb5d28a0f73\", \"_NOTEBOOK.html\", 638433)"
            ]
          },
          "metadata": {}
        }
      ]
    },
    {
      "cell_type": "markdown",
      "source": [
        "- Open `_NOTEBOOK.html` in your browser, and save it as a PDF.\n",
        "    - Go to File > Print > Save as PDF.\n",
        "- Double check that all of your code and output is visible in the saved PDF.\n",
        "- Upload the PDF to [Gradescope](https://www.gradescope.com/courses/694907).\n",
        "    - Please be sure to select the correct pages corresponding to each question."
      ],
      "metadata": {
        "id": "c_5VJgj8Vevd"
      }
    }
  ]
}
