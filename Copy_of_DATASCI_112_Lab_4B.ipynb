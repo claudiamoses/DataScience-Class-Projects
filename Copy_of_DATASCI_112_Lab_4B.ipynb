{
  "nbformat": 4,
  "nbformat_minor": 0,
  "metadata": {
    "kernelspec": {
      "display_name": "Python 3",
      "language": "python",
      "name": "python3"
    },
    "language_info": {
      "codemirror_mode": {
        "name": "ipython",
        "version": 3
      },
      "file_extension": ".py",
      "mimetype": "text/x-python",
      "name": "python",
      "nbconvert_exporter": "python",
      "pygments_lexer": "ipython3",
      "version": "3.7.1"
    },
    "colab": {
      "provenance": [],
      "include_colab_link": true
    }
  },
  "cells": [
    {
      "cell_type": "markdown",
      "metadata": {
        "id": "view-in-github",
        "colab_type": "text"
      },
      "source": [
        "<a href=\"https://colab.research.google.com/github/claudiamoses/DataScience-Class-Projects/blob/main/Copy_of_DATASCI_112_Lab_4B.ipynb\" target=\"_parent\"><img src=\"https://colab.research.google.com/assets/colab-badge.svg\" alt=\"Open In Colab\"/></a>"
      ]
    },
    {
      "cell_type": "markdown",
      "metadata": {
        "id": "GWSNdW_jY8DY"
      },
      "source": [
        "# Kaggle Competition\n",
        "\n",
        "In this part of the lab, you will train your own machine learning models to predict the bitterness of a beer.\n",
        "\n",
        "Remember that the data is available from two sources:\n",
        "\n",
        "- on [Kaggle](https://www.kaggle.com/competitions/beer2024/data) (You will need to be signed in and to have joined the Kaggle competition to view this link.)\n",
        "- on [Github](https://github.com/dlsun/pods/tree/master/data/beer) (https://dlsun.github.io/pods/data/beer/beer_train.csv and https://dlsun.github.io/pods/data/beer/beer_test.csv)\n",
        "\n",
        "A description of the variables is available [on Kaggle](https://www.kaggle.com/competitions/beer2024/data).\n",
        "\n",
        "You will submit the models that you develop in this lab to a Kaggle competition. [Use this link to join the Kaggle competition](https://www.kaggle.com/t/fc19bcab992642cb882edc7bdfbba3eb).\n",
        "\n",
        "\n",
        "\n"
      ]
    },
    {
      "cell_type": "code",
      "source": [
        "import pandas as pd\n",
        "import numpy as np\n",
        "import matplotlib.pyplot as plt\n",
        "from sklearn.pipeline import make_pipeline\n",
        "from sklearn.compose import make_column_transformer\n",
        "from sklearn.preprocessing import StandardScaler, OneHotEncoder, MinMaxScaler, MaxAbsScaler, Normalizer\n",
        "from sklearn.neighbors import KNeighborsRegressor, KNeighborsClassifier\n",
        "from sklearn.linear_model import LinearRegression, Ridge, Lars, ElasticNet, Lasso\n",
        "from sklearn.feature_extraction.text import TfidfVectorizer, CountVectorizer\n",
        "from sklearn.metrics import mean_squared_error\n",
        "from sklearn.model_selection import cross_val_score, GridSearchCV\n",
        "from sklearn.svm import LinearSVR\n",
        "from sklearn.ensemble import GradientBoostingRegressor, BaggingRegressor\n",
        "from sklearn.exceptions import DataConversionWarning\n",
        "from sklearn.tree import DecisionTreeRegressor\n",
        "import warnings"
      ],
      "metadata": {
        "id": "SHJvTfYnW3xO"
      },
      "execution_count": null,
      "outputs": []
    },
    {
      "cell_type": "code",
      "source": [
        "train_df = pd.read_csv(\"https://dlsun.github.io/pods/data/beer/beer_train.csv\")\n",
        "train_df"
      ],
      "metadata": {
        "colab": {
          "base_uri": "https://localhost:8080/",
          "height": 424
        },
        "id": "uP4xnPt5Xqy3",
        "outputId": "333dafd6-5496-44d3-b236-9e6b97b3a94a"
      },
      "execution_count": null,
      "outputs": [
        {
          "output_type": "execute_result",
          "data": {
            "text/plain": [
              "        id   abv                                        available  \\\n",
              "0        0   8.2  Available at the same time of year, every year.   \n",
              "1        1   5.7  Available at the same time of year, every year.   \n",
              "2        2   5.8  Available at the same time of year, every year.   \n",
              "3        3   5.5           Available year round as a staple beer.   \n",
              "4        4   4.8           Available year round as a staple beer.   \n",
              "...    ...   ...                                              ...   \n",
              "5995  5995   5.5           Available year round as a staple beer.   \n",
              "5996  5996  11.0  Available at the same time of year, every year.   \n",
              "5997  5997   5.2           Available year round as a staple beer.   \n",
              "5998  5998   6.2                            Limited availability.   \n",
              "5999  5999   5.1           Available year round as a staple beer.   \n",
              "\n",
              "                                            description glass   ibu isOrganic  \\\n",
              "0     A Belgian-Abbey-Style Tripel that is big in al...   NaN  31.0         N   \n",
              "1     Covert Hops is a crafty ale. Its stealthy dark...  Pint  45.0         N   \n",
              "2     This is a traditional German-style Marzen char...   Mug  25.0         N   \n",
              "3     A West Coast-Style Pale Ale balancing plenty o...  Pint  55.0         N   \n",
              "4     This Bombshell has a tantalizing crisp and cle...  Pint  11.4         N   \n",
              "...                                                 ...   ...   ...       ...   \n",
              "5995  Taking its cues from “Three Threads”, a barten...  Pint  33.0         N   \n",
              "5996  Our barley wine is what would be considered an...   NaN  30.0         N   \n",
              "5997  Our version of a west coast pale ale pushes th...  Pint  45.0         N   \n",
              "5998  Aquarius White IPA combines the phenolic and e...   NaN  50.0         N   \n",
              "5999                                                NaN   NaN  23.0         N   \n",
              "\n",
              "                        name  originalGravity      srm  \n",
              "0            LoonyToonTripel            1.070        8  \n",
              "1                Covert Hops            1.056       35  \n",
              "2                Oktoberfest            1.048       10  \n",
              "3                   Pale Ale            1.044        5  \n",
              "4     Head Turner Blonde Ale            1.045        3  \n",
              "...                      ...              ...      ...  \n",
              "5995        Mayflower Porter            1.040  Over 40  \n",
              "5996             Barbieswine            1.085       20  \n",
              "5997         Canuck Pale Ale            1.044        8  \n",
              "5998                Aquarius            1.044        2  \n",
              "5999               Amber Ale            1.048       15  \n",
              "\n",
              "[6000 rows x 10 columns]"
            ],
            "text/html": [
              "\n",
              "  <div id=\"df-1ca82f17-2199-40ca-8f78-89d0137a11e1\" class=\"colab-df-container\">\n",
              "    <div>\n",
              "<style scoped>\n",
              "    .dataframe tbody tr th:only-of-type {\n",
              "        vertical-align: middle;\n",
              "    }\n",
              "\n",
              "    .dataframe tbody tr th {\n",
              "        vertical-align: top;\n",
              "    }\n",
              "\n",
              "    .dataframe thead th {\n",
              "        text-align: right;\n",
              "    }\n",
              "</style>\n",
              "<table border=\"1\" class=\"dataframe\">\n",
              "  <thead>\n",
              "    <tr style=\"text-align: right;\">\n",
              "      <th></th>\n",
              "      <th>id</th>\n",
              "      <th>abv</th>\n",
              "      <th>available</th>\n",
              "      <th>description</th>\n",
              "      <th>glass</th>\n",
              "      <th>ibu</th>\n",
              "      <th>isOrganic</th>\n",
              "      <th>name</th>\n",
              "      <th>originalGravity</th>\n",
              "      <th>srm</th>\n",
              "    </tr>\n",
              "  </thead>\n",
              "  <tbody>\n",
              "    <tr>\n",
              "      <th>0</th>\n",
              "      <td>0</td>\n",
              "      <td>8.2</td>\n",
              "      <td>Available at the same time of year, every year.</td>\n",
              "      <td>A Belgian-Abbey-Style Tripel that is big in al...</td>\n",
              "      <td>NaN</td>\n",
              "      <td>31.0</td>\n",
              "      <td>N</td>\n",
              "      <td>LoonyToonTripel</td>\n",
              "      <td>1.070</td>\n",
              "      <td>8</td>\n",
              "    </tr>\n",
              "    <tr>\n",
              "      <th>1</th>\n",
              "      <td>1</td>\n",
              "      <td>5.7</td>\n",
              "      <td>Available at the same time of year, every year.</td>\n",
              "      <td>Covert Hops is a crafty ale. Its stealthy dark...</td>\n",
              "      <td>Pint</td>\n",
              "      <td>45.0</td>\n",
              "      <td>N</td>\n",
              "      <td>Covert Hops</td>\n",
              "      <td>1.056</td>\n",
              "      <td>35</td>\n",
              "    </tr>\n",
              "    <tr>\n",
              "      <th>2</th>\n",
              "      <td>2</td>\n",
              "      <td>5.8</td>\n",
              "      <td>Available at the same time of year, every year.</td>\n",
              "      <td>This is a traditional German-style Marzen char...</td>\n",
              "      <td>Mug</td>\n",
              "      <td>25.0</td>\n",
              "      <td>N</td>\n",
              "      <td>Oktoberfest</td>\n",
              "      <td>1.048</td>\n",
              "      <td>10</td>\n",
              "    </tr>\n",
              "    <tr>\n",
              "      <th>3</th>\n",
              "      <td>3</td>\n",
              "      <td>5.5</td>\n",
              "      <td>Available year round as a staple beer.</td>\n",
              "      <td>A West Coast-Style Pale Ale balancing plenty o...</td>\n",
              "      <td>Pint</td>\n",
              "      <td>55.0</td>\n",
              "      <td>N</td>\n",
              "      <td>Pale Ale</td>\n",
              "      <td>1.044</td>\n",
              "      <td>5</td>\n",
              "    </tr>\n",
              "    <tr>\n",
              "      <th>4</th>\n",
              "      <td>4</td>\n",
              "      <td>4.8</td>\n",
              "      <td>Available year round as a staple beer.</td>\n",
              "      <td>This Bombshell has a tantalizing crisp and cle...</td>\n",
              "      <td>Pint</td>\n",
              "      <td>11.4</td>\n",
              "      <td>N</td>\n",
              "      <td>Head Turner Blonde Ale</td>\n",
              "      <td>1.045</td>\n",
              "      <td>3</td>\n",
              "    </tr>\n",
              "    <tr>\n",
              "      <th>...</th>\n",
              "      <td>...</td>\n",
              "      <td>...</td>\n",
              "      <td>...</td>\n",
              "      <td>...</td>\n",
              "      <td>...</td>\n",
              "      <td>...</td>\n",
              "      <td>...</td>\n",
              "      <td>...</td>\n",
              "      <td>...</td>\n",
              "      <td>...</td>\n",
              "    </tr>\n",
              "    <tr>\n",
              "      <th>5995</th>\n",
              "      <td>5995</td>\n",
              "      <td>5.5</td>\n",
              "      <td>Available year round as a staple beer.</td>\n",
              "      <td>Taking its cues from “Three Threads”, a barten...</td>\n",
              "      <td>Pint</td>\n",
              "      <td>33.0</td>\n",
              "      <td>N</td>\n",
              "      <td>Mayflower Porter</td>\n",
              "      <td>1.040</td>\n",
              "      <td>Over 40</td>\n",
              "    </tr>\n",
              "    <tr>\n",
              "      <th>5996</th>\n",
              "      <td>5996</td>\n",
              "      <td>11.0</td>\n",
              "      <td>Available at the same time of year, every year.</td>\n",
              "      <td>Our barley wine is what would be considered an...</td>\n",
              "      <td>NaN</td>\n",
              "      <td>30.0</td>\n",
              "      <td>N</td>\n",
              "      <td>Barbieswine</td>\n",
              "      <td>1.085</td>\n",
              "      <td>20</td>\n",
              "    </tr>\n",
              "    <tr>\n",
              "      <th>5997</th>\n",
              "      <td>5997</td>\n",
              "      <td>5.2</td>\n",
              "      <td>Available year round as a staple beer.</td>\n",
              "      <td>Our version of a west coast pale ale pushes th...</td>\n",
              "      <td>Pint</td>\n",
              "      <td>45.0</td>\n",
              "      <td>N</td>\n",
              "      <td>Canuck Pale Ale</td>\n",
              "      <td>1.044</td>\n",
              "      <td>8</td>\n",
              "    </tr>\n",
              "    <tr>\n",
              "      <th>5998</th>\n",
              "      <td>5998</td>\n",
              "      <td>6.2</td>\n",
              "      <td>Limited availability.</td>\n",
              "      <td>Aquarius White IPA combines the phenolic and e...</td>\n",
              "      <td>NaN</td>\n",
              "      <td>50.0</td>\n",
              "      <td>N</td>\n",
              "      <td>Aquarius</td>\n",
              "      <td>1.044</td>\n",
              "      <td>2</td>\n",
              "    </tr>\n",
              "    <tr>\n",
              "      <th>5999</th>\n",
              "      <td>5999</td>\n",
              "      <td>5.1</td>\n",
              "      <td>Available year round as a staple beer.</td>\n",
              "      <td>NaN</td>\n",
              "      <td>NaN</td>\n",
              "      <td>23.0</td>\n",
              "      <td>N</td>\n",
              "      <td>Amber Ale</td>\n",
              "      <td>1.048</td>\n",
              "      <td>15</td>\n",
              "    </tr>\n",
              "  </tbody>\n",
              "</table>\n",
              "<p>6000 rows × 10 columns</p>\n",
              "</div>\n",
              "    <div class=\"colab-df-buttons\">\n",
              "\n",
              "  <div class=\"colab-df-container\">\n",
              "    <button class=\"colab-df-convert\" onclick=\"convertToInteractive('df-1ca82f17-2199-40ca-8f78-89d0137a11e1')\"\n",
              "            title=\"Convert this dataframe to an interactive table.\"\n",
              "            style=\"display:none;\">\n",
              "\n",
              "  <svg xmlns=\"http://www.w3.org/2000/svg\" height=\"24px\" viewBox=\"0 -960 960 960\">\n",
              "    <path d=\"M120-120v-720h720v720H120Zm60-500h600v-160H180v160Zm220 220h160v-160H400v160Zm0 220h160v-160H400v160ZM180-400h160v-160H180v160Zm440 0h160v-160H620v160ZM180-180h160v-160H180v160Zm440 0h160v-160H620v160Z\"/>\n",
              "  </svg>\n",
              "    </button>\n",
              "\n",
              "  <style>\n",
              "    .colab-df-container {\n",
              "      display:flex;\n",
              "      gap: 12px;\n",
              "    }\n",
              "\n",
              "    .colab-df-convert {\n",
              "      background-color: #E8F0FE;\n",
              "      border: none;\n",
              "      border-radius: 50%;\n",
              "      cursor: pointer;\n",
              "      display: none;\n",
              "      fill: #1967D2;\n",
              "      height: 32px;\n",
              "      padding: 0 0 0 0;\n",
              "      width: 32px;\n",
              "    }\n",
              "\n",
              "    .colab-df-convert:hover {\n",
              "      background-color: #E2EBFA;\n",
              "      box-shadow: 0px 1px 2px rgba(60, 64, 67, 0.3), 0px 1px 3px 1px rgba(60, 64, 67, 0.15);\n",
              "      fill: #174EA6;\n",
              "    }\n",
              "\n",
              "    .colab-df-buttons div {\n",
              "      margin-bottom: 4px;\n",
              "    }\n",
              "\n",
              "    [theme=dark] .colab-df-convert {\n",
              "      background-color: #3B4455;\n",
              "      fill: #D2E3FC;\n",
              "    }\n",
              "\n",
              "    [theme=dark] .colab-df-convert:hover {\n",
              "      background-color: #434B5C;\n",
              "      box-shadow: 0px 1px 3px 1px rgba(0, 0, 0, 0.15);\n",
              "      filter: drop-shadow(0px 1px 2px rgba(0, 0, 0, 0.3));\n",
              "      fill: #FFFFFF;\n",
              "    }\n",
              "  </style>\n",
              "\n",
              "    <script>\n",
              "      const buttonEl =\n",
              "        document.querySelector('#df-1ca82f17-2199-40ca-8f78-89d0137a11e1 button.colab-df-convert');\n",
              "      buttonEl.style.display =\n",
              "        google.colab.kernel.accessAllowed ? 'block' : 'none';\n",
              "\n",
              "      async function convertToInteractive(key) {\n",
              "        const element = document.querySelector('#df-1ca82f17-2199-40ca-8f78-89d0137a11e1');\n",
              "        const dataTable =\n",
              "          await google.colab.kernel.invokeFunction('convertToInteractive',\n",
              "                                                    [key], {});\n",
              "        if (!dataTable) return;\n",
              "\n",
              "        const docLinkHtml = 'Like what you see? Visit the ' +\n",
              "          '<a target=\"_blank\" href=https://colab.research.google.com/notebooks/data_table.ipynb>data table notebook</a>'\n",
              "          + ' to learn more about interactive tables.';\n",
              "        element.innerHTML = '';\n",
              "        dataTable['output_type'] = 'display_data';\n",
              "        await google.colab.output.renderOutput(dataTable, element);\n",
              "        const docLink = document.createElement('div');\n",
              "        docLink.innerHTML = docLinkHtml;\n",
              "        element.appendChild(docLink);\n",
              "      }\n",
              "    </script>\n",
              "  </div>\n",
              "\n",
              "\n",
              "<div id=\"df-b2948ed6-63af-4b42-87fb-2c5d0391fe24\">\n",
              "  <button class=\"colab-df-quickchart\" onclick=\"quickchart('df-b2948ed6-63af-4b42-87fb-2c5d0391fe24')\"\n",
              "            title=\"Suggest charts\"\n",
              "            style=\"display:none;\">\n",
              "\n",
              "<svg xmlns=\"http://www.w3.org/2000/svg\" height=\"24px\"viewBox=\"0 0 24 24\"\n",
              "     width=\"24px\">\n",
              "    <g>\n",
              "        <path d=\"M19 3H5c-1.1 0-2 .9-2 2v14c0 1.1.9 2 2 2h14c1.1 0 2-.9 2-2V5c0-1.1-.9-2-2-2zM9 17H7v-7h2v7zm4 0h-2V7h2v10zm4 0h-2v-4h2v4z\"/>\n",
              "    </g>\n",
              "</svg>\n",
              "  </button>\n",
              "\n",
              "<style>\n",
              "  .colab-df-quickchart {\n",
              "      --bg-color: #E8F0FE;\n",
              "      --fill-color: #1967D2;\n",
              "      --hover-bg-color: #E2EBFA;\n",
              "      --hover-fill-color: #174EA6;\n",
              "      --disabled-fill-color: #AAA;\n",
              "      --disabled-bg-color: #DDD;\n",
              "  }\n",
              "\n",
              "  [theme=dark] .colab-df-quickchart {\n",
              "      --bg-color: #3B4455;\n",
              "      --fill-color: #D2E3FC;\n",
              "      --hover-bg-color: #434B5C;\n",
              "      --hover-fill-color: #FFFFFF;\n",
              "      --disabled-bg-color: #3B4455;\n",
              "      --disabled-fill-color: #666;\n",
              "  }\n",
              "\n",
              "  .colab-df-quickchart {\n",
              "    background-color: var(--bg-color);\n",
              "    border: none;\n",
              "    border-radius: 50%;\n",
              "    cursor: pointer;\n",
              "    display: none;\n",
              "    fill: var(--fill-color);\n",
              "    height: 32px;\n",
              "    padding: 0;\n",
              "    width: 32px;\n",
              "  }\n",
              "\n",
              "  .colab-df-quickchart:hover {\n",
              "    background-color: var(--hover-bg-color);\n",
              "    box-shadow: 0 1px 2px rgba(60, 64, 67, 0.3), 0 1px 3px 1px rgba(60, 64, 67, 0.15);\n",
              "    fill: var(--button-hover-fill-color);\n",
              "  }\n",
              "\n",
              "  .colab-df-quickchart-complete:disabled,\n",
              "  .colab-df-quickchart-complete:disabled:hover {\n",
              "    background-color: var(--disabled-bg-color);\n",
              "    fill: var(--disabled-fill-color);\n",
              "    box-shadow: none;\n",
              "  }\n",
              "\n",
              "  .colab-df-spinner {\n",
              "    border: 2px solid var(--fill-color);\n",
              "    border-color: transparent;\n",
              "    border-bottom-color: var(--fill-color);\n",
              "    animation:\n",
              "      spin 1s steps(1) infinite;\n",
              "  }\n",
              "\n",
              "  @keyframes spin {\n",
              "    0% {\n",
              "      border-color: transparent;\n",
              "      border-bottom-color: var(--fill-color);\n",
              "      border-left-color: var(--fill-color);\n",
              "    }\n",
              "    20% {\n",
              "      border-color: transparent;\n",
              "      border-left-color: var(--fill-color);\n",
              "      border-top-color: var(--fill-color);\n",
              "    }\n",
              "    30% {\n",
              "      border-color: transparent;\n",
              "      border-left-color: var(--fill-color);\n",
              "      border-top-color: var(--fill-color);\n",
              "      border-right-color: var(--fill-color);\n",
              "    }\n",
              "    40% {\n",
              "      border-color: transparent;\n",
              "      border-right-color: var(--fill-color);\n",
              "      border-top-color: var(--fill-color);\n",
              "    }\n",
              "    60% {\n",
              "      border-color: transparent;\n",
              "      border-right-color: var(--fill-color);\n",
              "    }\n",
              "    80% {\n",
              "      border-color: transparent;\n",
              "      border-right-color: var(--fill-color);\n",
              "      border-bottom-color: var(--fill-color);\n",
              "    }\n",
              "    90% {\n",
              "      border-color: transparent;\n",
              "      border-bottom-color: var(--fill-color);\n",
              "    }\n",
              "  }\n",
              "</style>\n",
              "\n",
              "  <script>\n",
              "    async function quickchart(key) {\n",
              "      const quickchartButtonEl =\n",
              "        document.querySelector('#' + key + ' button');\n",
              "      quickchartButtonEl.disabled = true;  // To prevent multiple clicks.\n",
              "      quickchartButtonEl.classList.add('colab-df-spinner');\n",
              "      try {\n",
              "        const charts = await google.colab.kernel.invokeFunction(\n",
              "            'suggestCharts', [key], {});\n",
              "      } catch (error) {\n",
              "        console.error('Error during call to suggestCharts:', error);\n",
              "      }\n",
              "      quickchartButtonEl.classList.remove('colab-df-spinner');\n",
              "      quickchartButtonEl.classList.add('colab-df-quickchart-complete');\n",
              "    }\n",
              "    (() => {\n",
              "      let quickchartButtonEl =\n",
              "        document.querySelector('#df-b2948ed6-63af-4b42-87fb-2c5d0391fe24 button');\n",
              "      quickchartButtonEl.style.display =\n",
              "        google.colab.kernel.accessAllowed ? 'block' : 'none';\n",
              "    })();\n",
              "  </script>\n",
              "</div>\n",
              "    </div>\n",
              "  </div>\n"
            ],
            "application/vnd.google.colaboratory.intrinsic+json": {
              "type": "dataframe",
              "variable_name": "train_df",
              "summary": "{\n  \"name\": \"train_df\",\n  \"rows\": 6000,\n  \"fields\": [\n    {\n      \"column\": \"id\",\n      \"properties\": {\n        \"dtype\": \"number\",\n        \"std\": 1732,\n        \"min\": 0,\n        \"max\": 5999,\n        \"num_unique_values\": 6000,\n        \"samples\": [\n          1782,\n          3917,\n          221\n        ],\n        \"semantic_type\": \"\",\n        \"description\": \"\"\n      }\n    },\n    {\n      \"column\": \"abv\",\n      \"properties\": {\n        \"dtype\": \"number\",\n        \"std\": 1.8330541255243227,\n        \"min\": 0.2,\n        \"max\": 19.7,\n        \"num_unique_values\": 210,\n        \"samples\": [\n          5.9,\n          4.45,\n          9.9\n        ],\n        \"semantic_type\": \"\",\n        \"description\": \"\"\n      }\n    },\n    {\n      \"column\": \"available\",\n      \"properties\": {\n        \"dtype\": \"category\",\n        \"num_unique_values\": 8,\n        \"samples\": [\n          \"Available year round as a staple beer.\",\n          \"Available during the winter months.\",\n          \"Available at the same time of year, every year.\"\n        ],\n        \"semantic_type\": \"\",\n        \"description\": \"\"\n      }\n    },\n    {\n      \"column\": \"description\",\n      \"properties\": {\n        \"dtype\": \"string\",\n        \"num_unique_values\": 5502,\n        \"samples\": [\n          \"Smooth and dark.  Amazing chocolate Porter flavor.\",\n          \"This English-style Porter was brewed to commemorate the first ever \\u201cbeer\\u201d issue of Time Out NY. It is nearly black in color with a roasted malt aroma, and flavors of dark chocolate, cocoa and chestnuts.\",\n          \"Our newest flagship ale is pale gold in color with a well-formed, bright white foam head. Moderate hop aromas of pine and lychee are followed by light yet bright malt tones from English crystal and Canadian honey malts. Finishing with bright and zesty hop flavors, it\\u2019s a light and refreshing ale that does not skimp on flavor or character. Perfect after a local hike in beautiful namesake Palo Comado Canyon.\\r\\n\\r\\nFormerly: Palo Comado XPA\"\n        ],\n        \"semantic_type\": \"\",\n        \"description\": \"\"\n      }\n    },\n    {\n      \"column\": \"glass\",\n      \"properties\": {\n        \"dtype\": \"category\",\n        \"num_unique_values\": 12,\n        \"samples\": [\n          \"Oversized Wine Glass\",\n          \"Goblet\",\n          \"Pint\"\n        ],\n        \"semantic_type\": \"\",\n        \"description\": \"\"\n      }\n    },\n    {\n      \"column\": \"ibu\",\n      \"properties\": {\n        \"dtype\": \"number\",\n        \"std\": 28.846227740069683,\n        \"min\": 1.0,\n        \"max\": 1000.0,\n        \"num_unique_values\": 384,\n        \"samples\": [\n          89.0,\n          86.3,\n          60.5\n        ],\n        \"semantic_type\": \"\",\n        \"description\": \"\"\n      }\n    },\n    {\n      \"column\": \"isOrganic\",\n      \"properties\": {\n        \"dtype\": \"category\",\n        \"num_unique_values\": 2,\n        \"samples\": [\n          \"Y\",\n          \"N\"\n        ],\n        \"semantic_type\": \"\",\n        \"description\": \"\"\n      }\n    },\n    {\n      \"column\": \"name\",\n      \"properties\": {\n        \"dtype\": \"string\",\n        \"num_unique_values\": 5563,\n        \"samples\": [\n          \"19 Days Maibock\",\n          \"Bootjack IPA\"\n        ],\n        \"semantic_type\": \"\",\n        \"description\": \"\"\n      }\n    },\n    {\n      \"column\": \"originalGravity\",\n      \"properties\": {\n        \"dtype\": \"number\",\n        \"std\": 0.02174658081544754,\n        \"min\": 1.0,\n        \"max\": 1.98,\n        \"num_unique_values\": 128,\n        \"samples\": [\n          1.041,\n          1.053\n        ],\n        \"semantic_type\": \"\",\n        \"description\": \"\"\n      }\n    },\n    {\n      \"column\": \"srm\",\n      \"properties\": {\n        \"dtype\": \"category\",\n        \"num_unique_values\": 75,\n        \"samples\": [\n          \"3\",\n          \"72\"\n        ],\n        \"semantic_type\": \"\",\n        \"description\": \"\"\n      }\n    }\n  ]\n}"
            }
          },
          "metadata": {},
          "execution_count": 286
        }
      ]
    },
    {
      "cell_type": "markdown",
      "metadata": {
        "id": "vgaFvqueY8Dc"
      },
      "source": [
        "## Question 1\n",
        "\n",
        "Fit at least **three** different machine learning models that are different from the models that you fit in Part A of this lab.\n",
        "\n",
        "Models are considered \"different\" if they use:\n",
        "\n",
        "- different sets of input features,\n",
        "- different preprocessing, or\n",
        "- different machine learning methods/algorithms.\n",
        "\n",
        "You are encouraged to try varying all three!\n",
        "\n",
        "For each of your three models, you should do a grid search to find the best hyperparameters."
      ]
    },
    {
      "cell_type": "markdown",
      "source": [
        "# Model 1: Linear Support Vector Regression: RMSE-21.15"
      ],
      "metadata": {
        "id": "qLr_P1BDVIot"
      }
    },
    {
      "cell_type": "markdown",
      "source": [
        "## Step 1: evaluate best combination of features"
      ],
      "metadata": {
        "id": "Wm-Nf_F0ahse"
      }
    },
    {
      "cell_type": "code",
      "source": [
        "# Select prediction features\n",
        "X_train_1 = train_df[[\"abv\", \"name\"]]\n",
        "X_train_2 = train_df[[\"abv\", \"available\", \"name\", \"glass\", \"description\"]].fillna(\"\")\n",
        "X_train_3 = train_df[[\"abv\", \"available\", \"name\", \"glass\", \"description\", \"srm\"]].fillna(\"\")\n",
        "y_train = train_df[[\"ibu\"]]\n",
        "y_train = y_train.values.ravel()"
      ],
      "metadata": {
        "id": "ol0Ku6r9S6iu"
      },
      "execution_count": null,
      "outputs": []
    },
    {
      "cell_type": "code",
      "source": [
        "# make column transformer for each features group\n",
        "col_transformer_1 = make_column_transformer(\n",
        "    (StandardScaler(), [\"abv\"]),\n",
        "    (TfidfVectorizer(max_features=100), \"name\"),\n",
        "    remainder=\"drop\"\n",
        "    )\n",
        "\n",
        "col_transformer_2 = make_column_transformer(\n",
        "    (StandardScaler(), [\"abv\"]),\n",
        "    (OneHotEncoder(handle_unknown=\"ignore\", sparse_output=False), [\"available\", \"glass\"]),\n",
        "    (TfidfVectorizer(max_features=100), \"name\"),\n",
        "    remainder=\"drop\"\n",
        "  )\n",
        "\n",
        "col_transformer_3 = make_column_transformer(\n",
        "    (StandardScaler(), [\"abv\"]),\n",
        "    (OneHotEncoder(handle_unknown=\"ignore\", sparse_output=False), [\"available\", \"glass\", \"srm\"]),\n",
        "    (TfidfVectorizer(max_features=100), \"name\"),\n",
        "    (TfidfVectorizer(max_features=100), \"description\"),\n",
        "    remainder=\"drop\"\n",
        "  )"
      ],
      "metadata": {
        "id": "LDdIQB8-XvDj"
      },
      "execution_count": null,
      "outputs": []
    },
    {
      "cell_type": "code",
      "source": [
        "#make pipeline for each features group\n",
        "pipe1 = make_pipeline(\n",
        "    col_transformer_1,\n",
        "    LinearSVR()\n",
        ")\n",
        "\n",
        "pipe2 = make_pipeline(\n",
        "    col_transformer_2,\n",
        "    LinearSVR()\n",
        ")\n",
        "\n",
        "pipe3 = make_pipeline(\n",
        "    col_transformer_3,\n",
        "    LinearSVR()\n",
        ")"
      ],
      "metadata": {
        "id": "5Cj6nN7nXz5R"
      },
      "execution_count": null,
      "outputs": []
    },
    {
      "cell_type": "code",
      "source": [
        "warnings.filterwarnings(action='ignore', category=DataConversionWarning)\n",
        "\n",
        "#calculate RMSE for each features group\n",
        "train_list = [X_train_1, X_train_2, X_train_3]\n",
        "pipe_list = [pipe1, pipe2, pipe3]\n",
        "features_list = [\"Group 1\", \"Group 2\", \"Group 3\"]\n",
        "\n",
        "def calculate_RMSE(name, pipeline, training_data):\n",
        "  scores = cross_val_score(\n",
        "    pipeline,\n",
        "    X=training_data,\n",
        "    y=y_train,\n",
        "    cv=15,\n",
        "    scoring=\"neg_mean_squared_error\"\n",
        "  )\n",
        "  print(name + \" RMSE: \", np.sqrt(-scores.mean()))\n",
        "  return\n",
        "\n",
        "for i in range(3):\n",
        "  calculate_RMSE(features_list[i], pipe_list[i], train_list[i])"
      ],
      "metadata": {
        "colab": {
          "base_uri": "https://localhost:8080/"
        },
        "id": "qOuOHNoCX2mu",
        "outputId": "84f34c8d-e5fa-43ca-d9cf-987d425ff313"
      },
      "execution_count": null,
      "outputs": [
        {
          "output_type": "stream",
          "name": "stdout",
          "text": [
            "Group 1 RMSE:  23.27987743419027\n",
            "Group 2 RMSE:  23.161141354967096\n",
            "Group 3 RMSE:  21.39284098916195\n"
          ]
        }
      ]
    },
    {
      "cell_type": "markdown",
      "source": [
        "Conclusion: group 3 of features is ideal"
      ],
      "metadata": {
        "id": "mE-C9XFObfRB"
      }
    },
    {
      "cell_type": "markdown",
      "source": [
        "## Step 2: determine best combination of parameters"
      ],
      "metadata": {
        "id": "9RmrUHp0blWl"
      }
    },
    {
      "cell_type": "code",
      "source": [
        "def estimate_test_mse(scaler):\n",
        "  # TODO: estimate the test error for given distance metric and scaler\n",
        "  col_transformer = make_column_transformer(\n",
        "    (scaler, [\"abv\"]),\n",
        "    (OneHotEncoder(handle_unknown=\"ignore\", sparse_output=False), [\"available\", \"glass\", \"srm\"]),\n",
        "    (TfidfVectorizer(max_features=100), \"name\"),\n",
        "    (TfidfVectorizer(max_features=100), \"description\"),\n",
        "    remainder=\"drop\"\n",
        "  )\n",
        "\n",
        "  pipeline = make_pipeline(\n",
        "    col_transformer,\n",
        "    LinearSVR()\n",
        "  )\n",
        "\n",
        "  grid_cv = GridSearchCV(\n",
        "    pipeline,\n",
        "    scoring=\"neg_mean_squared_error\",\n",
        "    n_jobs=-1,\n",
        "    param_grid={\n",
        "        \"linearsvr__loss\": [\"epsilon_insensitive\", \"squared_epsilon_insensitive\"],\n",
        "        \"linearsvr__epsilon\": [0, 0.5, 1],\n",
        "        \"linearsvr__fit_intercept\": [True, False]\n",
        "    },\n",
        "    cv=10,\n",
        "  )\n",
        "  grid_cv.fit(X_train_3, y_train)\n",
        "  return grid_cv\n",
        "\n",
        "# TODO: iterate over scalers, calling `estimate_test_mse`\n",
        "scalers = [StandardScaler(), MinMaxScaler(), MaxAbsScaler(), Normalizer()]\n",
        "grid_cv_list_LSVR = []\n",
        "for scaler in scalers:\n",
        "  grid_cv_list_LSVR.append(estimate_test_mse(scaler))\n"
      ],
      "metadata": {
        "id": "BbECNcjcbtwL"
      },
      "execution_count": null,
      "outputs": []
    },
    {
      "cell_type": "code",
      "source": [
        "#extract best pipeline from grid_cv list\n",
        "best_grid_LSVR = max(grid_cv_list_LSVR, key=lambda x: x.best_score_)\n",
        "best_pipeline_LSVR = best_grid_LSVR.best_estimator_\n",
        "best_pipeline_LSVR"
      ],
      "metadata": {
        "colab": {
          "base_uri": "https://localhost:8080/",
          "height": 215
        },
        "id": "ojU9C4RJe4ce",
        "outputId": "eb685c3a-afe3-484e-c0d8-c1d0b5270b87"
      },
      "execution_count": null,
      "outputs": [
        {
          "output_type": "execute_result",
          "data": {
            "text/plain": [
              "Pipeline(steps=[('columntransformer',\n",
              "                 ColumnTransformer(transformers=[('minmaxscaler',\n",
              "                                                  MinMaxScaler(), ['abv']),\n",
              "                                                 ('onehotencoder',\n",
              "                                                  OneHotEncoder(handle_unknown='ignore',\n",
              "                                                                sparse_output=False),\n",
              "                                                  ['available', 'glass',\n",
              "                                                   'srm']),\n",
              "                                                 ('tfidfvectorizer-1',\n",
              "                                                  TfidfVectorizer(max_features=100),\n",
              "                                                  'name'),\n",
              "                                                 ('tfidfvectorizer-2',\n",
              "                                                  TfidfVectorizer(max_features=100),\n",
              "                                                  'description')])),\n",
              "                ('linearsvr',\n",
              "                 LinearSVR(epsilon=0, fit_intercept=False,\n",
              "                           loss='squared_epsilon_insensitive'))])"
            ],
            "text/html": [
              "<style>#sk-container-id-8 {color: black;background-color: white;}#sk-container-id-8 pre{padding: 0;}#sk-container-id-8 div.sk-toggleable {background-color: white;}#sk-container-id-8 label.sk-toggleable__label {cursor: pointer;display: block;width: 100%;margin-bottom: 0;padding: 0.3em;box-sizing: border-box;text-align: center;}#sk-container-id-8 label.sk-toggleable__label-arrow:before {content: \"▸\";float: left;margin-right: 0.25em;color: #696969;}#sk-container-id-8 label.sk-toggleable__label-arrow:hover:before {color: black;}#sk-container-id-8 div.sk-estimator:hover label.sk-toggleable__label-arrow:before {color: black;}#sk-container-id-8 div.sk-toggleable__content {max-height: 0;max-width: 0;overflow: hidden;text-align: left;background-color: #f0f8ff;}#sk-container-id-8 div.sk-toggleable__content pre {margin: 0.2em;color: black;border-radius: 0.25em;background-color: #f0f8ff;}#sk-container-id-8 input.sk-toggleable__control:checked~div.sk-toggleable__content {max-height: 200px;max-width: 100%;overflow: auto;}#sk-container-id-8 input.sk-toggleable__control:checked~label.sk-toggleable__label-arrow:before {content: \"▾\";}#sk-container-id-8 div.sk-estimator input.sk-toggleable__control:checked~label.sk-toggleable__label {background-color: #d4ebff;}#sk-container-id-8 div.sk-label input.sk-toggleable__control:checked~label.sk-toggleable__label {background-color: #d4ebff;}#sk-container-id-8 input.sk-hidden--visually {border: 0;clip: rect(1px 1px 1px 1px);clip: rect(1px, 1px, 1px, 1px);height: 1px;margin: -1px;overflow: hidden;padding: 0;position: absolute;width: 1px;}#sk-container-id-8 div.sk-estimator {font-family: monospace;background-color: #f0f8ff;border: 1px dotted black;border-radius: 0.25em;box-sizing: border-box;margin-bottom: 0.5em;}#sk-container-id-8 div.sk-estimator:hover {background-color: #d4ebff;}#sk-container-id-8 div.sk-parallel-item::after {content: \"\";width: 100%;border-bottom: 1px solid gray;flex-grow: 1;}#sk-container-id-8 div.sk-label:hover label.sk-toggleable__label {background-color: #d4ebff;}#sk-container-id-8 div.sk-serial::before {content: \"\";position: absolute;border-left: 1px solid gray;box-sizing: border-box;top: 0;bottom: 0;left: 50%;z-index: 0;}#sk-container-id-8 div.sk-serial {display: flex;flex-direction: column;align-items: center;background-color: white;padding-right: 0.2em;padding-left: 0.2em;position: relative;}#sk-container-id-8 div.sk-item {position: relative;z-index: 1;}#sk-container-id-8 div.sk-parallel {display: flex;align-items: stretch;justify-content: center;background-color: white;position: relative;}#sk-container-id-8 div.sk-item::before, #sk-container-id-8 div.sk-parallel-item::before {content: \"\";position: absolute;border-left: 1px solid gray;box-sizing: border-box;top: 0;bottom: 0;left: 50%;z-index: -1;}#sk-container-id-8 div.sk-parallel-item {display: flex;flex-direction: column;z-index: 1;position: relative;background-color: white;}#sk-container-id-8 div.sk-parallel-item:first-child::after {align-self: flex-end;width: 50%;}#sk-container-id-8 div.sk-parallel-item:last-child::after {align-self: flex-start;width: 50%;}#sk-container-id-8 div.sk-parallel-item:only-child::after {width: 0;}#sk-container-id-8 div.sk-dashed-wrapped {border: 1px dashed gray;margin: 0 0.4em 0.5em 0.4em;box-sizing: border-box;padding-bottom: 0.4em;background-color: white;}#sk-container-id-8 div.sk-label label {font-family: monospace;font-weight: bold;display: inline-block;line-height: 1.2em;}#sk-container-id-8 div.sk-label-container {text-align: center;}#sk-container-id-8 div.sk-container {/* jupyter's `normalize.less` sets `[hidden] { display: none; }` but bootstrap.min.css set `[hidden] { display: none !important; }` so we also need the `!important` here to be able to override the default hidden behavior on the sphinx rendered scikit-learn.org. See: https://github.com/scikit-learn/scikit-learn/issues/21755 */display: inline-block !important;position: relative;}#sk-container-id-8 div.sk-text-repr-fallback {display: none;}</style><div id=\"sk-container-id-8\" class=\"sk-top-container\"><div class=\"sk-text-repr-fallback\"><pre>Pipeline(steps=[(&#x27;columntransformer&#x27;,\n",
              "                 ColumnTransformer(transformers=[(&#x27;minmaxscaler&#x27;,\n",
              "                                                  MinMaxScaler(), [&#x27;abv&#x27;]),\n",
              "                                                 (&#x27;onehotencoder&#x27;,\n",
              "                                                  OneHotEncoder(handle_unknown=&#x27;ignore&#x27;,\n",
              "                                                                sparse_output=False),\n",
              "                                                  [&#x27;available&#x27;, &#x27;glass&#x27;,\n",
              "                                                   &#x27;srm&#x27;]),\n",
              "                                                 (&#x27;tfidfvectorizer-1&#x27;,\n",
              "                                                  TfidfVectorizer(max_features=100),\n",
              "                                                  &#x27;name&#x27;),\n",
              "                                                 (&#x27;tfidfvectorizer-2&#x27;,\n",
              "                                                  TfidfVectorizer(max_features=100),\n",
              "                                                  &#x27;description&#x27;)])),\n",
              "                (&#x27;linearsvr&#x27;,\n",
              "                 LinearSVR(epsilon=0, fit_intercept=False,\n",
              "                           loss=&#x27;squared_epsilon_insensitive&#x27;))])</pre><b>In a Jupyter environment, please rerun this cell to show the HTML representation or trust the notebook. <br />On GitHub, the HTML representation is unable to render, please try loading this page with nbviewer.org.</b></div><div class=\"sk-container\" hidden><div class=\"sk-item sk-dashed-wrapped\"><div class=\"sk-label-container\"><div class=\"sk-label sk-toggleable\"><input class=\"sk-toggleable__control sk-hidden--visually\" id=\"sk-estimator-id-74\" type=\"checkbox\" ><label for=\"sk-estimator-id-74\" class=\"sk-toggleable__label sk-toggleable__label-arrow\">Pipeline</label><div class=\"sk-toggleable__content\"><pre>Pipeline(steps=[(&#x27;columntransformer&#x27;,\n",
              "                 ColumnTransformer(transformers=[(&#x27;minmaxscaler&#x27;,\n",
              "                                                  MinMaxScaler(), [&#x27;abv&#x27;]),\n",
              "                                                 (&#x27;onehotencoder&#x27;,\n",
              "                                                  OneHotEncoder(handle_unknown=&#x27;ignore&#x27;,\n",
              "                                                                sparse_output=False),\n",
              "                                                  [&#x27;available&#x27;, &#x27;glass&#x27;,\n",
              "                                                   &#x27;srm&#x27;]),\n",
              "                                                 (&#x27;tfidfvectorizer-1&#x27;,\n",
              "                                                  TfidfVectorizer(max_features=100),\n",
              "                                                  &#x27;name&#x27;),\n",
              "                                                 (&#x27;tfidfvectorizer-2&#x27;,\n",
              "                                                  TfidfVectorizer(max_features=100),\n",
              "                                                  &#x27;description&#x27;)])),\n",
              "                (&#x27;linearsvr&#x27;,\n",
              "                 LinearSVR(epsilon=0, fit_intercept=False,\n",
              "                           loss=&#x27;squared_epsilon_insensitive&#x27;))])</pre></div></div></div><div class=\"sk-serial\"><div class=\"sk-item sk-dashed-wrapped\"><div class=\"sk-label-container\"><div class=\"sk-label sk-toggleable\"><input class=\"sk-toggleable__control sk-hidden--visually\" id=\"sk-estimator-id-75\" type=\"checkbox\" ><label for=\"sk-estimator-id-75\" class=\"sk-toggleable__label sk-toggleable__label-arrow\">columntransformer: ColumnTransformer</label><div class=\"sk-toggleable__content\"><pre>ColumnTransformer(transformers=[(&#x27;minmaxscaler&#x27;, MinMaxScaler(), [&#x27;abv&#x27;]),\n",
              "                                (&#x27;onehotencoder&#x27;,\n",
              "                                 OneHotEncoder(handle_unknown=&#x27;ignore&#x27;,\n",
              "                                               sparse_output=False),\n",
              "                                 [&#x27;available&#x27;, &#x27;glass&#x27;, &#x27;srm&#x27;]),\n",
              "                                (&#x27;tfidfvectorizer-1&#x27;,\n",
              "                                 TfidfVectorizer(max_features=100), &#x27;name&#x27;),\n",
              "                                (&#x27;tfidfvectorizer-2&#x27;,\n",
              "                                 TfidfVectorizer(max_features=100),\n",
              "                                 &#x27;description&#x27;)])</pre></div></div></div><div class=\"sk-parallel\"><div class=\"sk-parallel-item\"><div class=\"sk-item\"><div class=\"sk-label-container\"><div class=\"sk-label sk-toggleable\"><input class=\"sk-toggleable__control sk-hidden--visually\" id=\"sk-estimator-id-76\" type=\"checkbox\" ><label for=\"sk-estimator-id-76\" class=\"sk-toggleable__label sk-toggleable__label-arrow\">minmaxscaler</label><div class=\"sk-toggleable__content\"><pre>[&#x27;abv&#x27;]</pre></div></div></div><div class=\"sk-serial\"><div class=\"sk-item\"><div class=\"sk-estimator sk-toggleable\"><input class=\"sk-toggleable__control sk-hidden--visually\" id=\"sk-estimator-id-77\" type=\"checkbox\" ><label for=\"sk-estimator-id-77\" class=\"sk-toggleable__label sk-toggleable__label-arrow\">MinMaxScaler</label><div class=\"sk-toggleable__content\"><pre>MinMaxScaler()</pre></div></div></div></div></div></div><div class=\"sk-parallel-item\"><div class=\"sk-item\"><div class=\"sk-label-container\"><div class=\"sk-label sk-toggleable\"><input class=\"sk-toggleable__control sk-hidden--visually\" id=\"sk-estimator-id-78\" type=\"checkbox\" ><label for=\"sk-estimator-id-78\" class=\"sk-toggleable__label sk-toggleable__label-arrow\">onehotencoder</label><div class=\"sk-toggleable__content\"><pre>[&#x27;available&#x27;, &#x27;glass&#x27;, &#x27;srm&#x27;]</pre></div></div></div><div class=\"sk-serial\"><div class=\"sk-item\"><div class=\"sk-estimator sk-toggleable\"><input class=\"sk-toggleable__control sk-hidden--visually\" id=\"sk-estimator-id-79\" type=\"checkbox\" ><label for=\"sk-estimator-id-79\" class=\"sk-toggleable__label sk-toggleable__label-arrow\">OneHotEncoder</label><div class=\"sk-toggleable__content\"><pre>OneHotEncoder(handle_unknown=&#x27;ignore&#x27;, sparse_output=False)</pre></div></div></div></div></div></div><div class=\"sk-parallel-item\"><div class=\"sk-item\"><div class=\"sk-label-container\"><div class=\"sk-label sk-toggleable\"><input class=\"sk-toggleable__control sk-hidden--visually\" id=\"sk-estimator-id-80\" type=\"checkbox\" ><label for=\"sk-estimator-id-80\" class=\"sk-toggleable__label sk-toggleable__label-arrow\">tfidfvectorizer-1</label><div class=\"sk-toggleable__content\"><pre>name</pre></div></div></div><div class=\"sk-serial\"><div class=\"sk-item\"><div class=\"sk-estimator sk-toggleable\"><input class=\"sk-toggleable__control sk-hidden--visually\" id=\"sk-estimator-id-81\" type=\"checkbox\" ><label for=\"sk-estimator-id-81\" class=\"sk-toggleable__label sk-toggleable__label-arrow\">TfidfVectorizer</label><div class=\"sk-toggleable__content\"><pre>TfidfVectorizer(max_features=100)</pre></div></div></div></div></div></div><div class=\"sk-parallel-item\"><div class=\"sk-item\"><div class=\"sk-label-container\"><div class=\"sk-label sk-toggleable\"><input class=\"sk-toggleable__control sk-hidden--visually\" id=\"sk-estimator-id-82\" type=\"checkbox\" ><label for=\"sk-estimator-id-82\" class=\"sk-toggleable__label sk-toggleable__label-arrow\">tfidfvectorizer-2</label><div class=\"sk-toggleable__content\"><pre>description</pre></div></div></div><div class=\"sk-serial\"><div class=\"sk-item\"><div class=\"sk-estimator sk-toggleable\"><input class=\"sk-toggleable__control sk-hidden--visually\" id=\"sk-estimator-id-83\" type=\"checkbox\" ><label for=\"sk-estimator-id-83\" class=\"sk-toggleable__label sk-toggleable__label-arrow\">TfidfVectorizer</label><div class=\"sk-toggleable__content\"><pre>TfidfVectorizer(max_features=100)</pre></div></div></div></div></div></div></div></div><div class=\"sk-item\"><div class=\"sk-estimator sk-toggleable\"><input class=\"sk-toggleable__control sk-hidden--visually\" id=\"sk-estimator-id-84\" type=\"checkbox\" ><label for=\"sk-estimator-id-84\" class=\"sk-toggleable__label sk-toggleable__label-arrow\">LinearSVR</label><div class=\"sk-toggleable__content\"><pre>LinearSVR(epsilon=0, fit_intercept=False, loss=&#x27;squared_epsilon_insensitive&#x27;)</pre></div></div></div></div></div></div></div>"
            ]
          },
          "metadata": {},
          "execution_count": 232
        }
      ]
    },
    {
      "cell_type": "code",
      "source": [
        "#calculate error\n",
        "def calculate_RMSE(name, pipeline, training_data):\n",
        "  scores = cross_val_score(\n",
        "    pipeline,\n",
        "    X=training_data,\n",
        "    y=y_train,\n",
        "    cv=15,\n",
        "    scoring=\"neg_mean_squared_error\"\n",
        "  )\n",
        "  print(name + \" RMSE: \", np.sqrt(-scores.mean()))\n",
        "  return\n",
        "\n",
        "calculate_RMSE(\"Best LinearSVR combination\", best_pipeline_LSVR, X_train_3)"
      ],
      "metadata": {
        "colab": {
          "base_uri": "https://localhost:8080/"
        },
        "id": "w_oAP7EQkoAI",
        "outputId": "53b9b048-9948-4be2-b5f4-9ef02f1746e3"
      },
      "execution_count": null,
      "outputs": [
        {
          "output_type": "stream",
          "name": "stdout",
          "text": [
            "Best LinearSVR combination RMSE:  21.151924524819197\n"
          ]
        }
      ]
    },
    {
      "cell_type": "markdown",
      "source": [
        "# Model 2: Ridge Regression: RMSE-21.15"
      ],
      "metadata": {
        "id": "qAyQd0S_VXry"
      }
    },
    {
      "cell_type": "markdown",
      "source": [
        "## Step 1: evaluate best combination of features"
      ],
      "metadata": {
        "id": "7cdErjrepj-H"
      }
    },
    {
      "cell_type": "code",
      "source": [
        "# Select prediction features\n",
        "X_train_1 = train_df[[\"abv\", \"name\"]]\n",
        "X_train_2 = train_df[[\"abv\", \"available\", \"name\", \"glass\", \"description\", \"srm\"]].fillna(\"\")\n",
        "X_train_3 = train_df[[\"abv\", \"available\", \"name\", \"glass\", \"description\"]].fillna(\"\")\n",
        "y_train = train_df[[\"ibu\"]]\n",
        "y_train = y_train.values.ravel()"
      ],
      "metadata": {
        "id": "Kpnn8KSuppll"
      },
      "execution_count": null,
      "outputs": []
    },
    {
      "cell_type": "code",
      "source": [
        "# make column transformer for each features group\n",
        "\n",
        "col_transformer_1 = make_column_transformer(\n",
        "    (StandardScaler(), [\"abv\"]),\n",
        "    (TfidfVectorizer(max_features=100), \"name\"),\n",
        "    remainder=\"drop\"\n",
        "    )\n",
        "\n",
        "col_transformer_2 = make_column_transformer(\n",
        "    (StandardScaler(), [\"abv\"]),\n",
        "    (OneHotEncoder(handle_unknown=\"ignore\", sparse_output=False), [\"available\", \"glass\", \"srm\"]),\n",
        "    (TfidfVectorizer(max_features=100), \"name\"),\n",
        "    remainder=\"drop\"\n",
        "  )\n",
        "\n",
        "col_transformer_3 = make_column_transformer(\n",
        "    (StandardScaler(), [\"abv\"]),\n",
        "    (OneHotEncoder(handle_unknown=\"ignore\", sparse_output=False), [\"available\", \"glass\"]),\n",
        "    (TfidfVectorizer(max_features=100), \"name\"),\n",
        "    (TfidfVectorizer(max_features=100), \"description\"),\n",
        "    remainder=\"drop\"\n",
        "  )"
      ],
      "metadata": {
        "id": "3mvQwdSgptAC"
      },
      "execution_count": null,
      "outputs": []
    },
    {
      "cell_type": "code",
      "source": [
        "#make pipeline for each features group\n",
        "pipe1 = make_pipeline(\n",
        "    col_transformer_1,\n",
        "    Ridge()\n",
        ")\n",
        "\n",
        "pipe2 = make_pipeline(\n",
        "    col_transformer_2,\n",
        "    Ridge()\n",
        ")\n",
        "\n",
        "pipe3 = make_pipeline(\n",
        "    col_transformer_3,\n",
        "    Ridge()\n",
        ")"
      ],
      "metadata": {
        "id": "6qGuYeRdpw3q"
      },
      "execution_count": null,
      "outputs": []
    },
    {
      "cell_type": "code",
      "source": [
        "warnings.filterwarnings(action='ignore', category=DataConversionWarning)\n",
        "\n",
        "#calculate RMSE for each features group\n",
        "train_list = [X_train_1, X_train_2, X_train_3]\n",
        "pipe_list = [pipe1, pipe2, pipe3]\n",
        "features_list = [\"Group 1\", \"Group 2\", \"Group 3\"]\n",
        "\n",
        "def calculate_RMSE(name, pipeline, training_data):\n",
        "  scores = cross_val_score(\n",
        "    pipeline,\n",
        "    X=training_data,\n",
        "    y=y_train,\n",
        "    cv=15,\n",
        "    scoring=\"neg_mean_squared_error\"\n",
        "  )\n",
        "  print(name + \" RMSE: \", np.sqrt(-scores.mean()))\n",
        "  return\n",
        "\n",
        "for i in range(3):\n",
        "  calculate_RMSE(features_list[i], pipe_list[i], train_list[i])"
      ],
      "metadata": {
        "colab": {
          "base_uri": "https://localhost:8080/"
        },
        "id": "sg6c1lwBqXmr",
        "outputId": "8770f98c-65b3-4bac-8a32-3967550a6b14"
      },
      "execution_count": null,
      "outputs": [
        {
          "output_type": "stream",
          "name": "stdout",
          "text": [
            "Group 1 RMSE:  22.907959251719415\n",
            "Group 2 RMSE:  22.51290500833821\n",
            "Group 3 RMSE:  21.201501474588166\n"
          ]
        }
      ]
    },
    {
      "cell_type": "markdown",
      "source": [
        "Conclusion: features group 3 is ideal"
      ],
      "metadata": {
        "id": "fST1Owpwrn05"
      }
    },
    {
      "cell_type": "markdown",
      "source": [
        "## Step 2: determine best combination of parameters"
      ],
      "metadata": {
        "id": "M76q748hrs1d"
      }
    },
    {
      "cell_type": "code",
      "source": [
        "warnings.filterwarnings(action='ignore', category=DataConversionWarning)\n",
        "\n",
        "def estimate_test_mse(scaler):\n",
        "  # TODO: estimate the test error for given distance metric and scaler\n",
        "  col_transformer = make_column_transformer(\n",
        "    (scaler, [\"abv\"]),\n",
        "    (OneHotEncoder(handle_unknown=\"ignore\", sparse_output=False), [\"available\", \"glass\"]),\n",
        "    (TfidfVectorizer(max_features=100), \"name\"),\n",
        "    (TfidfVectorizer(max_features=100), \"description\"),\n",
        "    remainder=\"drop\"\n",
        "  )\n",
        "\n",
        "  pipeline = make_pipeline(\n",
        "    col_transformer,\n",
        "    Ridge()\n",
        "  )\n",
        "\n",
        "  grid_cv = GridSearchCV(\n",
        "    pipeline,\n",
        "    scoring=\"neg_mean_squared_error\",\n",
        "    n_jobs=-1,\n",
        "    param_grid={\n",
        "        \"ridge__alpha\": [1e-15,1e-10,1e-8,1e-3,1e-2,1,5,10,20,30,35,40,45,50,55,100],\n",
        "        \"ridge__solver\": [\"auto\"]\n",
        "    },\n",
        "    cv=10,\n",
        "  )\n",
        "  grid_cv.fit(X_train_3, y_train)\n",
        "  return grid_cv\n",
        "\n",
        "# TODO: iterate over scalers, calling `estimate_test_mse`\n",
        "scalers = [StandardScaler(), MinMaxScaler(), MaxAbsScaler(), Normalizer()]\n",
        "grid_cv_list_RR = []\n",
        "for scaler in scalers:\n",
        "  grid_cv_list_RR.append(estimate_test_mse(scaler))"
      ],
      "metadata": {
        "id": "X0eot-kMrrpL"
      },
      "execution_count": null,
      "outputs": []
    },
    {
      "cell_type": "code",
      "source": [
        "#extract best pipeline from grid_cv list\n",
        "best_grid_cv = max(grid_cv_list_RR, key=lambda x: x.best_score_)\n",
        "best_pipeline_RR = best_grid_cv.best_estimator_\n",
        "best_pipeline_RR"
      ],
      "metadata": {
        "colab": {
          "base_uri": "https://localhost:8080/",
          "height": 215
        },
        "id": "aIrKpucHyZSJ",
        "outputId": "76087650-de16-41e9-f759-b851e3b97144"
      },
      "execution_count": null,
      "outputs": [
        {
          "output_type": "execute_result",
          "data": {
            "text/plain": [
              "Pipeline(steps=[('columntransformer',\n",
              "                 ColumnTransformer(transformers=[('standardscaler',\n",
              "                                                  StandardScaler(), ['abv']),\n",
              "                                                 ('onehotencoder',\n",
              "                                                  OneHotEncoder(handle_unknown='ignore',\n",
              "                                                                sparse_output=False),\n",
              "                                                  ['available', 'glass']),\n",
              "                                                 ('tfidfvectorizer-1',\n",
              "                                                  TfidfVectorizer(max_features=100),\n",
              "                                                  'name'),\n",
              "                                                 ('tfidfvectorizer-2',\n",
              "                                                  TfidfVectorizer(max_features=100),\n",
              "                                                  'description')])),\n",
              "                ('ridge', Ridge(alpha=10))])"
            ],
            "text/html": [
              "<style>#sk-container-id-13 {color: black;background-color: white;}#sk-container-id-13 pre{padding: 0;}#sk-container-id-13 div.sk-toggleable {background-color: white;}#sk-container-id-13 label.sk-toggleable__label {cursor: pointer;display: block;width: 100%;margin-bottom: 0;padding: 0.3em;box-sizing: border-box;text-align: center;}#sk-container-id-13 label.sk-toggleable__label-arrow:before {content: \"▸\";float: left;margin-right: 0.25em;color: #696969;}#sk-container-id-13 label.sk-toggleable__label-arrow:hover:before {color: black;}#sk-container-id-13 div.sk-estimator:hover label.sk-toggleable__label-arrow:before {color: black;}#sk-container-id-13 div.sk-toggleable__content {max-height: 0;max-width: 0;overflow: hidden;text-align: left;background-color: #f0f8ff;}#sk-container-id-13 div.sk-toggleable__content pre {margin: 0.2em;color: black;border-radius: 0.25em;background-color: #f0f8ff;}#sk-container-id-13 input.sk-toggleable__control:checked~div.sk-toggleable__content {max-height: 200px;max-width: 100%;overflow: auto;}#sk-container-id-13 input.sk-toggleable__control:checked~label.sk-toggleable__label-arrow:before {content: \"▾\";}#sk-container-id-13 div.sk-estimator input.sk-toggleable__control:checked~label.sk-toggleable__label {background-color: #d4ebff;}#sk-container-id-13 div.sk-label input.sk-toggleable__control:checked~label.sk-toggleable__label {background-color: #d4ebff;}#sk-container-id-13 input.sk-hidden--visually {border: 0;clip: rect(1px 1px 1px 1px);clip: rect(1px, 1px, 1px, 1px);height: 1px;margin: -1px;overflow: hidden;padding: 0;position: absolute;width: 1px;}#sk-container-id-13 div.sk-estimator {font-family: monospace;background-color: #f0f8ff;border: 1px dotted black;border-radius: 0.25em;box-sizing: border-box;margin-bottom: 0.5em;}#sk-container-id-13 div.sk-estimator:hover {background-color: #d4ebff;}#sk-container-id-13 div.sk-parallel-item::after {content: \"\";width: 100%;border-bottom: 1px solid gray;flex-grow: 1;}#sk-container-id-13 div.sk-label:hover label.sk-toggleable__label {background-color: #d4ebff;}#sk-container-id-13 div.sk-serial::before {content: \"\";position: absolute;border-left: 1px solid gray;box-sizing: border-box;top: 0;bottom: 0;left: 50%;z-index: 0;}#sk-container-id-13 div.sk-serial {display: flex;flex-direction: column;align-items: center;background-color: white;padding-right: 0.2em;padding-left: 0.2em;position: relative;}#sk-container-id-13 div.sk-item {position: relative;z-index: 1;}#sk-container-id-13 div.sk-parallel {display: flex;align-items: stretch;justify-content: center;background-color: white;position: relative;}#sk-container-id-13 div.sk-item::before, #sk-container-id-13 div.sk-parallel-item::before {content: \"\";position: absolute;border-left: 1px solid gray;box-sizing: border-box;top: 0;bottom: 0;left: 50%;z-index: -1;}#sk-container-id-13 div.sk-parallel-item {display: flex;flex-direction: column;z-index: 1;position: relative;background-color: white;}#sk-container-id-13 div.sk-parallel-item:first-child::after {align-self: flex-end;width: 50%;}#sk-container-id-13 div.sk-parallel-item:last-child::after {align-self: flex-start;width: 50%;}#sk-container-id-13 div.sk-parallel-item:only-child::after {width: 0;}#sk-container-id-13 div.sk-dashed-wrapped {border: 1px dashed gray;margin: 0 0.4em 0.5em 0.4em;box-sizing: border-box;padding-bottom: 0.4em;background-color: white;}#sk-container-id-13 div.sk-label label {font-family: monospace;font-weight: bold;display: inline-block;line-height: 1.2em;}#sk-container-id-13 div.sk-label-container {text-align: center;}#sk-container-id-13 div.sk-container {/* jupyter's `normalize.less` sets `[hidden] { display: none; }` but bootstrap.min.css set `[hidden] { display: none !important; }` so we also need the `!important` here to be able to override the default hidden behavior on the sphinx rendered scikit-learn.org. See: https://github.com/scikit-learn/scikit-learn/issues/21755 */display: inline-block !important;position: relative;}#sk-container-id-13 div.sk-text-repr-fallback {display: none;}</style><div id=\"sk-container-id-13\" class=\"sk-top-container\"><div class=\"sk-text-repr-fallback\"><pre>Pipeline(steps=[(&#x27;columntransformer&#x27;,\n",
              "                 ColumnTransformer(transformers=[(&#x27;standardscaler&#x27;,\n",
              "                                                  StandardScaler(), [&#x27;abv&#x27;]),\n",
              "                                                 (&#x27;onehotencoder&#x27;,\n",
              "                                                  OneHotEncoder(handle_unknown=&#x27;ignore&#x27;,\n",
              "                                                                sparse_output=False),\n",
              "                                                  [&#x27;available&#x27;, &#x27;glass&#x27;]),\n",
              "                                                 (&#x27;tfidfvectorizer-1&#x27;,\n",
              "                                                  TfidfVectorizer(max_features=100),\n",
              "                                                  &#x27;name&#x27;),\n",
              "                                                 (&#x27;tfidfvectorizer-2&#x27;,\n",
              "                                                  TfidfVectorizer(max_features=100),\n",
              "                                                  &#x27;description&#x27;)])),\n",
              "                (&#x27;ridge&#x27;, Ridge(alpha=10))])</pre><b>In a Jupyter environment, please rerun this cell to show the HTML representation or trust the notebook. <br />On GitHub, the HTML representation is unable to render, please try loading this page with nbviewer.org.</b></div><div class=\"sk-container\" hidden><div class=\"sk-item sk-dashed-wrapped\"><div class=\"sk-label-container\"><div class=\"sk-label sk-toggleable\"><input class=\"sk-toggleable__control sk-hidden--visually\" id=\"sk-estimator-id-125\" type=\"checkbox\" ><label for=\"sk-estimator-id-125\" class=\"sk-toggleable__label sk-toggleable__label-arrow\">Pipeline</label><div class=\"sk-toggleable__content\"><pre>Pipeline(steps=[(&#x27;columntransformer&#x27;,\n",
              "                 ColumnTransformer(transformers=[(&#x27;standardscaler&#x27;,\n",
              "                                                  StandardScaler(), [&#x27;abv&#x27;]),\n",
              "                                                 (&#x27;onehotencoder&#x27;,\n",
              "                                                  OneHotEncoder(handle_unknown=&#x27;ignore&#x27;,\n",
              "                                                                sparse_output=False),\n",
              "                                                  [&#x27;available&#x27;, &#x27;glass&#x27;]),\n",
              "                                                 (&#x27;tfidfvectorizer-1&#x27;,\n",
              "                                                  TfidfVectorizer(max_features=100),\n",
              "                                                  &#x27;name&#x27;),\n",
              "                                                 (&#x27;tfidfvectorizer-2&#x27;,\n",
              "                                                  TfidfVectorizer(max_features=100),\n",
              "                                                  &#x27;description&#x27;)])),\n",
              "                (&#x27;ridge&#x27;, Ridge(alpha=10))])</pre></div></div></div><div class=\"sk-serial\"><div class=\"sk-item sk-dashed-wrapped\"><div class=\"sk-label-container\"><div class=\"sk-label sk-toggleable\"><input class=\"sk-toggleable__control sk-hidden--visually\" id=\"sk-estimator-id-126\" type=\"checkbox\" ><label for=\"sk-estimator-id-126\" class=\"sk-toggleable__label sk-toggleable__label-arrow\">columntransformer: ColumnTransformer</label><div class=\"sk-toggleable__content\"><pre>ColumnTransformer(transformers=[(&#x27;standardscaler&#x27;, StandardScaler(), [&#x27;abv&#x27;]),\n",
              "                                (&#x27;onehotencoder&#x27;,\n",
              "                                 OneHotEncoder(handle_unknown=&#x27;ignore&#x27;,\n",
              "                                               sparse_output=False),\n",
              "                                 [&#x27;available&#x27;, &#x27;glass&#x27;]),\n",
              "                                (&#x27;tfidfvectorizer-1&#x27;,\n",
              "                                 TfidfVectorizer(max_features=100), &#x27;name&#x27;),\n",
              "                                (&#x27;tfidfvectorizer-2&#x27;,\n",
              "                                 TfidfVectorizer(max_features=100),\n",
              "                                 &#x27;description&#x27;)])</pre></div></div></div><div class=\"sk-parallel\"><div class=\"sk-parallel-item\"><div class=\"sk-item\"><div class=\"sk-label-container\"><div class=\"sk-label sk-toggleable\"><input class=\"sk-toggleable__control sk-hidden--visually\" id=\"sk-estimator-id-127\" type=\"checkbox\" ><label for=\"sk-estimator-id-127\" class=\"sk-toggleable__label sk-toggleable__label-arrow\">standardscaler</label><div class=\"sk-toggleable__content\"><pre>[&#x27;abv&#x27;]</pre></div></div></div><div class=\"sk-serial\"><div class=\"sk-item\"><div class=\"sk-estimator sk-toggleable\"><input class=\"sk-toggleable__control sk-hidden--visually\" id=\"sk-estimator-id-128\" type=\"checkbox\" ><label for=\"sk-estimator-id-128\" class=\"sk-toggleable__label sk-toggleable__label-arrow\">StandardScaler</label><div class=\"sk-toggleable__content\"><pre>StandardScaler()</pre></div></div></div></div></div></div><div class=\"sk-parallel-item\"><div class=\"sk-item\"><div class=\"sk-label-container\"><div class=\"sk-label sk-toggleable\"><input class=\"sk-toggleable__control sk-hidden--visually\" id=\"sk-estimator-id-129\" type=\"checkbox\" ><label for=\"sk-estimator-id-129\" class=\"sk-toggleable__label sk-toggleable__label-arrow\">onehotencoder</label><div class=\"sk-toggleable__content\"><pre>[&#x27;available&#x27;, &#x27;glass&#x27;]</pre></div></div></div><div class=\"sk-serial\"><div class=\"sk-item\"><div class=\"sk-estimator sk-toggleable\"><input class=\"sk-toggleable__control sk-hidden--visually\" id=\"sk-estimator-id-130\" type=\"checkbox\" ><label for=\"sk-estimator-id-130\" class=\"sk-toggleable__label sk-toggleable__label-arrow\">OneHotEncoder</label><div class=\"sk-toggleable__content\"><pre>OneHotEncoder(handle_unknown=&#x27;ignore&#x27;, sparse_output=False)</pre></div></div></div></div></div></div><div class=\"sk-parallel-item\"><div class=\"sk-item\"><div class=\"sk-label-container\"><div class=\"sk-label sk-toggleable\"><input class=\"sk-toggleable__control sk-hidden--visually\" id=\"sk-estimator-id-131\" type=\"checkbox\" ><label for=\"sk-estimator-id-131\" class=\"sk-toggleable__label sk-toggleable__label-arrow\">tfidfvectorizer-1</label><div class=\"sk-toggleable__content\"><pre>name</pre></div></div></div><div class=\"sk-serial\"><div class=\"sk-item\"><div class=\"sk-estimator sk-toggleable\"><input class=\"sk-toggleable__control sk-hidden--visually\" id=\"sk-estimator-id-132\" type=\"checkbox\" ><label for=\"sk-estimator-id-132\" class=\"sk-toggleable__label sk-toggleable__label-arrow\">TfidfVectorizer</label><div class=\"sk-toggleable__content\"><pre>TfidfVectorizer(max_features=100)</pre></div></div></div></div></div></div><div class=\"sk-parallel-item\"><div class=\"sk-item\"><div class=\"sk-label-container\"><div class=\"sk-label sk-toggleable\"><input class=\"sk-toggleable__control sk-hidden--visually\" id=\"sk-estimator-id-133\" type=\"checkbox\" ><label for=\"sk-estimator-id-133\" class=\"sk-toggleable__label sk-toggleable__label-arrow\">tfidfvectorizer-2</label><div class=\"sk-toggleable__content\"><pre>description</pre></div></div></div><div class=\"sk-serial\"><div class=\"sk-item\"><div class=\"sk-estimator sk-toggleable\"><input class=\"sk-toggleable__control sk-hidden--visually\" id=\"sk-estimator-id-134\" type=\"checkbox\" ><label for=\"sk-estimator-id-134\" class=\"sk-toggleable__label sk-toggleable__label-arrow\">TfidfVectorizer</label><div class=\"sk-toggleable__content\"><pre>TfidfVectorizer(max_features=100)</pre></div></div></div></div></div></div></div></div><div class=\"sk-item\"><div class=\"sk-estimator sk-toggleable\"><input class=\"sk-toggleable__control sk-hidden--visually\" id=\"sk-estimator-id-135\" type=\"checkbox\" ><label for=\"sk-estimator-id-135\" class=\"sk-toggleable__label sk-toggleable__label-arrow\">Ridge</label><div class=\"sk-toggleable__content\"><pre>Ridge(alpha=10)</pre></div></div></div></div></div></div></div>"
            ]
          },
          "metadata": {},
          "execution_count": 275
        }
      ]
    },
    {
      "cell_type": "markdown",
      "source": [
        "Conclusive features:\n",
        "\n",
        "\n",
        "*   StandardScaler()\n",
        "*   alpha=10\n",
        "\n"
      ],
      "metadata": {
        "id": "w72vvvgpz2sL"
      }
    },
    {
      "cell_type": "code",
      "source": [
        "#calculate error\n",
        "def calculate_RMSE(name, pipeline, training_data):\n",
        "  scores = cross_val_score(\n",
        "    pipeline,\n",
        "    X=training_data,\n",
        "    y=y_train,\n",
        "    cv=15,\n",
        "    scoring=\"neg_mean_squared_error\"\n",
        "  )\n",
        "  print(name + \" RMSE: \", np.sqrt(-scores.mean()))\n",
        "  return\n",
        "\n",
        "calculate_RMSE(\"Best Ridge Regression combination\", best_pipeline_RR, X_train_3)"
      ],
      "metadata": {
        "colab": {
          "base_uri": "https://localhost:8080/"
        },
        "id": "HQ6olpad9sy-",
        "outputId": "0eae1a0d-1067-42f8-bf0c-c5c4ef3736a8"
      },
      "execution_count": null,
      "outputs": [
        {
          "output_type": "stream",
          "name": "stdout",
          "text": [
            "Best Ridge Regression combination RMSE:  21.151270773480896\n"
          ]
        }
      ]
    },
    {
      "cell_type": "markdown",
      "source": [
        "# Model 3: Linear Regression: RMSE-21.23"
      ],
      "metadata": {
        "id": "AEKzyaKEl3vo"
      }
    },
    {
      "cell_type": "markdown",
      "source": [
        "## Step 1: evaluate best combination of features"
      ],
      "metadata": {
        "id": "1l8jfns-mArJ"
      }
    },
    {
      "cell_type": "code",
      "source": [
        "# Select prediction features\n",
        "X_train_1 = train_df[[\"abv\", \"name\"]]\n",
        "X_train_2 = train_df[[\"abv\", \"available\", \"name\", \"glass\", \"description\", \"originalGravity\"]].fillna(\"\")\n",
        "X_train_3 = train_df[[\"abv\", \"available\", \"name\", \"glass\", \"srm\", \"description\"]].fillna(\"\")\n",
        "y_train = train_df[[\"ibu\"]]\n",
        "y_train = y_train.values.ravel()\n",
        "\n"
      ],
      "metadata": {
        "id": "t2IlXfUY39C0"
      },
      "execution_count": null,
      "outputs": []
    },
    {
      "cell_type": "code",
      "source": [
        "# make column transformer for each features group\n",
        "\n",
        "col_transformer_1 = make_column_transformer(\n",
        "    (StandardScaler(), [\"abv\"]),\n",
        "    (TfidfVectorizer(max_features=100), \"name\"),\n",
        "    remainder=\"drop\"\n",
        "    )\n",
        "\n",
        "col_transformer_2 = make_column_transformer(\n",
        "    (StandardScaler(), [\"abv\", \"originalGravity\"]),\n",
        "    (OneHotEncoder(handle_unknown=\"ignore\", sparse_output=False), [\"available\", \"glass\"]),\n",
        "    (TfidfVectorizer(max_features=100), \"name\"),\n",
        "    remainder=\"drop\"\n",
        "  )\n",
        "\n",
        "col_transformer_3 = make_column_transformer(\n",
        "    (StandardScaler(), [\"abv\"]),\n",
        "    (OneHotEncoder(handle_unknown=\"ignore\", sparse_output=False), [\"available\", \"glass\"]),\n",
        "    (TfidfVectorizer(max_features=100), \"name\"),\n",
        "    (TfidfVectorizer(max_features=100), \"srm\"),\n",
        "    (TfidfVectorizer(max_features=100), \"description\"),\n",
        "    remainder=\"drop\"\n",
        "  )"
      ],
      "metadata": {
        "id": "ufeME2Xi4BEo"
      },
      "execution_count": null,
      "outputs": []
    },
    {
      "cell_type": "code",
      "source": [
        "#make pipeline for each features group\n",
        "pipe1 = make_pipeline(\n",
        "    col_transformer_1,\n",
        "    LinearRegression()\n",
        ")\n",
        "\n",
        "pipe2 = make_pipeline(\n",
        "    col_transformer_2,\n",
        "    LinearRegression()\n",
        ")\n",
        "\n",
        "pipe3 = make_pipeline(\n",
        "    col_transformer_3,\n",
        "    LinearRegression()\n",
        ")"
      ],
      "metadata": {
        "id": "kEs6uMA24BvN"
      },
      "execution_count": null,
      "outputs": []
    },
    {
      "cell_type": "code",
      "source": [
        "warnings.filterwarnings(action='ignore', category=DataConversionWarning)\n",
        "\n",
        "#calculate RMSE for each features group\n",
        "train_list = [X_train_1, X_train_2, X_train_3]\n",
        "pipe_list = [pipe1, pipe2, pipe3]\n",
        "features_list = [\"Group 1\", \"Group 2\", \"Group 3\"]\n",
        "\n",
        "def calculate_RMSE(name, pipeline, training_data):\n",
        "  scores = cross_val_score(\n",
        "    pipeline,\n",
        "    X=training_data,\n",
        "    y=y_train,\n",
        "    cv=15,\n",
        "    scoring=\"neg_mean_squared_error\"\n",
        "  )\n",
        "  print(name + \" RMSE: \", np.sqrt(-scores.mean()))\n",
        "  return\n",
        "\n",
        "for i in range(3):\n",
        "  calculate_RMSE(features_list[i], pipe_list[i], train_list[i])"
      ],
      "metadata": {
        "colab": {
          "base_uri": "https://localhost:8080/"
        },
        "id": "89XsRCao4EAI",
        "outputId": "762ab685-f917-4112-ba87-2c7643a4b450"
      },
      "execution_count": null,
      "outputs": [
        {
          "output_type": "stream",
          "name": "stdout",
          "text": [
            "Group 1 RMSE:  22.917630522219117\n",
            "Group 2 RMSE:  22.82881339173775\n",
            "Group 3 RMSE:  21.230687870321777\n"
          ]
        }
      ]
    },
    {
      "cell_type": "markdown",
      "source": [
        "## Step 2: find best parameters"
      ],
      "metadata": {
        "id": "Ec2WZGrt9aOb"
      }
    },
    {
      "cell_type": "code",
      "source": [
        "warnings.filterwarnings(action='ignore', category=DataConversionWarning)\n",
        "\n",
        "def estimate_test_mse(scaler):\n",
        "  # TODO: estimate the test error for given distance metric and scaler\n",
        "  col_transformer = make_column_transformer(\n",
        "    (scaler, [\"abv\"]),\n",
        "    (OneHotEncoder(handle_unknown=\"ignore\", sparse_output=False), [\"available\", \"glass\"]),\n",
        "    (TfidfVectorizer(max_features=100), \"name\"),\n",
        "    (TfidfVectorizer(max_features=100), \"srm\"),\n",
        "    (TfidfVectorizer(max_features=100), \"description\"),\n",
        "    remainder=\"drop\"\n",
        "  )\n",
        "\n",
        "  pipeline = make_pipeline(\n",
        "    col_transformer,\n",
        "    LinearRegression()\n",
        "  )\n",
        "\n",
        "  grid_cv = GridSearchCV(\n",
        "    pipeline,\n",
        "    scoring=\"neg_mean_squared_error\",\n",
        "    n_jobs=-1,\n",
        "    param_grid={\n",
        "        \"linearregression__fit_intercept\": [True, False]\n",
        "    },\n",
        "    cv=10,\n",
        "  )\n",
        "  grid_cv.fit(X_train_3, y_train)\n",
        "  return grid_cv\n",
        "\n",
        "# TODO: iterate over scalers, calling `estimate_test_mse`\n",
        "scalers = [StandardScaler(), MinMaxScaler(), MaxAbsScaler(), Normalizer()]\n",
        "grid_cv_list_LR = []\n",
        "for scaler in scalers:\n",
        "  grid_cv_list_LR.append(estimate_test_mse(scaler))"
      ],
      "metadata": {
        "id": "ms5hyXBeYldl"
      },
      "execution_count": null,
      "outputs": []
    },
    {
      "cell_type": "code",
      "source": [
        "#extract best pipeline from grid_cv list\n",
        "best_grid_cv = max(grid_cv_list_LR, key=lambda x: x.best_score_)\n",
        "best_pipeline_LR = best_grid_cv.best_estimator_\n",
        "best_pipeline_LR"
      ],
      "metadata": {
        "colab": {
          "base_uri": "https://localhost:8080/",
          "height": 192
        },
        "id": "aAZAiHN4ZTon",
        "outputId": "1b8a6b90-bd2e-4a74-f23c-b42bbbb391c6"
      },
      "execution_count": null,
      "outputs": [
        {
          "output_type": "execute_result",
          "data": {
            "text/plain": [
              "Pipeline(steps=[('columntransformer',\n",
              "                 ColumnTransformer(transformers=[('standardscaler',\n",
              "                                                  StandardScaler(), ['abv']),\n",
              "                                                 ('onehotencoder',\n",
              "                                                  OneHotEncoder(handle_unknown='ignore',\n",
              "                                                                sparse_output=False),\n",
              "                                                  ['available', 'glass']),\n",
              "                                                 ('tfidfvectorizer-1',\n",
              "                                                  TfidfVectorizer(max_features=100),\n",
              "                                                  'name'),\n",
              "                                                 ('tfidfvectorizer-2',\n",
              "                                                  TfidfVectorizer(max_features=100),\n",
              "                                                  'srm'),\n",
              "                                                 ('tfidfvectorizer-3',\n",
              "                                                  TfidfVectorizer(max_features=100),\n",
              "                                                  'description')])),\n",
              "                ('linearregression', LinearRegression())])"
            ],
            "text/html": [
              "<style>#sk-container-id-6 {color: black;background-color: white;}#sk-container-id-6 pre{padding: 0;}#sk-container-id-6 div.sk-toggleable {background-color: white;}#sk-container-id-6 label.sk-toggleable__label {cursor: pointer;display: block;width: 100%;margin-bottom: 0;padding: 0.3em;box-sizing: border-box;text-align: center;}#sk-container-id-6 label.sk-toggleable__label-arrow:before {content: \"▸\";float: left;margin-right: 0.25em;color: #696969;}#sk-container-id-6 label.sk-toggleable__label-arrow:hover:before {color: black;}#sk-container-id-6 div.sk-estimator:hover label.sk-toggleable__label-arrow:before {color: black;}#sk-container-id-6 div.sk-toggleable__content {max-height: 0;max-width: 0;overflow: hidden;text-align: left;background-color: #f0f8ff;}#sk-container-id-6 div.sk-toggleable__content pre {margin: 0.2em;color: black;border-radius: 0.25em;background-color: #f0f8ff;}#sk-container-id-6 input.sk-toggleable__control:checked~div.sk-toggleable__content {max-height: 200px;max-width: 100%;overflow: auto;}#sk-container-id-6 input.sk-toggleable__control:checked~label.sk-toggleable__label-arrow:before {content: \"▾\";}#sk-container-id-6 div.sk-estimator input.sk-toggleable__control:checked~label.sk-toggleable__label {background-color: #d4ebff;}#sk-container-id-6 div.sk-label input.sk-toggleable__control:checked~label.sk-toggleable__label {background-color: #d4ebff;}#sk-container-id-6 input.sk-hidden--visually {border: 0;clip: rect(1px 1px 1px 1px);clip: rect(1px, 1px, 1px, 1px);height: 1px;margin: -1px;overflow: hidden;padding: 0;position: absolute;width: 1px;}#sk-container-id-6 div.sk-estimator {font-family: monospace;background-color: #f0f8ff;border: 1px dotted black;border-radius: 0.25em;box-sizing: border-box;margin-bottom: 0.5em;}#sk-container-id-6 div.sk-estimator:hover {background-color: #d4ebff;}#sk-container-id-6 div.sk-parallel-item::after {content: \"\";width: 100%;border-bottom: 1px solid gray;flex-grow: 1;}#sk-container-id-6 div.sk-label:hover label.sk-toggleable__label {background-color: #d4ebff;}#sk-container-id-6 div.sk-serial::before {content: \"\";position: absolute;border-left: 1px solid gray;box-sizing: border-box;top: 0;bottom: 0;left: 50%;z-index: 0;}#sk-container-id-6 div.sk-serial {display: flex;flex-direction: column;align-items: center;background-color: white;padding-right: 0.2em;padding-left: 0.2em;position: relative;}#sk-container-id-6 div.sk-item {position: relative;z-index: 1;}#sk-container-id-6 div.sk-parallel {display: flex;align-items: stretch;justify-content: center;background-color: white;position: relative;}#sk-container-id-6 div.sk-item::before, #sk-container-id-6 div.sk-parallel-item::before {content: \"\";position: absolute;border-left: 1px solid gray;box-sizing: border-box;top: 0;bottom: 0;left: 50%;z-index: -1;}#sk-container-id-6 div.sk-parallel-item {display: flex;flex-direction: column;z-index: 1;position: relative;background-color: white;}#sk-container-id-6 div.sk-parallel-item:first-child::after {align-self: flex-end;width: 50%;}#sk-container-id-6 div.sk-parallel-item:last-child::after {align-self: flex-start;width: 50%;}#sk-container-id-6 div.sk-parallel-item:only-child::after {width: 0;}#sk-container-id-6 div.sk-dashed-wrapped {border: 1px dashed gray;margin: 0 0.4em 0.5em 0.4em;box-sizing: border-box;padding-bottom: 0.4em;background-color: white;}#sk-container-id-6 div.sk-label label {font-family: monospace;font-weight: bold;display: inline-block;line-height: 1.2em;}#sk-container-id-6 div.sk-label-container {text-align: center;}#sk-container-id-6 div.sk-container {/* jupyter's `normalize.less` sets `[hidden] { display: none; }` but bootstrap.min.css set `[hidden] { display: none !important; }` so we also need the `!important` here to be able to override the default hidden behavior on the sphinx rendered scikit-learn.org. See: https://github.com/scikit-learn/scikit-learn/issues/21755 */display: inline-block !important;position: relative;}#sk-container-id-6 div.sk-text-repr-fallback {display: none;}</style><div id=\"sk-container-id-6\" class=\"sk-top-container\"><div class=\"sk-text-repr-fallback\"><pre>Pipeline(steps=[(&#x27;columntransformer&#x27;,\n",
              "                 ColumnTransformer(transformers=[(&#x27;standardscaler&#x27;,\n",
              "                                                  StandardScaler(), [&#x27;abv&#x27;]),\n",
              "                                                 (&#x27;onehotencoder&#x27;,\n",
              "                                                  OneHotEncoder(handle_unknown=&#x27;ignore&#x27;,\n",
              "                                                                sparse_output=False),\n",
              "                                                  [&#x27;available&#x27;, &#x27;glass&#x27;]),\n",
              "                                                 (&#x27;tfidfvectorizer-1&#x27;,\n",
              "                                                  TfidfVectorizer(max_features=100),\n",
              "                                                  &#x27;name&#x27;),\n",
              "                                                 (&#x27;tfidfvectorizer-2&#x27;,\n",
              "                                                  TfidfVectorizer(max_features=100),\n",
              "                                                  &#x27;srm&#x27;),\n",
              "                                                 (&#x27;tfidfvectorizer-3&#x27;,\n",
              "                                                  TfidfVectorizer(max_features=100),\n",
              "                                                  &#x27;description&#x27;)])),\n",
              "                (&#x27;linearregression&#x27;, LinearRegression())])</pre><b>In a Jupyter environment, please rerun this cell to show the HTML representation or trust the notebook. <br />On GitHub, the HTML representation is unable to render, please try loading this page with nbviewer.org.</b></div><div class=\"sk-container\" hidden><div class=\"sk-item sk-dashed-wrapped\"><div class=\"sk-label-container\"><div class=\"sk-label sk-toggleable\"><input class=\"sk-toggleable__control sk-hidden--visually\" id=\"sk-estimator-id-52\" type=\"checkbox\" ><label for=\"sk-estimator-id-52\" class=\"sk-toggleable__label sk-toggleable__label-arrow\">Pipeline</label><div class=\"sk-toggleable__content\"><pre>Pipeline(steps=[(&#x27;columntransformer&#x27;,\n",
              "                 ColumnTransformer(transformers=[(&#x27;standardscaler&#x27;,\n",
              "                                                  StandardScaler(), [&#x27;abv&#x27;]),\n",
              "                                                 (&#x27;onehotencoder&#x27;,\n",
              "                                                  OneHotEncoder(handle_unknown=&#x27;ignore&#x27;,\n",
              "                                                                sparse_output=False),\n",
              "                                                  [&#x27;available&#x27;, &#x27;glass&#x27;]),\n",
              "                                                 (&#x27;tfidfvectorizer-1&#x27;,\n",
              "                                                  TfidfVectorizer(max_features=100),\n",
              "                                                  &#x27;name&#x27;),\n",
              "                                                 (&#x27;tfidfvectorizer-2&#x27;,\n",
              "                                                  TfidfVectorizer(max_features=100),\n",
              "                                                  &#x27;srm&#x27;),\n",
              "                                                 (&#x27;tfidfvectorizer-3&#x27;,\n",
              "                                                  TfidfVectorizer(max_features=100),\n",
              "                                                  &#x27;description&#x27;)])),\n",
              "                (&#x27;linearregression&#x27;, LinearRegression())])</pre></div></div></div><div class=\"sk-serial\"><div class=\"sk-item sk-dashed-wrapped\"><div class=\"sk-label-container\"><div class=\"sk-label sk-toggleable\"><input class=\"sk-toggleable__control sk-hidden--visually\" id=\"sk-estimator-id-53\" type=\"checkbox\" ><label for=\"sk-estimator-id-53\" class=\"sk-toggleable__label sk-toggleable__label-arrow\">columntransformer: ColumnTransformer</label><div class=\"sk-toggleable__content\"><pre>ColumnTransformer(transformers=[(&#x27;standardscaler&#x27;, StandardScaler(), [&#x27;abv&#x27;]),\n",
              "                                (&#x27;onehotencoder&#x27;,\n",
              "                                 OneHotEncoder(handle_unknown=&#x27;ignore&#x27;,\n",
              "                                               sparse_output=False),\n",
              "                                 [&#x27;available&#x27;, &#x27;glass&#x27;]),\n",
              "                                (&#x27;tfidfvectorizer-1&#x27;,\n",
              "                                 TfidfVectorizer(max_features=100), &#x27;name&#x27;),\n",
              "                                (&#x27;tfidfvectorizer-2&#x27;,\n",
              "                                 TfidfVectorizer(max_features=100), &#x27;srm&#x27;),\n",
              "                                (&#x27;tfidfvectorizer-3&#x27;,\n",
              "                                 TfidfVectorizer(max_features=100),\n",
              "                                 &#x27;description&#x27;)])</pre></div></div></div><div class=\"sk-parallel\"><div class=\"sk-parallel-item\"><div class=\"sk-item\"><div class=\"sk-label-container\"><div class=\"sk-label sk-toggleable\"><input class=\"sk-toggleable__control sk-hidden--visually\" id=\"sk-estimator-id-54\" type=\"checkbox\" ><label for=\"sk-estimator-id-54\" class=\"sk-toggleable__label sk-toggleable__label-arrow\">standardscaler</label><div class=\"sk-toggleable__content\"><pre>[&#x27;abv&#x27;]</pre></div></div></div><div class=\"sk-serial\"><div class=\"sk-item\"><div class=\"sk-estimator sk-toggleable\"><input class=\"sk-toggleable__control sk-hidden--visually\" id=\"sk-estimator-id-55\" type=\"checkbox\" ><label for=\"sk-estimator-id-55\" class=\"sk-toggleable__label sk-toggleable__label-arrow\">StandardScaler</label><div class=\"sk-toggleable__content\"><pre>StandardScaler()</pre></div></div></div></div></div></div><div class=\"sk-parallel-item\"><div class=\"sk-item\"><div class=\"sk-label-container\"><div class=\"sk-label sk-toggleable\"><input class=\"sk-toggleable__control sk-hidden--visually\" id=\"sk-estimator-id-56\" type=\"checkbox\" ><label for=\"sk-estimator-id-56\" class=\"sk-toggleable__label sk-toggleable__label-arrow\">onehotencoder</label><div class=\"sk-toggleable__content\"><pre>[&#x27;available&#x27;, &#x27;glass&#x27;]</pre></div></div></div><div class=\"sk-serial\"><div class=\"sk-item\"><div class=\"sk-estimator sk-toggleable\"><input class=\"sk-toggleable__control sk-hidden--visually\" id=\"sk-estimator-id-57\" type=\"checkbox\" ><label for=\"sk-estimator-id-57\" class=\"sk-toggleable__label sk-toggleable__label-arrow\">OneHotEncoder</label><div class=\"sk-toggleable__content\"><pre>OneHotEncoder(handle_unknown=&#x27;ignore&#x27;, sparse_output=False)</pre></div></div></div></div></div></div><div class=\"sk-parallel-item\"><div class=\"sk-item\"><div class=\"sk-label-container\"><div class=\"sk-label sk-toggleable\"><input class=\"sk-toggleable__control sk-hidden--visually\" id=\"sk-estimator-id-58\" type=\"checkbox\" ><label for=\"sk-estimator-id-58\" class=\"sk-toggleable__label sk-toggleable__label-arrow\">tfidfvectorizer-1</label><div class=\"sk-toggleable__content\"><pre>name</pre></div></div></div><div class=\"sk-serial\"><div class=\"sk-item\"><div class=\"sk-estimator sk-toggleable\"><input class=\"sk-toggleable__control sk-hidden--visually\" id=\"sk-estimator-id-59\" type=\"checkbox\" ><label for=\"sk-estimator-id-59\" class=\"sk-toggleable__label sk-toggleable__label-arrow\">TfidfVectorizer</label><div class=\"sk-toggleable__content\"><pre>TfidfVectorizer(max_features=100)</pre></div></div></div></div></div></div><div class=\"sk-parallel-item\"><div class=\"sk-item\"><div class=\"sk-label-container\"><div class=\"sk-label sk-toggleable\"><input class=\"sk-toggleable__control sk-hidden--visually\" id=\"sk-estimator-id-60\" type=\"checkbox\" ><label for=\"sk-estimator-id-60\" class=\"sk-toggleable__label sk-toggleable__label-arrow\">tfidfvectorizer-2</label><div class=\"sk-toggleable__content\"><pre>srm</pre></div></div></div><div class=\"sk-serial\"><div class=\"sk-item\"><div class=\"sk-estimator sk-toggleable\"><input class=\"sk-toggleable__control sk-hidden--visually\" id=\"sk-estimator-id-61\" type=\"checkbox\" ><label for=\"sk-estimator-id-61\" class=\"sk-toggleable__label sk-toggleable__label-arrow\">TfidfVectorizer</label><div class=\"sk-toggleable__content\"><pre>TfidfVectorizer(max_features=100)</pre></div></div></div></div></div></div><div class=\"sk-parallel-item\"><div class=\"sk-item\"><div class=\"sk-label-container\"><div class=\"sk-label sk-toggleable\"><input class=\"sk-toggleable__control sk-hidden--visually\" id=\"sk-estimator-id-62\" type=\"checkbox\" ><label for=\"sk-estimator-id-62\" class=\"sk-toggleable__label sk-toggleable__label-arrow\">tfidfvectorizer-3</label><div class=\"sk-toggleable__content\"><pre>description</pre></div></div></div><div class=\"sk-serial\"><div class=\"sk-item\"><div class=\"sk-estimator sk-toggleable\"><input class=\"sk-toggleable__control sk-hidden--visually\" id=\"sk-estimator-id-63\" type=\"checkbox\" ><label for=\"sk-estimator-id-63\" class=\"sk-toggleable__label sk-toggleable__label-arrow\">TfidfVectorizer</label><div class=\"sk-toggleable__content\"><pre>TfidfVectorizer(max_features=100)</pre></div></div></div></div></div></div></div></div><div class=\"sk-item\"><div class=\"sk-estimator sk-toggleable\"><input class=\"sk-toggleable__control sk-hidden--visually\" id=\"sk-estimator-id-64\" type=\"checkbox\" ><label for=\"sk-estimator-id-64\" class=\"sk-toggleable__label sk-toggleable__label-arrow\">LinearRegression</label><div class=\"sk-toggleable__content\"><pre>LinearRegression()</pre></div></div></div></div></div></div></div>"
            ]
          },
          "metadata": {},
          "execution_count": 214
        }
      ]
    },
    {
      "cell_type": "code",
      "source": [
        "#calculate error\n",
        "def calculate_RMSE(name, pipeline, training_data):\n",
        "  scores = cross_val_score(\n",
        "    pipeline,\n",
        "    X=training_data,\n",
        "    y=y_train,\n",
        "    cv=15,\n",
        "    scoring=\"neg_mean_squared_error\"\n",
        "  )\n",
        "  print(name + \" RMSE: \", np.sqrt(-scores.mean()))\n",
        "  return\n",
        "\n",
        "calculate_RMSE(\"Best Linear Regression combination\", best_pipeline_LR, X_train_3)"
      ],
      "metadata": {
        "colab": {
          "base_uri": "https://localhost:8080/"
        },
        "id": "pnDNe8OfZ7wk",
        "outputId": "efe11b0b-0de4-4072-b3ed-28ffeb221118"
      },
      "execution_count": null,
      "outputs": [
        {
          "output_type": "stream",
          "name": "stdout",
          "text": [
            "Best Linear Regression combination RMSE:  21.230687870321777\n"
          ]
        }
      ]
    },
    {
      "cell_type": "markdown",
      "source": [
        "# Model 4: Elastic Net: RMSE-24.37"
      ],
      "metadata": {
        "id": "8MALw6C0kvRM"
      }
    },
    {
      "cell_type": "markdown",
      "source": [
        "## Step 1: evaluate best combination of features"
      ],
      "metadata": {
        "id": "GzVdY3H3kzih"
      }
    },
    {
      "cell_type": "code",
      "source": [
        "# Select prediction features\n",
        "X_train_1 = train_df[[\"abv\", \"name\"]]\n",
        "X_train_2 = train_df[[\"abv\", \"available\", \"name\", \"glass\", \"description\", \"originalGravity\"]].fillna(\"\")\n",
        "X_train_3 = train_df[[\"abv\", \"available\", \"name\", \"glass\", \"description\"]].fillna(\"\")\n",
        "y_train = train_df[[\"ibu\"]]\n",
        "y_train = y_train.values.ravel()"
      ],
      "metadata": {
        "id": "SDoLzRIAk-bo"
      },
      "execution_count": null,
      "outputs": []
    },
    {
      "cell_type": "code",
      "source": [
        "# make column transformer for each features group\n",
        "\n",
        "col_transformer_1 = make_column_transformer(\n",
        "    (StandardScaler(), [\"abv\"]),\n",
        "    (TfidfVectorizer(max_features=100), \"name\"),\n",
        "    remainder=\"drop\"\n",
        "    )\n",
        "\n",
        "col_transformer_2 = make_column_transformer(\n",
        "    (StandardScaler(), [\"abv\", \"originalGravity\"]),\n",
        "    (OneHotEncoder(handle_unknown=\"ignore\", sparse_output=False), [\"available\", \"glass\"]),\n",
        "    (TfidfVectorizer(max_features=100), \"name\"),\n",
        "    remainder=\"drop\"\n",
        "  )\n",
        "\n",
        "col_transformer_3 = make_column_transformer(\n",
        "    (StandardScaler(), [\"abv\"]),\n",
        "    (OneHotEncoder(handle_unknown=\"ignore\", sparse_output=False), [\"available\", \"glass\"]),\n",
        "    (TfidfVectorizer(max_features=100), \"name\"),\n",
        "    (TfidfVectorizer(max_features=100), \"description\"),\n",
        "    remainder=\"drop\"\n",
        "  )"
      ],
      "metadata": {
        "id": "8L0-g7x-lCfx"
      },
      "execution_count": null,
      "outputs": []
    },
    {
      "cell_type": "code",
      "source": [
        "#make pipeline for each features group\n",
        "pipe1 = make_pipeline(\n",
        "    col_transformer_1,\n",
        "    ElasticNet()\n",
        ")\n",
        "\n",
        "pipe2 = make_pipeline(\n",
        "    col_transformer_2,\n",
        "    ElasticNet()\n",
        ")\n",
        "\n",
        "pipe3 = make_pipeline(\n",
        "    col_transformer_3,\n",
        "    ElasticNet()\n",
        ")"
      ],
      "metadata": {
        "id": "lpfEPznulFcl"
      },
      "execution_count": null,
      "outputs": []
    },
    {
      "cell_type": "code",
      "source": [
        "warnings.filterwarnings(action='ignore', category=DataConversionWarning)\n",
        "\n",
        "#calculate RMSE for each features group\n",
        "train_list = [X_train_1, X_train_2, X_train_3]\n",
        "pipe_list = [pipe1, pipe2, pipe3]\n",
        "features_list = [\"Group 1\", \"Group 2\", \"Group 3\"]\n",
        "\n",
        "def calculate_RMSE(name, pipeline, training_data):\n",
        "  scores = cross_val_score(\n",
        "    pipeline,\n",
        "    X=training_data,\n",
        "    y=y_train,\n",
        "    cv=4,\n",
        "    scoring=\"neg_mean_squared_error\"\n",
        "  )\n",
        "  print(name + \" RMSE: \", np.sqrt(-scores.mean()))\n",
        "  return\n",
        "\n",
        "for i in range(3):\n",
        "  calculate_RMSE(features_list[i], pipe_list[i], train_list[i])"
      ],
      "metadata": {
        "colab": {
          "base_uri": "https://localhost:8080/"
        },
        "id": "Hf1UfsG2lIZ6",
        "outputId": "770b4ba2-4bc2-46c9-8b0a-a1e2457faa30"
      },
      "execution_count": null,
      "outputs": [
        {
          "output_type": "stream",
          "name": "stdout",
          "text": [
            "Group 1 RMSE:  25.671682209826745\n",
            "Group 2 RMSE:  25.48537859979887\n",
            "Group 3 RMSE:  25.601512736294595\n"
          ]
        }
      ]
    },
    {
      "cell_type": "markdown",
      "source": [
        "## Step 2: determine best combination of parameters"
      ],
      "metadata": {
        "id": "HE1jy_rEk5Hg"
      }
    },
    {
      "cell_type": "code",
      "source": [
        "warnings.filterwarnings(action='ignore', category=DataConversionWarning)\n",
        "\n",
        "def estimate_test_mse(scaler):\n",
        "  # TODO: estimate the test error for given distance metric and scaler\n",
        "  col_transformer = make_column_transformer(\n",
        "    (scaler, [\"abv\", \"originalGravity\"]),\n",
        "    (OneHotEncoder(handle_unknown=\"ignore\", sparse_output=False), [\"available\", \"glass\"]),\n",
        "    (TfidfVectorizer(max_features=100), \"name\"),\n",
        "    remainder=\"drop\"\n",
        "  )\n",
        "\n",
        "\n",
        "  pipeline = make_pipeline(\n",
        "    col_transformer,\n",
        "    ElasticNet()\n",
        "  )\n",
        "\n",
        "  grid_cv = GridSearchCV(\n",
        "    pipeline,\n",
        "    scoring=\"neg_mean_squared_error\",\n",
        "    n_jobs=-1,\n",
        "    param_grid={\n",
        "        \"elasticnet__alpha\": [1, 1.5, 2],\n",
        "        \"elasticnet__l1_ratio\": [0, 0.5, 1],\n",
        "    },\n",
        "    cv=10,\n",
        "  )\n",
        "  grid_cv.fit(X_train_2, y_train)\n",
        "  return grid_cv\n",
        "\n",
        "# TODO: iterate over scalers, calling `estimate_test_mse`\n",
        "scalers = [StandardScaler(), MinMaxScaler(), MaxAbsScaler(), Normalizer()]\n",
        "grid_cv_list_EN = []\n",
        "for scaler in scalers:\n",
        "  grid_cv_list_EN.append(estimate_test_mse(scaler))"
      ],
      "metadata": {
        "id": "UOJFYU9vlfUc"
      },
      "execution_count": null,
      "outputs": []
    },
    {
      "cell_type": "code",
      "source": [
        "#extract best pipeline from grid_cv list\n",
        "best_grid_cv = max(grid_cv_list_EN, key=lambda x: x.best_score_)\n",
        "best_pipeline_EN = best_grid_cv.best_estimator_\n",
        "best_pipeline_EN"
      ],
      "metadata": {
        "id": "AthQYREQlmsq",
        "colab": {
          "base_uri": "https://localhost:8080/",
          "height": 192
        },
        "outputId": "572772da-662f-4588-da14-b6fb2933e034"
      },
      "execution_count": null,
      "outputs": [
        {
          "output_type": "execute_result",
          "data": {
            "text/plain": [
              "Pipeline(steps=[('columntransformer',\n",
              "                 ColumnTransformer(transformers=[('standardscaler',\n",
              "                                                  StandardScaler(),\n",
              "                                                  ['abv', 'originalGravity']),\n",
              "                                                 ('onehotencoder',\n",
              "                                                  OneHotEncoder(handle_unknown='ignore',\n",
              "                                                                sparse_output=False),\n",
              "                                                  ['available', 'glass']),\n",
              "                                                 ('tfidfvectorizer',\n",
              "                                                  TfidfVectorizer(max_features=100),\n",
              "                                                  'name')])),\n",
              "                ('elasticnet', ElasticNet(alpha=1, l1_ratio=1))])"
            ],
            "text/html": [
              "<style>#sk-container-id-12 {color: black;background-color: white;}#sk-container-id-12 pre{padding: 0;}#sk-container-id-12 div.sk-toggleable {background-color: white;}#sk-container-id-12 label.sk-toggleable__label {cursor: pointer;display: block;width: 100%;margin-bottom: 0;padding: 0.3em;box-sizing: border-box;text-align: center;}#sk-container-id-12 label.sk-toggleable__label-arrow:before {content: \"▸\";float: left;margin-right: 0.25em;color: #696969;}#sk-container-id-12 label.sk-toggleable__label-arrow:hover:before {color: black;}#sk-container-id-12 div.sk-estimator:hover label.sk-toggleable__label-arrow:before {color: black;}#sk-container-id-12 div.sk-toggleable__content {max-height: 0;max-width: 0;overflow: hidden;text-align: left;background-color: #f0f8ff;}#sk-container-id-12 div.sk-toggleable__content pre {margin: 0.2em;color: black;border-radius: 0.25em;background-color: #f0f8ff;}#sk-container-id-12 input.sk-toggleable__control:checked~div.sk-toggleable__content {max-height: 200px;max-width: 100%;overflow: auto;}#sk-container-id-12 input.sk-toggleable__control:checked~label.sk-toggleable__label-arrow:before {content: \"▾\";}#sk-container-id-12 div.sk-estimator input.sk-toggleable__control:checked~label.sk-toggleable__label {background-color: #d4ebff;}#sk-container-id-12 div.sk-label input.sk-toggleable__control:checked~label.sk-toggleable__label {background-color: #d4ebff;}#sk-container-id-12 input.sk-hidden--visually {border: 0;clip: rect(1px 1px 1px 1px);clip: rect(1px, 1px, 1px, 1px);height: 1px;margin: -1px;overflow: hidden;padding: 0;position: absolute;width: 1px;}#sk-container-id-12 div.sk-estimator {font-family: monospace;background-color: #f0f8ff;border: 1px dotted black;border-radius: 0.25em;box-sizing: border-box;margin-bottom: 0.5em;}#sk-container-id-12 div.sk-estimator:hover {background-color: #d4ebff;}#sk-container-id-12 div.sk-parallel-item::after {content: \"\";width: 100%;border-bottom: 1px solid gray;flex-grow: 1;}#sk-container-id-12 div.sk-label:hover label.sk-toggleable__label {background-color: #d4ebff;}#sk-container-id-12 div.sk-serial::before {content: \"\";position: absolute;border-left: 1px solid gray;box-sizing: border-box;top: 0;bottom: 0;left: 50%;z-index: 0;}#sk-container-id-12 div.sk-serial {display: flex;flex-direction: column;align-items: center;background-color: white;padding-right: 0.2em;padding-left: 0.2em;position: relative;}#sk-container-id-12 div.sk-item {position: relative;z-index: 1;}#sk-container-id-12 div.sk-parallel {display: flex;align-items: stretch;justify-content: center;background-color: white;position: relative;}#sk-container-id-12 div.sk-item::before, #sk-container-id-12 div.sk-parallel-item::before {content: \"\";position: absolute;border-left: 1px solid gray;box-sizing: border-box;top: 0;bottom: 0;left: 50%;z-index: -1;}#sk-container-id-12 div.sk-parallel-item {display: flex;flex-direction: column;z-index: 1;position: relative;background-color: white;}#sk-container-id-12 div.sk-parallel-item:first-child::after {align-self: flex-end;width: 50%;}#sk-container-id-12 div.sk-parallel-item:last-child::after {align-self: flex-start;width: 50%;}#sk-container-id-12 div.sk-parallel-item:only-child::after {width: 0;}#sk-container-id-12 div.sk-dashed-wrapped {border: 1px dashed gray;margin: 0 0.4em 0.5em 0.4em;box-sizing: border-box;padding-bottom: 0.4em;background-color: white;}#sk-container-id-12 div.sk-label label {font-family: monospace;font-weight: bold;display: inline-block;line-height: 1.2em;}#sk-container-id-12 div.sk-label-container {text-align: center;}#sk-container-id-12 div.sk-container {/* jupyter's `normalize.less` sets `[hidden] { display: none; }` but bootstrap.min.css set `[hidden] { display: none !important; }` so we also need the `!important` here to be able to override the default hidden behavior on the sphinx rendered scikit-learn.org. See: https://github.com/scikit-learn/scikit-learn/issues/21755 */display: inline-block !important;position: relative;}#sk-container-id-12 div.sk-text-repr-fallback {display: none;}</style><div id=\"sk-container-id-12\" class=\"sk-top-container\"><div class=\"sk-text-repr-fallback\"><pre>Pipeline(steps=[(&#x27;columntransformer&#x27;,\n",
              "                 ColumnTransformer(transformers=[(&#x27;standardscaler&#x27;,\n",
              "                                                  StandardScaler(),\n",
              "                                                  [&#x27;abv&#x27;, &#x27;originalGravity&#x27;]),\n",
              "                                                 (&#x27;onehotencoder&#x27;,\n",
              "                                                  OneHotEncoder(handle_unknown=&#x27;ignore&#x27;,\n",
              "                                                                sparse_output=False),\n",
              "                                                  [&#x27;available&#x27;, &#x27;glass&#x27;]),\n",
              "                                                 (&#x27;tfidfvectorizer&#x27;,\n",
              "                                                  TfidfVectorizer(max_features=100),\n",
              "                                                  &#x27;name&#x27;)])),\n",
              "                (&#x27;elasticnet&#x27;, ElasticNet(alpha=1, l1_ratio=1))])</pre><b>In a Jupyter environment, please rerun this cell to show the HTML representation or trust the notebook. <br />On GitHub, the HTML representation is unable to render, please try loading this page with nbviewer.org.</b></div><div class=\"sk-container\" hidden><div class=\"sk-item sk-dashed-wrapped\"><div class=\"sk-label-container\"><div class=\"sk-label sk-toggleable\"><input class=\"sk-toggleable__control sk-hidden--visually\" id=\"sk-estimator-id-116\" type=\"checkbox\" ><label for=\"sk-estimator-id-116\" class=\"sk-toggleable__label sk-toggleable__label-arrow\">Pipeline</label><div class=\"sk-toggleable__content\"><pre>Pipeline(steps=[(&#x27;columntransformer&#x27;,\n",
              "                 ColumnTransformer(transformers=[(&#x27;standardscaler&#x27;,\n",
              "                                                  StandardScaler(),\n",
              "                                                  [&#x27;abv&#x27;, &#x27;originalGravity&#x27;]),\n",
              "                                                 (&#x27;onehotencoder&#x27;,\n",
              "                                                  OneHotEncoder(handle_unknown=&#x27;ignore&#x27;,\n",
              "                                                                sparse_output=False),\n",
              "                                                  [&#x27;available&#x27;, &#x27;glass&#x27;]),\n",
              "                                                 (&#x27;tfidfvectorizer&#x27;,\n",
              "                                                  TfidfVectorizer(max_features=100),\n",
              "                                                  &#x27;name&#x27;)])),\n",
              "                (&#x27;elasticnet&#x27;, ElasticNet(alpha=1, l1_ratio=1))])</pre></div></div></div><div class=\"sk-serial\"><div class=\"sk-item sk-dashed-wrapped\"><div class=\"sk-label-container\"><div class=\"sk-label sk-toggleable\"><input class=\"sk-toggleable__control sk-hidden--visually\" id=\"sk-estimator-id-117\" type=\"checkbox\" ><label for=\"sk-estimator-id-117\" class=\"sk-toggleable__label sk-toggleable__label-arrow\">columntransformer: ColumnTransformer</label><div class=\"sk-toggleable__content\"><pre>ColumnTransformer(transformers=[(&#x27;standardscaler&#x27;, StandardScaler(),\n",
              "                                 [&#x27;abv&#x27;, &#x27;originalGravity&#x27;]),\n",
              "                                (&#x27;onehotencoder&#x27;,\n",
              "                                 OneHotEncoder(handle_unknown=&#x27;ignore&#x27;,\n",
              "                                               sparse_output=False),\n",
              "                                 [&#x27;available&#x27;, &#x27;glass&#x27;]),\n",
              "                                (&#x27;tfidfvectorizer&#x27;,\n",
              "                                 TfidfVectorizer(max_features=100), &#x27;name&#x27;)])</pre></div></div></div><div class=\"sk-parallel\"><div class=\"sk-parallel-item\"><div class=\"sk-item\"><div class=\"sk-label-container\"><div class=\"sk-label sk-toggleable\"><input class=\"sk-toggleable__control sk-hidden--visually\" id=\"sk-estimator-id-118\" type=\"checkbox\" ><label for=\"sk-estimator-id-118\" class=\"sk-toggleable__label sk-toggleable__label-arrow\">standardscaler</label><div class=\"sk-toggleable__content\"><pre>[&#x27;abv&#x27;, &#x27;originalGravity&#x27;]</pre></div></div></div><div class=\"sk-serial\"><div class=\"sk-item\"><div class=\"sk-estimator sk-toggleable\"><input class=\"sk-toggleable__control sk-hidden--visually\" id=\"sk-estimator-id-119\" type=\"checkbox\" ><label for=\"sk-estimator-id-119\" class=\"sk-toggleable__label sk-toggleable__label-arrow\">StandardScaler</label><div class=\"sk-toggleable__content\"><pre>StandardScaler()</pre></div></div></div></div></div></div><div class=\"sk-parallel-item\"><div class=\"sk-item\"><div class=\"sk-label-container\"><div class=\"sk-label sk-toggleable\"><input class=\"sk-toggleable__control sk-hidden--visually\" id=\"sk-estimator-id-120\" type=\"checkbox\" ><label for=\"sk-estimator-id-120\" class=\"sk-toggleable__label sk-toggleable__label-arrow\">onehotencoder</label><div class=\"sk-toggleable__content\"><pre>[&#x27;available&#x27;, &#x27;glass&#x27;]</pre></div></div></div><div class=\"sk-serial\"><div class=\"sk-item\"><div class=\"sk-estimator sk-toggleable\"><input class=\"sk-toggleable__control sk-hidden--visually\" id=\"sk-estimator-id-121\" type=\"checkbox\" ><label for=\"sk-estimator-id-121\" class=\"sk-toggleable__label sk-toggleable__label-arrow\">OneHotEncoder</label><div class=\"sk-toggleable__content\"><pre>OneHotEncoder(handle_unknown=&#x27;ignore&#x27;, sparse_output=False)</pre></div></div></div></div></div></div><div class=\"sk-parallel-item\"><div class=\"sk-item\"><div class=\"sk-label-container\"><div class=\"sk-label sk-toggleable\"><input class=\"sk-toggleable__control sk-hidden--visually\" id=\"sk-estimator-id-122\" type=\"checkbox\" ><label for=\"sk-estimator-id-122\" class=\"sk-toggleable__label sk-toggleable__label-arrow\">tfidfvectorizer</label><div class=\"sk-toggleable__content\"><pre>name</pre></div></div></div><div class=\"sk-serial\"><div class=\"sk-item\"><div class=\"sk-estimator sk-toggleable\"><input class=\"sk-toggleable__control sk-hidden--visually\" id=\"sk-estimator-id-123\" type=\"checkbox\" ><label for=\"sk-estimator-id-123\" class=\"sk-toggleable__label sk-toggleable__label-arrow\">TfidfVectorizer</label><div class=\"sk-toggleable__content\"><pre>TfidfVectorizer(max_features=100)</pre></div></div></div></div></div></div></div></div><div class=\"sk-item\"><div class=\"sk-estimator sk-toggleable\"><input class=\"sk-toggleable__control sk-hidden--visually\" id=\"sk-estimator-id-124\" type=\"checkbox\" ><label for=\"sk-estimator-id-124\" class=\"sk-toggleable__label sk-toggleable__label-arrow\">ElasticNet</label><div class=\"sk-toggleable__content\"><pre>ElasticNet(alpha=1, l1_ratio=1)</pre></div></div></div></div></div></div></div>"
            ]
          },
          "metadata": {},
          "execution_count": 270
        }
      ]
    },
    {
      "cell_type": "code",
      "source": [
        "#calculate error\n",
        "def calculate_RMSE(name, pipeline, training_data):\n",
        "  scores = cross_val_score(\n",
        "    pipeline,\n",
        "    X=training_data,\n",
        "    y=y_train,\n",
        "    cv=15,\n",
        "    scoring=\"neg_mean_squared_error\"\n",
        "  )\n",
        "  print(name + \" RMSE: \", np.sqrt(-scores.mean()))\n",
        "  return\n",
        "\n",
        "calculate_RMSE(\"Best Logistic Regression combination\", best_pipeline_EN, X_train_2)"
      ],
      "metadata": {
        "id": "iiaIwVPAlnPv",
        "colab": {
          "base_uri": "https://localhost:8080/"
        },
        "outputId": "083c4157-c9a0-44ba-c1d6-1944355d9f78"
      },
      "execution_count": null,
      "outputs": [
        {
          "output_type": "stream",
          "name": "stdout",
          "text": [
            "Best Logistic Regression combination RMSE:  24.370939172262407\n"
          ]
        }
      ]
    },
    {
      "cell_type": "markdown",
      "source": [
        "# Interpretation"
      ],
      "metadata": {
        "id": "8eB4yKONgLjL"
      }
    },
    {
      "cell_type": "markdown",
      "source": [
        "I ended up using 4 different regression models: LSVR, Ridge Regression, Linear Regression, and an Elastic Net that combined a few models. I actually tried some other combination models, and none of them performed as well as singular regressors. The first three models are the models with the lowest RMSE I tried, which I included in the section headings. For each model, I determined a set of best features and used GridSearchCV to find the best choice of parameters. In the end, Ridge Regression performed the best when I submitted my models to Kaggle."
      ],
      "metadata": {
        "id": "HJETpbcGgQAy"
      }
    },
    {
      "cell_type": "markdown",
      "source": [
        "# Question 2"
      ],
      "metadata": {
        "id": "7EqymJa3fhx3"
      }
    },
    {
      "cell_type": "markdown",
      "metadata": {
        "id": "aEBlEDxWY8Dl"
      },
      "source": [
        "## Question 2\n",
        "\n",
        "Take the best performing model from Question 1, and use it to make predictions on the test data. Submit these predictions to the [Kaggle competition](https://www.kaggle.com/competitions/beer2024).\n",
        "\n",
        "Note that your predictions will need to be formatted in a very specific way for Kaggle to accept it. See [`sample.csv` on Kaggle](https://www.kaggle.com/competitions/beer2024/data?select=sample.csv) for an example.\n",
        "\n",
        "To earn full credit, at least one of your models must beat the final model from Part A of this lab on the public leaderboard.\n",
        "\n",
        "There will be extra credit for the top finishers on the _private_ leaderboard (which will not be revealed until after the end of the contest):\n",
        "\n",
        "- 1st place gets +5 extra credit points and a gift card.\n",
        "- 2nd place gets +4 extra credit points and a gift card.\n",
        "- 3rd place gets +3 extra credit points.\n",
        "- 4th place gets +2 extra credit points.\n",
        "- 5th place gets +1 extra credit point."
      ]
    },
    {
      "cell_type": "markdown",
      "source": [
        "_COMPARE THE TEST RMSE ON PUBLIC LEADERBOARD WITH THE ESTIMATE YOU GOT USING CROSS-VALIDATION._"
      ],
      "metadata": {
        "id": "OhNQTqdImd92"
      }
    },
    {
      "cell_type": "markdown",
      "source": [
        "The test RMSE on the leaderboard was actually lower than the RSME I got using cross-validation for every model I submitted. This is strange because we would have expected to get higher RSME on data we didn't actually train on, since it wouldn't skew the information toward itself."
      ],
      "metadata": {
        "id": "jATmAmC7fq7o"
      }
    },
    {
      "cell_type": "markdown",
      "source": [
        "## Submission Instructions\n",
        "\n",
        "- Restart this notebook and run the cells from beginning to end.\n",
        "  - Go to Runtime > Restart and Run All."
      ],
      "metadata": {
        "id": "oPIjYqBeUpQd"
      }
    },
    {
      "cell_type": "code",
      "source": [
        "# @markdown Run this cell to download this notebook as a webpage, `_NOTEBOOK.html`.\n",
        "\n",
        "import google, json, nbformat\n",
        "\n",
        "# Get the current notebook and write it to _NOTEBOOK.ipynb\n",
        "raw_notebook = google.colab._message.blocking_request(\"get_ipynb\",\n",
        "                                                      timeout_sec=30)[\"ipynb\"]\n",
        "with open(\"_NOTEBOOK.ipynb\", \"w\", encoding=\"utf-8\") as ipynb_file:\n",
        "  ipynb_file.write(json.dumps(raw_notebook))\n",
        "\n",
        "# Use nbconvert to convert .ipynb to .html.\n",
        "!jupyter nbconvert --to html --log-level WARN _NOTEBOOK.ipynb\n",
        "\n",
        "# Download the .html file.\n",
        "google.colab.files.download(\"_NOTEBOOK.html\")"
      ],
      "metadata": {
        "cellView": "form",
        "id": "wOiDCoviUp-Z",
        "colab": {
          "base_uri": "https://localhost:8080/",
          "height": 17
        },
        "outputId": "00938949-17f7-4916-f31d-4698ca904445"
      },
      "execution_count": null,
      "outputs": [
        {
          "output_type": "display_data",
          "data": {
            "text/plain": [
              "<IPython.core.display.Javascript object>"
            ],
            "application/javascript": [
              "\n",
              "    async function download(id, filename, size) {\n",
              "      if (!google.colab.kernel.accessAllowed) {\n",
              "        return;\n",
              "      }\n",
              "      const div = document.createElement('div');\n",
              "      const label = document.createElement('label');\n",
              "      label.textContent = `Downloading \"${filename}\": `;\n",
              "      div.appendChild(label);\n",
              "      const progress = document.createElement('progress');\n",
              "      progress.max = size;\n",
              "      div.appendChild(progress);\n",
              "      document.body.appendChild(div);\n",
              "\n",
              "      const buffers = [];\n",
              "      let downloaded = 0;\n",
              "\n",
              "      const channel = await google.colab.kernel.comms.open(id);\n",
              "      // Send a message to notify the kernel that we're ready.\n",
              "      channel.send({})\n",
              "\n",
              "      for await (const message of channel.messages) {\n",
              "        // Send a message to notify the kernel that we're ready.\n",
              "        channel.send({})\n",
              "        if (message.buffers) {\n",
              "          for (const buffer of message.buffers) {\n",
              "            buffers.push(buffer);\n",
              "            downloaded += buffer.byteLength;\n",
              "            progress.value = downloaded;\n",
              "          }\n",
              "        }\n",
              "      }\n",
              "      const blob = new Blob(buffers, {type: 'application/binary'});\n",
              "      const a = document.createElement('a');\n",
              "      a.href = window.URL.createObjectURL(blob);\n",
              "      a.download = filename;\n",
              "      div.appendChild(a);\n",
              "      a.click();\n",
              "      div.remove();\n",
              "    }\n",
              "  "
            ]
          },
          "metadata": {}
        },
        {
          "output_type": "display_data",
          "data": {
            "text/plain": [
              "<IPython.core.display.Javascript object>"
            ],
            "application/javascript": [
              "download(\"download_aca51b2e-6816-4ae3-8bfc-cbd243cffdcc\", \"_NOTEBOOK.html\", 743418)"
            ]
          },
          "metadata": {}
        }
      ]
    },
    {
      "cell_type": "code",
      "source": [],
      "metadata": {
        "id": "2aolKdqZ9c1T"
      },
      "execution_count": null,
      "outputs": []
    },
    {
      "cell_type": "markdown",
      "metadata": {
        "id": "qhRFqKSDY8D2"
      },
      "source": [
        "- Open `_NOTEBOOK.html` in your browser, and save it as a PDF.\n",
        "    - Go to File > Print > Save as PDF.\n",
        "- Double check that all of your code and output is visible in the saved PDF.\n",
        "- Upload the PDF to [Gradescope](https://www.gradescope.com/courses/694907).\n",
        "    - Please be sure to select the correct pages corresponding to each question."
      ]
    },
    {
      "cell_type": "code",
      "source": [],
      "metadata": {
        "id": "oLhgNkb9ffxW"
      },
      "execution_count": null,
      "outputs": []
    }
  ]
}