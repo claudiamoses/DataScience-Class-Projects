{
  "nbformat": 4,
  "nbformat_minor": 0,
  "metadata": {
    "kernelspec": {
      "display_name": "Python 3",
      "language": "python",
      "name": "python3"
    },
    "language_info": {
      "codemirror_mode": {
        "name": "ipython",
        "version": 3
      },
      "file_extension": ".py",
      "mimetype": "text/x-python",
      "name": "python",
      "nbconvert_exporter": "python",
      "pygments_lexer": "ipython3",
      "version": "3.7.1"
    },
    "colab": {
      "provenance": [],
      "include_colab_link": true
    }
  },
  "cells": [
    {
      "cell_type": "markdown",
      "metadata": {
        "id": "view-in-github",
        "colab_type": "text"
      },
      "source": [
        "<a href=\"https://colab.research.google.com/github/claudiamoses/DataScience-Class-Projects/blob/main/Copy_of_DATASCI_112_Lab_4A.ipynb\" target=\"_parent\"><img src=\"https://colab.research.google.com/assets/colab-badge.svg\" alt=\"Open In Colab\"/></a>"
      ]
    },
    {
      "cell_type": "markdown",
      "metadata": {
        "id": "GWSNdW_jY8DY"
      },
      "source": [
        "# Machine Learning for Beer\n",
        "\n",
        "Your task is to train machine learning models to predict the bitterness of a beer (in International Bittering Units, or IBU), given features about the beer.\n",
        "\n",
        "You will submit the models to a Kaggle competition. [Use this link to join the Kaggle competition](https://www.kaggle.com/t/fc19bcab992642cb882edc7bdfbba3eb). You are encouraged to submit your models from this part of the lab to the Kaggle competition, although you are not required to. (You will be required to submit models in the next part of this lab.)\n",
        "\n",
        "You can acquire the data from two sources:\n",
        "\n",
        "- on [Kaggle](https://www.kaggle.com/competitions/beer2024/data) (You will need to be signed in and to have joined the Kaggle competition to view this link.)\n",
        "- on [Github](https://github.com/dlsun/pods/tree/master/data/beer) (https://dlsun.github.io/pods/data/beer/beer_train.csv and https://dlsun.github.io/pods/data/beer/beer_test.csv )\n",
        "\n",
        "A description of the variables is available [on Kaggle](https://www.kaggle.com/competitions/beer2024/data)."
      ]
    },
    {
      "cell_type": "code",
      "source": [
        "import pandas as pd\n",
        "import numpy as np\n",
        "import matplotlib.pyplot as plt\n",
        "from sklearn.pipeline import make_pipeline\n",
        "from sklearn.compose import make_column_transformer\n",
        "from sklearn.preprocessing import StandardScaler, OneHotEncoder, MinMaxScaler, MaxAbsScaler, Normalizer\n",
        "from sklearn.neighbors import KNeighborsRegressor, KNeighborsClassifier\n",
        "from sklearn.linear_model import LinearRegression\n",
        "from sklearn.feature_extraction.text import TfidfVectorizer, CountVectorizer\n",
        "from sklearn.metrics import mean_squared_error\n",
        "from sklearn.model_selection import cross_val_score, GridSearchCV"
      ],
      "metadata": {
        "id": "2CDU8038E7xM"
      },
      "execution_count": null,
      "outputs": []
    },
    {
      "cell_type": "code",
      "source": [
        "train_df = pd.read_csv(\"https://dlsun.github.io/pods/data/beer/beer_train.csv\")\n",
        "train_df.head(4)"
      ],
      "metadata": {
        "colab": {
          "base_uri": "https://localhost:8080/",
          "height": 175
        },
        "id": "r4-CZ3MaE-Na",
        "outputId": "15fbcfb5-d09b-4a14-9805-b34ed1582806"
      },
      "execution_count": null,
      "outputs": [
        {
          "output_type": "execute_result",
          "data": {
            "text/plain": [
              "   id  abv                                        available  \\\n",
              "0   0  8.2  Available at the same time of year, every year.   \n",
              "1   1  5.7  Available at the same time of year, every year.   \n",
              "2   2  5.8  Available at the same time of year, every year.   \n",
              "3   3  5.5           Available year round as a staple beer.   \n",
              "\n",
              "                                         description glass   ibu isOrganic  \\\n",
              "0  A Belgian-Abbey-Style Tripel that is big in al...   NaN  31.0         N   \n",
              "1  Covert Hops is a crafty ale. Its stealthy dark...  Pint  45.0         N   \n",
              "2  This is a traditional German-style Marzen char...   Mug  25.0         N   \n",
              "3  A West Coast-Style Pale Ale balancing plenty o...  Pint  55.0         N   \n",
              "\n",
              "              name  originalGravity srm  \n",
              "0  LoonyToonTripel            1.070   8  \n",
              "1      Covert Hops            1.056  35  \n",
              "2      Oktoberfest            1.048  10  \n",
              "3         Pale Ale            1.044   5  "
            ],
            "text/html": [
              "\n",
              "  <div id=\"df-a545f0db-7c9e-471f-89a6-8df14c81479d\" class=\"colab-df-container\">\n",
              "    <div>\n",
              "<style scoped>\n",
              "    .dataframe tbody tr th:only-of-type {\n",
              "        vertical-align: middle;\n",
              "    }\n",
              "\n",
              "    .dataframe tbody tr th {\n",
              "        vertical-align: top;\n",
              "    }\n",
              "\n",
              "    .dataframe thead th {\n",
              "        text-align: right;\n",
              "    }\n",
              "</style>\n",
              "<table border=\"1\" class=\"dataframe\">\n",
              "  <thead>\n",
              "    <tr style=\"text-align: right;\">\n",
              "      <th></th>\n",
              "      <th>id</th>\n",
              "      <th>abv</th>\n",
              "      <th>available</th>\n",
              "      <th>description</th>\n",
              "      <th>glass</th>\n",
              "      <th>ibu</th>\n",
              "      <th>isOrganic</th>\n",
              "      <th>name</th>\n",
              "      <th>originalGravity</th>\n",
              "      <th>srm</th>\n",
              "    </tr>\n",
              "  </thead>\n",
              "  <tbody>\n",
              "    <tr>\n",
              "      <th>0</th>\n",
              "      <td>0</td>\n",
              "      <td>8.2</td>\n",
              "      <td>Available at the same time of year, every year.</td>\n",
              "      <td>A Belgian-Abbey-Style Tripel that is big in al...</td>\n",
              "      <td>NaN</td>\n",
              "      <td>31.0</td>\n",
              "      <td>N</td>\n",
              "      <td>LoonyToonTripel</td>\n",
              "      <td>1.070</td>\n",
              "      <td>8</td>\n",
              "    </tr>\n",
              "    <tr>\n",
              "      <th>1</th>\n",
              "      <td>1</td>\n",
              "      <td>5.7</td>\n",
              "      <td>Available at the same time of year, every year.</td>\n",
              "      <td>Covert Hops is a crafty ale. Its stealthy dark...</td>\n",
              "      <td>Pint</td>\n",
              "      <td>45.0</td>\n",
              "      <td>N</td>\n",
              "      <td>Covert Hops</td>\n",
              "      <td>1.056</td>\n",
              "      <td>35</td>\n",
              "    </tr>\n",
              "    <tr>\n",
              "      <th>2</th>\n",
              "      <td>2</td>\n",
              "      <td>5.8</td>\n",
              "      <td>Available at the same time of year, every year.</td>\n",
              "      <td>This is a traditional German-style Marzen char...</td>\n",
              "      <td>Mug</td>\n",
              "      <td>25.0</td>\n",
              "      <td>N</td>\n",
              "      <td>Oktoberfest</td>\n",
              "      <td>1.048</td>\n",
              "      <td>10</td>\n",
              "    </tr>\n",
              "    <tr>\n",
              "      <th>3</th>\n",
              "      <td>3</td>\n",
              "      <td>5.5</td>\n",
              "      <td>Available year round as a staple beer.</td>\n",
              "      <td>A West Coast-Style Pale Ale balancing plenty o...</td>\n",
              "      <td>Pint</td>\n",
              "      <td>55.0</td>\n",
              "      <td>N</td>\n",
              "      <td>Pale Ale</td>\n",
              "      <td>1.044</td>\n",
              "      <td>5</td>\n",
              "    </tr>\n",
              "  </tbody>\n",
              "</table>\n",
              "</div>\n",
              "    <div class=\"colab-df-buttons\">\n",
              "\n",
              "  <div class=\"colab-df-container\">\n",
              "    <button class=\"colab-df-convert\" onclick=\"convertToInteractive('df-a545f0db-7c9e-471f-89a6-8df14c81479d')\"\n",
              "            title=\"Convert this dataframe to an interactive table.\"\n",
              "            style=\"display:none;\">\n",
              "\n",
              "  <svg xmlns=\"http://www.w3.org/2000/svg\" height=\"24px\" viewBox=\"0 -960 960 960\">\n",
              "    <path d=\"M120-120v-720h720v720H120Zm60-500h600v-160H180v160Zm220 220h160v-160H400v160Zm0 220h160v-160H400v160ZM180-400h160v-160H180v160Zm440 0h160v-160H620v160ZM180-180h160v-160H180v160Zm440 0h160v-160H620v160Z\"/>\n",
              "  </svg>\n",
              "    </button>\n",
              "\n",
              "  <style>\n",
              "    .colab-df-container {\n",
              "      display:flex;\n",
              "      gap: 12px;\n",
              "    }\n",
              "\n",
              "    .colab-df-convert {\n",
              "      background-color: #E8F0FE;\n",
              "      border: none;\n",
              "      border-radius: 50%;\n",
              "      cursor: pointer;\n",
              "      display: none;\n",
              "      fill: #1967D2;\n",
              "      height: 32px;\n",
              "      padding: 0 0 0 0;\n",
              "      width: 32px;\n",
              "    }\n",
              "\n",
              "    .colab-df-convert:hover {\n",
              "      background-color: #E2EBFA;\n",
              "      box-shadow: 0px 1px 2px rgba(60, 64, 67, 0.3), 0px 1px 3px 1px rgba(60, 64, 67, 0.15);\n",
              "      fill: #174EA6;\n",
              "    }\n",
              "\n",
              "    .colab-df-buttons div {\n",
              "      margin-bottom: 4px;\n",
              "    }\n",
              "\n",
              "    [theme=dark] .colab-df-convert {\n",
              "      background-color: #3B4455;\n",
              "      fill: #D2E3FC;\n",
              "    }\n",
              "\n",
              "    [theme=dark] .colab-df-convert:hover {\n",
              "      background-color: #434B5C;\n",
              "      box-shadow: 0px 1px 3px 1px rgba(0, 0, 0, 0.15);\n",
              "      filter: drop-shadow(0px 1px 2px rgba(0, 0, 0, 0.3));\n",
              "      fill: #FFFFFF;\n",
              "    }\n",
              "  </style>\n",
              "\n",
              "    <script>\n",
              "      const buttonEl =\n",
              "        document.querySelector('#df-a545f0db-7c9e-471f-89a6-8df14c81479d button.colab-df-convert');\n",
              "      buttonEl.style.display =\n",
              "        google.colab.kernel.accessAllowed ? 'block' : 'none';\n",
              "\n",
              "      async function convertToInteractive(key) {\n",
              "        const element = document.querySelector('#df-a545f0db-7c9e-471f-89a6-8df14c81479d');\n",
              "        const dataTable =\n",
              "          await google.colab.kernel.invokeFunction('convertToInteractive',\n",
              "                                                    [key], {});\n",
              "        if (!dataTable) return;\n",
              "\n",
              "        const docLinkHtml = 'Like what you see? Visit the ' +\n",
              "          '<a target=\"_blank\" href=https://colab.research.google.com/notebooks/data_table.ipynb>data table notebook</a>'\n",
              "          + ' to learn more about interactive tables.';\n",
              "        element.innerHTML = '';\n",
              "        dataTable['output_type'] = 'display_data';\n",
              "        await google.colab.output.renderOutput(dataTable, element);\n",
              "        const docLink = document.createElement('div');\n",
              "        docLink.innerHTML = docLinkHtml;\n",
              "        element.appendChild(docLink);\n",
              "      }\n",
              "    </script>\n",
              "  </div>\n",
              "\n",
              "\n",
              "<div id=\"df-5e24b531-dc28-434e-840b-27763b76b560\">\n",
              "  <button class=\"colab-df-quickchart\" onclick=\"quickchart('df-5e24b531-dc28-434e-840b-27763b76b560')\"\n",
              "            title=\"Suggest charts\"\n",
              "            style=\"display:none;\">\n",
              "\n",
              "<svg xmlns=\"http://www.w3.org/2000/svg\" height=\"24px\"viewBox=\"0 0 24 24\"\n",
              "     width=\"24px\">\n",
              "    <g>\n",
              "        <path d=\"M19 3H5c-1.1 0-2 .9-2 2v14c0 1.1.9 2 2 2h14c1.1 0 2-.9 2-2V5c0-1.1-.9-2-2-2zM9 17H7v-7h2v7zm4 0h-2V7h2v10zm4 0h-2v-4h2v4z\"/>\n",
              "    </g>\n",
              "</svg>\n",
              "  </button>\n",
              "\n",
              "<style>\n",
              "  .colab-df-quickchart {\n",
              "      --bg-color: #E8F0FE;\n",
              "      --fill-color: #1967D2;\n",
              "      --hover-bg-color: #E2EBFA;\n",
              "      --hover-fill-color: #174EA6;\n",
              "      --disabled-fill-color: #AAA;\n",
              "      --disabled-bg-color: #DDD;\n",
              "  }\n",
              "\n",
              "  [theme=dark] .colab-df-quickchart {\n",
              "      --bg-color: #3B4455;\n",
              "      --fill-color: #D2E3FC;\n",
              "      --hover-bg-color: #434B5C;\n",
              "      --hover-fill-color: #FFFFFF;\n",
              "      --disabled-bg-color: #3B4455;\n",
              "      --disabled-fill-color: #666;\n",
              "  }\n",
              "\n",
              "  .colab-df-quickchart {\n",
              "    background-color: var(--bg-color);\n",
              "    border: none;\n",
              "    border-radius: 50%;\n",
              "    cursor: pointer;\n",
              "    display: none;\n",
              "    fill: var(--fill-color);\n",
              "    height: 32px;\n",
              "    padding: 0;\n",
              "    width: 32px;\n",
              "  }\n",
              "\n",
              "  .colab-df-quickchart:hover {\n",
              "    background-color: var(--hover-bg-color);\n",
              "    box-shadow: 0 1px 2px rgba(60, 64, 67, 0.3), 0 1px 3px 1px rgba(60, 64, 67, 0.15);\n",
              "    fill: var(--button-hover-fill-color);\n",
              "  }\n",
              "\n",
              "  .colab-df-quickchart-complete:disabled,\n",
              "  .colab-df-quickchart-complete:disabled:hover {\n",
              "    background-color: var(--disabled-bg-color);\n",
              "    fill: var(--disabled-fill-color);\n",
              "    box-shadow: none;\n",
              "  }\n",
              "\n",
              "  .colab-df-spinner {\n",
              "    border: 2px solid var(--fill-color);\n",
              "    border-color: transparent;\n",
              "    border-bottom-color: var(--fill-color);\n",
              "    animation:\n",
              "      spin 1s steps(1) infinite;\n",
              "  }\n",
              "\n",
              "  @keyframes spin {\n",
              "    0% {\n",
              "      border-color: transparent;\n",
              "      border-bottom-color: var(--fill-color);\n",
              "      border-left-color: var(--fill-color);\n",
              "    }\n",
              "    20% {\n",
              "      border-color: transparent;\n",
              "      border-left-color: var(--fill-color);\n",
              "      border-top-color: var(--fill-color);\n",
              "    }\n",
              "    30% {\n",
              "      border-color: transparent;\n",
              "      border-left-color: var(--fill-color);\n",
              "      border-top-color: var(--fill-color);\n",
              "      border-right-color: var(--fill-color);\n",
              "    }\n",
              "    40% {\n",
              "      border-color: transparent;\n",
              "      border-right-color: var(--fill-color);\n",
              "      border-top-color: var(--fill-color);\n",
              "    }\n",
              "    60% {\n",
              "      border-color: transparent;\n",
              "      border-right-color: var(--fill-color);\n",
              "    }\n",
              "    80% {\n",
              "      border-color: transparent;\n",
              "      border-right-color: var(--fill-color);\n",
              "      border-bottom-color: var(--fill-color);\n",
              "    }\n",
              "    90% {\n",
              "      border-color: transparent;\n",
              "      border-bottom-color: var(--fill-color);\n",
              "    }\n",
              "  }\n",
              "</style>\n",
              "\n",
              "  <script>\n",
              "    async function quickchart(key) {\n",
              "      const quickchartButtonEl =\n",
              "        document.querySelector('#' + key + ' button');\n",
              "      quickchartButtonEl.disabled = true;  // To prevent multiple clicks.\n",
              "      quickchartButtonEl.classList.add('colab-df-spinner');\n",
              "      try {\n",
              "        const charts = await google.colab.kernel.invokeFunction(\n",
              "            'suggestCharts', [key], {});\n",
              "      } catch (error) {\n",
              "        console.error('Error during call to suggestCharts:', error);\n",
              "      }\n",
              "      quickchartButtonEl.classList.remove('colab-df-spinner');\n",
              "      quickchartButtonEl.classList.add('colab-df-quickchart-complete');\n",
              "    }\n",
              "    (() => {\n",
              "      let quickchartButtonEl =\n",
              "        document.querySelector('#df-5e24b531-dc28-434e-840b-27763b76b560 button');\n",
              "      quickchartButtonEl.style.display =\n",
              "        google.colab.kernel.accessAllowed ? 'block' : 'none';\n",
              "    })();\n",
              "  </script>\n",
              "</div>\n",
              "    </div>\n",
              "  </div>\n"
            ],
            "application/vnd.google.colaboratory.intrinsic+json": {
              "type": "dataframe",
              "variable_name": "train_df",
              "summary": "{\n  \"name\": \"train_df\",\n  \"rows\": 6000,\n  \"fields\": [\n    {\n      \"column\": \"id\",\n      \"properties\": {\n        \"dtype\": \"number\",\n        \"std\": 1732,\n        \"min\": 0,\n        \"max\": 5999,\n        \"num_unique_values\": 6000,\n        \"samples\": [\n          1782,\n          3917,\n          221\n        ],\n        \"semantic_type\": \"\",\n        \"description\": \"\"\n      }\n    },\n    {\n      \"column\": \"abv\",\n      \"properties\": {\n        \"dtype\": \"number\",\n        \"std\": 1.8330541255243227,\n        \"min\": 0.2,\n        \"max\": 19.7,\n        \"num_unique_values\": 210,\n        \"samples\": [\n          5.9,\n          4.45,\n          9.9\n        ],\n        \"semantic_type\": \"\",\n        \"description\": \"\"\n      }\n    },\n    {\n      \"column\": \"available\",\n      \"properties\": {\n        \"dtype\": \"category\",\n        \"num_unique_values\": 8,\n        \"samples\": [\n          \"Available year round as a staple beer.\",\n          \"Available during the winter months.\",\n          \"Available at the same time of year, every year.\"\n        ],\n        \"semantic_type\": \"\",\n        \"description\": \"\"\n      }\n    },\n    {\n      \"column\": \"description\",\n      \"properties\": {\n        \"dtype\": \"string\",\n        \"num_unique_values\": 5502,\n        \"samples\": [\n          \"Smooth and dark.  Amazing chocolate Porter flavor.\",\n          \"This English-style Porter was brewed to commemorate the first ever \\u201cbeer\\u201d issue of Time Out NY. It is nearly black in color with a roasted malt aroma, and flavors of dark chocolate, cocoa and chestnuts.\",\n          \"Our newest flagship ale is pale gold in color with a well-formed, bright white foam head. Moderate hop aromas of pine and lychee are followed by light yet bright malt tones from English crystal and Canadian honey malts. Finishing with bright and zesty hop flavors, it\\u2019s a light and refreshing ale that does not skimp on flavor or character. Perfect after a local hike in beautiful namesake Palo Comado Canyon.\\r\\n\\r\\nFormerly: Palo Comado XPA\"\n        ],\n        \"semantic_type\": \"\",\n        \"description\": \"\"\n      }\n    },\n    {\n      \"column\": \"glass\",\n      \"properties\": {\n        \"dtype\": \"category\",\n        \"num_unique_values\": 12,\n        \"samples\": [\n          \"Oversized Wine Glass\",\n          \"Goblet\",\n          \"Pint\"\n        ],\n        \"semantic_type\": \"\",\n        \"description\": \"\"\n      }\n    },\n    {\n      \"column\": \"ibu\",\n      \"properties\": {\n        \"dtype\": \"number\",\n        \"std\": 28.846227740069683,\n        \"min\": 1.0,\n        \"max\": 1000.0,\n        \"num_unique_values\": 384,\n        \"samples\": [\n          89.0,\n          86.3,\n          60.5\n        ],\n        \"semantic_type\": \"\",\n        \"description\": \"\"\n      }\n    },\n    {\n      \"column\": \"isOrganic\",\n      \"properties\": {\n        \"dtype\": \"category\",\n        \"num_unique_values\": 2,\n        \"samples\": [\n          \"Y\",\n          \"N\"\n        ],\n        \"semantic_type\": \"\",\n        \"description\": \"\"\n      }\n    },\n    {\n      \"column\": \"name\",\n      \"properties\": {\n        \"dtype\": \"string\",\n        \"num_unique_values\": 5563,\n        \"samples\": [\n          \"19 Days Maibock\",\n          \"Bootjack IPA\"\n        ],\n        \"semantic_type\": \"\",\n        \"description\": \"\"\n      }\n    },\n    {\n      \"column\": \"originalGravity\",\n      \"properties\": {\n        \"dtype\": \"number\",\n        \"std\": 0.02174658081544754,\n        \"min\": 1.0,\n        \"max\": 1.98,\n        \"num_unique_values\": 128,\n        \"samples\": [\n          1.041,\n          1.053\n        ],\n        \"semantic_type\": \"\",\n        \"description\": \"\"\n      }\n    },\n    {\n      \"column\": \"srm\",\n      \"properties\": {\n        \"dtype\": \"category\",\n        \"num_unique_values\": 75,\n        \"samples\": [\n          \"3\",\n          \"72\"\n        ],\n        \"semantic_type\": \"\",\n        \"description\": \"\"\n      }\n    }\n  ]\n}"
            }
          },
          "metadata": {},
          "execution_count": 7
        }
      ]
    },
    {
      "cell_type": "markdown",
      "metadata": {
        "id": "vgaFvqueY8Dc"
      },
      "source": [
        "## Question 1\n",
        "\n",
        "You would like to predict **ibu** using a $20$-nearest neighbors model. You are deciding between three sets of features to put into this model:\n",
        "\n",
        "1. **abv**, **name**\n",
        "2. **abv**, **name**, **available**\n",
        "3. **abv**, **name**, **available**, **glass**\n",
        "\n",
        "Apply TF-IDF (using the top 100 terms) to the raw text variables and one-hot encoding to the categorical variables. Think carefully about which variables are textual and which variables are categorical.\n",
        "\n",
        "For each set of features, train a $20$-nearest neighbor model to predict IBU (**ibu**). Which of these models is best for predicting IBU? Justify your answer."
      ]
    },
    {
      "cell_type": "code",
      "source": [
        "# make features lists\n",
        "X_train_1 = train_df[[\"abv\", \"name\"]]\n",
        "X_train_2 = train_df[[\"abv\", \"name\", \"available\"]]\n",
        "X_train_3 = train_df[[\"abv\", \"name\", \"available\", \"glass\"]]\n",
        "y_train = train_df[[\"ibu\"]]"
      ],
      "metadata": {
        "id": "ol0Ku6r9S6iu"
      },
      "execution_count": null,
      "outputs": []
    },
    {
      "cell_type": "code",
      "source": [
        "# make column transformer for each features group\n",
        "col_transformer_1 = make_column_transformer(\n",
        "    (StandardScaler(), [\"abv\"]),\n",
        "    (TfidfVectorizer(max_features=100), \"name\"),\n",
        "    remainder=\"drop\"\n",
        "    )\n",
        "\n",
        "col_transformer_2 = make_column_transformer(\n",
        "    (StandardScaler(), [\"abv\"]),\n",
        "    (OneHotEncoder(handle_unknown=\"ignore\", sparse_output=False), [\"available\"]),\n",
        "    (TfidfVectorizer(max_features=100), \"name\"),\n",
        "    remainder=\"drop\"\n",
        "  )\n",
        "\n",
        "col_transformer_3 = make_column_transformer(\n",
        "    (StandardScaler(), [\"abv\"]),\n",
        "    (OneHotEncoder(handle_unknown=\"ignore\", sparse_output=False), [\"available\", \"glass\"]),\n",
        "    (TfidfVectorizer(max_features=100), \"name\"),\n",
        "    remainder=\"drop\"\n",
        "  )"
      ],
      "metadata": {
        "id": "LMBXml7jGVzg"
      },
      "execution_count": null,
      "outputs": []
    },
    {
      "cell_type": "code",
      "source": [
        "#make pipeline for each features group\n",
        "pipe1 = make_pipeline(\n",
        "    col_transformer_1,\n",
        "    KNeighborsRegressor(n_neighbors=20)\n",
        ")\n",
        "\n",
        "pipe2 = make_pipeline(\n",
        "    col_transformer_2,\n",
        "    KNeighborsRegressor(n_neighbors=20)\n",
        ")\n",
        "\n",
        "pipe3 = make_pipeline(\n",
        "    col_transformer_2,\n",
        "    KNeighborsRegressor(n_neighbors=20)\n",
        ")"
      ],
      "metadata": {
        "id": "ycvS7VjgJFro"
      },
      "execution_count": null,
      "outputs": []
    },
    {
      "cell_type": "code",
      "source": [
        "#calculate RMSE for each features group\n",
        "train_list = [X_train_1, X_train_2, X_train_3]\n",
        "pipe_list = [pipe1, pipe2, pipe3]\n",
        "features_list = [\"Group 1\", \"Group 2\", \"Group 3\"]\n",
        "\n",
        "def calculate_RMSE(name, pipeline, training_data):\n",
        "  scores = cross_val_score(\n",
        "    pipeline,\n",
        "    X=training_data,\n",
        "    y=y_train,\n",
        "    cv=15,\n",
        "    scoring=\"neg_mean_squared_error\"\n",
        "  )\n",
        "  print(name + \" RMSE: \", np.sqrt(-scores.mean()))\n",
        "  return\n",
        "\n",
        "for i in range(3):\n",
        "  calculate_RMSE(features_list[i], pipe_list[i], train_list[i])"
      ],
      "metadata": {
        "colab": {
          "base_uri": "https://localhost:8080/"
        },
        "id": "0bGjT6eNKPMy",
        "outputId": "09616899-1a7c-4090-b3b3-2c281e6f54c1"
      },
      "execution_count": null,
      "outputs": [
        {
          "output_type": "stream",
          "name": "stdout",
          "text": [
            "Group 1 RMSE:  23.62532216982545\n",
            "Group 2 RMSE:  24.08508385022043\n",
            "Group 3 RMSE:  24.08508385022043\n"
          ]
        }
      ]
    },
    {
      "cell_type": "markdown",
      "source": [
        "_YOUR INTERPRETATION HERE_\n",
        "\n",
        "For each group of features, I calculated the Root Mean Squared Error using cross-validation of the training data. The first features group had a lower error than the following two, suggesting that the first group had enough data to guess the beers' IBU more accurately than the other two. The second two groups had the same error, suggesting that they estimated the IBU with the same accuracy. However, given that the third group had the additional data of \"glass\" type included, but still got the same error as the second group, I would reason that the second group is the better model of the two for predicting IBU, as it does so with less data and is presumably a less expensive calculation than the third."
      ],
      "metadata": {
        "id": "VlHOENkBmM4W"
      }
    },
    {
      "cell_type": "markdown",
      "metadata": {
        "id": "aEBlEDxWY8Dl"
      },
      "source": [
        "## Question 2\n",
        "\n",
        "Let's see how the distance metric and the scaling method influence prediction accuracy. Use the set of features from Question 1 that you determined to be the best. Continue to use $k=20$ nearest neighbors, but try fitting models with different distance metrics and scaling methods.\n",
        "\n",
        "Which distance metric and/or scaling method gives the best model? A good way to do this is to write a function that takes in a distance metric and a scaler and then call this function on different distance metrics and scalers."
      ]
    },
    {
      "cell_type": "code",
      "source": [
        "from sklearn.preprocessing import StandardScaler\n",
        "\n",
        "def estimate_test_mse(distance_metric, scaler):\n",
        "  # TODO: estimate the test error for given distance metric and scaler\n",
        "  col_transformer = make_column_transformer(\n",
        "    (scaler, [\"abv\"]),\n",
        "    (TfidfVectorizer(max_features=100), \"name\"),\n",
        "    remainder=\"drop\"\n",
        "  )\n",
        "\n",
        "  pipeline = make_pipeline(\n",
        "    col_transformer,\n",
        "    KNeighborsRegressor(n_neighbors=20)\n",
        "  )\n",
        "\n",
        "  grid_cv = GridSearchCV(\n",
        "    pipeline,\n",
        "    scoring=\"neg_mean_squared_error\",\n",
        "    n_jobs=-1,\n",
        "    param_grid={\n",
        "        \"kneighborsregressor__metric\": [distance_metric],\n",
        "    },\n",
        "    cv=10,\n",
        "  )\n",
        "  grid_cv.fit(X_train_1, y_train)\n",
        "  return grid_cv\n",
        "\n",
        "# TODO: iterate over distance metrics and scalers, calling `estimate_test_mse`\n",
        "distance_metrics = [\"euclidean\", \"minkowski\", \"manhattan\"]\n",
        "scalers = [StandardScaler(), MinMaxScaler(), MaxAbsScaler(), Normalizer()]\n",
        "grid_cv_list = []\n",
        "for distance_metric in distance_metrics:\n",
        "  for scaler in scalers:\n",
        "    grid_cv_list.append(estimate_test_mse(distance_metric, scaler))\n",
        "grid_cv_list\n",
        "\n"
      ],
      "metadata": {
        "id": "4Ig3J5mTS75e"
      },
      "execution_count": null,
      "outputs": []
    },
    {
      "cell_type": "code",
      "source": [
        "#extract best pipeline from grid_cv list\n",
        "best_grid_cv = max(grid_cv_list, key=lambda x: x.best_score_)\n",
        "best_pipeline = best_grid_cv.best_estimator_\n",
        "best_pipeline"
      ],
      "metadata": {
        "colab": {
          "base_uri": "https://localhost:8080/",
          "height": 192
        },
        "id": "qf67ZU0UJXds",
        "outputId": "9993114c-84bb-45b7-e5ad-51344479d8e5"
      },
      "execution_count": null,
      "outputs": [
        {
          "output_type": "execute_result",
          "data": {
            "text/plain": [
              "Pipeline(steps=[('columntransformer',\n",
              "                 ColumnTransformer(transformers=[('standardscaler',\n",
              "                                                  StandardScaler(), ['abv']),\n",
              "                                                 ('tfidfvectorizer',\n",
              "                                                  TfidfVectorizer(max_features=100),\n",
              "                                                  'name')])),\n",
              "                ('kneighborsregressor',\n",
              "                 KNeighborsRegressor(metric='manhattan', n_neighbors=20))])"
            ],
            "text/html": [
              "<style>#sk-container-id-1 {color: black;background-color: white;}#sk-container-id-1 pre{padding: 0;}#sk-container-id-1 div.sk-toggleable {background-color: white;}#sk-container-id-1 label.sk-toggleable__label {cursor: pointer;display: block;width: 100%;margin-bottom: 0;padding: 0.3em;box-sizing: border-box;text-align: center;}#sk-container-id-1 label.sk-toggleable__label-arrow:before {content: \"▸\";float: left;margin-right: 0.25em;color: #696969;}#sk-container-id-1 label.sk-toggleable__label-arrow:hover:before {color: black;}#sk-container-id-1 div.sk-estimator:hover label.sk-toggleable__label-arrow:before {color: black;}#sk-container-id-1 div.sk-toggleable__content {max-height: 0;max-width: 0;overflow: hidden;text-align: left;background-color: #f0f8ff;}#sk-container-id-1 div.sk-toggleable__content pre {margin: 0.2em;color: black;border-radius: 0.25em;background-color: #f0f8ff;}#sk-container-id-1 input.sk-toggleable__control:checked~div.sk-toggleable__content {max-height: 200px;max-width: 100%;overflow: auto;}#sk-container-id-1 input.sk-toggleable__control:checked~label.sk-toggleable__label-arrow:before {content: \"▾\";}#sk-container-id-1 div.sk-estimator input.sk-toggleable__control:checked~label.sk-toggleable__label {background-color: #d4ebff;}#sk-container-id-1 div.sk-label input.sk-toggleable__control:checked~label.sk-toggleable__label {background-color: #d4ebff;}#sk-container-id-1 input.sk-hidden--visually {border: 0;clip: rect(1px 1px 1px 1px);clip: rect(1px, 1px, 1px, 1px);height: 1px;margin: -1px;overflow: hidden;padding: 0;position: absolute;width: 1px;}#sk-container-id-1 div.sk-estimator {font-family: monospace;background-color: #f0f8ff;border: 1px dotted black;border-radius: 0.25em;box-sizing: border-box;margin-bottom: 0.5em;}#sk-container-id-1 div.sk-estimator:hover {background-color: #d4ebff;}#sk-container-id-1 div.sk-parallel-item::after {content: \"\";width: 100%;border-bottom: 1px solid gray;flex-grow: 1;}#sk-container-id-1 div.sk-label:hover label.sk-toggleable__label {background-color: #d4ebff;}#sk-container-id-1 div.sk-serial::before {content: \"\";position: absolute;border-left: 1px solid gray;box-sizing: border-box;top: 0;bottom: 0;left: 50%;z-index: 0;}#sk-container-id-1 div.sk-serial {display: flex;flex-direction: column;align-items: center;background-color: white;padding-right: 0.2em;padding-left: 0.2em;position: relative;}#sk-container-id-1 div.sk-item {position: relative;z-index: 1;}#sk-container-id-1 div.sk-parallel {display: flex;align-items: stretch;justify-content: center;background-color: white;position: relative;}#sk-container-id-1 div.sk-item::before, #sk-container-id-1 div.sk-parallel-item::before {content: \"\";position: absolute;border-left: 1px solid gray;box-sizing: border-box;top: 0;bottom: 0;left: 50%;z-index: -1;}#sk-container-id-1 div.sk-parallel-item {display: flex;flex-direction: column;z-index: 1;position: relative;background-color: white;}#sk-container-id-1 div.sk-parallel-item:first-child::after {align-self: flex-end;width: 50%;}#sk-container-id-1 div.sk-parallel-item:last-child::after {align-self: flex-start;width: 50%;}#sk-container-id-1 div.sk-parallel-item:only-child::after {width: 0;}#sk-container-id-1 div.sk-dashed-wrapped {border: 1px dashed gray;margin: 0 0.4em 0.5em 0.4em;box-sizing: border-box;padding-bottom: 0.4em;background-color: white;}#sk-container-id-1 div.sk-label label {font-family: monospace;font-weight: bold;display: inline-block;line-height: 1.2em;}#sk-container-id-1 div.sk-label-container {text-align: center;}#sk-container-id-1 div.sk-container {/* jupyter's `normalize.less` sets `[hidden] { display: none; }` but bootstrap.min.css set `[hidden] { display: none !important; }` so we also need the `!important` here to be able to override the default hidden behavior on the sphinx rendered scikit-learn.org. See: https://github.com/scikit-learn/scikit-learn/issues/21755 */display: inline-block !important;position: relative;}#sk-container-id-1 div.sk-text-repr-fallback {display: none;}</style><div id=\"sk-container-id-1\" class=\"sk-top-container\"><div class=\"sk-text-repr-fallback\"><pre>Pipeline(steps=[(&#x27;columntransformer&#x27;,\n",
              "                 ColumnTransformer(transformers=[(&#x27;standardscaler&#x27;,\n",
              "                                                  StandardScaler(), [&#x27;abv&#x27;]),\n",
              "                                                 (&#x27;tfidfvectorizer&#x27;,\n",
              "                                                  TfidfVectorizer(max_features=100),\n",
              "                                                  &#x27;name&#x27;)])),\n",
              "                (&#x27;kneighborsregressor&#x27;,\n",
              "                 KNeighborsRegressor(metric=&#x27;manhattan&#x27;, n_neighbors=20))])</pre><b>In a Jupyter environment, please rerun this cell to show the HTML representation or trust the notebook. <br />On GitHub, the HTML representation is unable to render, please try loading this page with nbviewer.org.</b></div><div class=\"sk-container\" hidden><div class=\"sk-item sk-dashed-wrapped\"><div class=\"sk-label-container\"><div class=\"sk-label sk-toggleable\"><input class=\"sk-toggleable__control sk-hidden--visually\" id=\"sk-estimator-id-1\" type=\"checkbox\" ><label for=\"sk-estimator-id-1\" class=\"sk-toggleable__label sk-toggleable__label-arrow\">Pipeline</label><div class=\"sk-toggleable__content\"><pre>Pipeline(steps=[(&#x27;columntransformer&#x27;,\n",
              "                 ColumnTransformer(transformers=[(&#x27;standardscaler&#x27;,\n",
              "                                                  StandardScaler(), [&#x27;abv&#x27;]),\n",
              "                                                 (&#x27;tfidfvectorizer&#x27;,\n",
              "                                                  TfidfVectorizer(max_features=100),\n",
              "                                                  &#x27;name&#x27;)])),\n",
              "                (&#x27;kneighborsregressor&#x27;,\n",
              "                 KNeighborsRegressor(metric=&#x27;manhattan&#x27;, n_neighbors=20))])</pre></div></div></div><div class=\"sk-serial\"><div class=\"sk-item sk-dashed-wrapped\"><div class=\"sk-label-container\"><div class=\"sk-label sk-toggleable\"><input class=\"sk-toggleable__control sk-hidden--visually\" id=\"sk-estimator-id-2\" type=\"checkbox\" ><label for=\"sk-estimator-id-2\" class=\"sk-toggleable__label sk-toggleable__label-arrow\">columntransformer: ColumnTransformer</label><div class=\"sk-toggleable__content\"><pre>ColumnTransformer(transformers=[(&#x27;standardscaler&#x27;, StandardScaler(), [&#x27;abv&#x27;]),\n",
              "                                (&#x27;tfidfvectorizer&#x27;,\n",
              "                                 TfidfVectorizer(max_features=100), &#x27;name&#x27;)])</pre></div></div></div><div class=\"sk-parallel\"><div class=\"sk-parallel-item\"><div class=\"sk-item\"><div class=\"sk-label-container\"><div class=\"sk-label sk-toggleable\"><input class=\"sk-toggleable__control sk-hidden--visually\" id=\"sk-estimator-id-3\" type=\"checkbox\" ><label for=\"sk-estimator-id-3\" class=\"sk-toggleable__label sk-toggleable__label-arrow\">standardscaler</label><div class=\"sk-toggleable__content\"><pre>[&#x27;abv&#x27;]</pre></div></div></div><div class=\"sk-serial\"><div class=\"sk-item\"><div class=\"sk-estimator sk-toggleable\"><input class=\"sk-toggleable__control sk-hidden--visually\" id=\"sk-estimator-id-4\" type=\"checkbox\" ><label for=\"sk-estimator-id-4\" class=\"sk-toggleable__label sk-toggleable__label-arrow\">StandardScaler</label><div class=\"sk-toggleable__content\"><pre>StandardScaler()</pre></div></div></div></div></div></div><div class=\"sk-parallel-item\"><div class=\"sk-item\"><div class=\"sk-label-container\"><div class=\"sk-label sk-toggleable\"><input class=\"sk-toggleable__control sk-hidden--visually\" id=\"sk-estimator-id-5\" type=\"checkbox\" ><label for=\"sk-estimator-id-5\" class=\"sk-toggleable__label sk-toggleable__label-arrow\">tfidfvectorizer</label><div class=\"sk-toggleable__content\"><pre>name</pre></div></div></div><div class=\"sk-serial\"><div class=\"sk-item\"><div class=\"sk-estimator sk-toggleable\"><input class=\"sk-toggleable__control sk-hidden--visually\" id=\"sk-estimator-id-6\" type=\"checkbox\" ><label for=\"sk-estimator-id-6\" class=\"sk-toggleable__label sk-toggleable__label-arrow\">TfidfVectorizer</label><div class=\"sk-toggleable__content\"><pre>TfidfVectorizer(max_features=100)</pre></div></div></div></div></div></div></div></div><div class=\"sk-item\"><div class=\"sk-estimator sk-toggleable\"><input class=\"sk-toggleable__control sk-hidden--visually\" id=\"sk-estimator-id-7\" type=\"checkbox\" ><label for=\"sk-estimator-id-7\" class=\"sk-toggleable__label sk-toggleable__label-arrow\">KNeighborsRegressor</label><div class=\"sk-toggleable__content\"><pre>KNeighborsRegressor(metric=&#x27;manhattan&#x27;, n_neighbors=20)</pre></div></div></div></div></div></div></div>"
            ]
          },
          "metadata": {},
          "execution_count": 22
        }
      ]
    },
    {
      "cell_type": "markdown",
      "source": [
        "_YOUR INTERPRETATION HERE_\n",
        "\n",
        "I initially wanted to try this problem with 4 choices of scaler (StandardScaler(), MinMaxScaler(), MaxAbsScaler(), Normalizer()) and 6 choices of distance metric (\"euclidean\", \"manhattan\", \"minkowski\", \"chebyshev\", \"hamming\", \"canberra\"). Unfortunately, \"chebyshev\", \"canberra\" and \"hamming\" metrics couldn't be used with sparse matrices. In the end, I went with my narrowed down list of 3 distance metrics, and original scaler list.\n",
        "\n",
        "And voila, the best combination from these 12 choices appeared to be the manhattan distance metric with the StandardScaler!\n",
        "\n"
      ],
      "metadata": {
        "id": "OhNQTqdImd92"
      }
    },
    {
      "cell_type": "markdown",
      "metadata": {
        "id": "J_uFz0BaY8Ds"
      },
      "source": [
        "## Question 3\n",
        "\n",
        "Finally, let's determine the right value of $k$. Use the set of features, the distance metric, and the scaling method that you determined to be best (for $k=20$) in Questions 1 and 2. Fit $k$-nearest neighbor models for different values of $k$. Graph the training error and the estimated test error as functions of $k$, and determine the optimal value of $k$."
      ]
    },
    {
      "cell_type": "code",
      "source": [
        "# This is the code from section, using the best_pipeline we found on question 2\n",
        "grid_cv = GridSearchCV(\n",
        "    best_pipeline,\n",
        "    param_grid={\n",
        "        \"kneighborsregressor__n_neighbors\": range(19, 40)\n",
        "    },\n",
        "    scoring=\"neg_mean_squared_error\",\n",
        "    cv=10,\n",
        "    n_jobs = -1,\n",
        "    return_train_score=True\n",
        ")\n",
        "grid_cv.fit(\n",
        "    X=X_train_1,\n",
        "    y=y_train\n",
        ")\n",
        "grid_cv.best_params_"
      ],
      "metadata": {
        "id": "d_2Km2NaS9HU",
        "colab": {
          "base_uri": "https://localhost:8080/"
        },
        "outputId": "d7f6a1d5-2abe-40a4-ac99-147c24adf51b"
      },
      "execution_count": null,
      "outputs": [
        {
          "output_type": "execute_result",
          "data": {
            "text/plain": [
              "{'kneighborsregressor__n_neighbors': 33}"
            ]
          },
          "metadata": {},
          "execution_count": 31
        }
      ]
    },
    {
      "cell_type": "code",
      "source": [
        "ax = pd.Series(\n",
        "    np.sqrt(-grid_cv.cv_results_[\"mean_test_score\"]),\n",
        "    index=range(19, 40)).plot.line(label=\"test\")\n",
        "ax.set_title(\"Average Losses vs neighbor value\")\n",
        "pd.Series(\n",
        "    np.sqrt(-grid_cv.cv_results_[\"mean_train_score\"]),\n",
        "    index=range(19, 40)).plot.line(ax=ax, label=\"train\")\n",
        "ax.legend()\n",
        "ax.set_ylabel(\"Average Loss\")\n",
        "ax.set_xlabel(\"K value\")\n",
        "plt.show()"
      ],
      "metadata": {
        "colab": {
          "base_uri": "https://localhost:8080/",
          "height": 472
        },
        "id": "-Qtr4SBzKp_M",
        "outputId": "28c8f120-f395-4674-ff51-9b652cab194d"
      },
      "execution_count": null,
      "outputs": [
        {
          "output_type": "display_data",
          "data": {
            "text/plain": [
              "<Figure size 640x480 with 1 Axes>"
            ],
            "image/png": "[encoded data removed]"
          },
          "metadata": {}
        }
      ]
    },
    {
      "cell_type": "markdown",
      "source": [
        "_YOUR INTERPRETATION HERE_\n",
        "\n",
        "The grid's best_params_ attribute tells us that the k-value is optimized at 33 neighbors. We can confirm this by looking at the plot of the test and training error, where we can see that the test error reaches a local minimum when k has a value of 33. Note that since we are using a negative mean squared error, we have plotted the \"losses\" in accuracy, so a lower test error is better.\n",
        "\n",
        "What this tells us is that with our selected parameters of the manhattan distance metric and the StandardScaler scaler choice, the optimal value of k is 33. It is important to note that this value could vary for a different combination of parameters."
      ],
      "metadata": {
        "id": "tfh9M2ezmirt"
      }
    },
    {
      "cell_type": "markdown",
      "source": [
        "## Submission Instructions\n",
        "\n",
        "- Restart this notebook and run the cells from beginning to end.\n",
        "  - Go to Runtime > Restart and Run All."
      ],
      "metadata": {
        "id": "oPIjYqBeUpQd"
      }
    },
    {
      "cell_type": "code",
      "source": [
        "# @markdown Run this cell to download this notebook as a webpage, `_NOTEBOOK.html`.\n",
        "\n",
        "import google, json, nbformat\n",
        "\n",
        "# Get the current notebook and write it to _NOTEBOOK.ipynb\n",
        "raw_notebook = google.colab._message.blocking_request(\"get_ipynb\",\n",
        "                                                      timeout_sec=30)[\"ipynb\"]\n",
        "with open(\"_NOTEBOOK.ipynb\", \"w\", encoding=\"utf-8\") as ipynb_file:\n",
        "  ipynb_file.write(json.dumps(raw_notebook))\n",
        "\n",
        "# Use nbconvert to convert .ipynb to .html.\n",
        "!jupyter nbconvert --to html --log-level WARN _NOTEBOOK.ipynb\n",
        "\n",
        "# Download the .html file.\n",
        "google.colab.files.download(\"_NOTEBOOK.html\")"
      ],
      "metadata": {
        "cellView": "form",
        "id": "wOiDCoviUp-Z",
        "colab": {
          "base_uri": "https://localhost:8080/",
          "height": 17
        },
        "outputId": "c9f483c4-6c64-48de-db7d-c303cc1ac3e5"
      },
      "execution_count": null,
      "outputs": [
        {
          "output_type": "display_data",
          "data": {
            "text/plain": [
              "<IPython.core.display.Javascript object>"
            ],
            "application/javascript": [
              "\n",
              "    async function download(id, filename, size) {\n",
              "      if (!google.colab.kernel.accessAllowed) {\n",
              "        return;\n",
              "      }\n",
              "      const div = document.createElement('div');\n",
              "      const label = document.createElement('label');\n",
              "      label.textContent = `Downloading \"${filename}\": `;\n",
              "      div.appendChild(label);\n",
              "      const progress = document.createElement('progress');\n",
              "      progress.max = size;\n",
              "      div.appendChild(progress);\n",
              "      document.body.appendChild(div);\n",
              "\n",
              "      const buffers = [];\n",
              "      let downloaded = 0;\n",
              "\n",
              "      const channel = await google.colab.kernel.comms.open(id);\n",
              "      // Send a message to notify the kernel that we're ready.\n",
              "      channel.send({})\n",
              "\n",
              "      for await (const message of channel.messages) {\n",
              "        // Send a message to notify the kernel that we're ready.\n",
              "        channel.send({})\n",
              "        if (message.buffers) {\n",
              "          for (const buffer of message.buffers) {\n",
              "            buffers.push(buffer);\n",
              "            downloaded += buffer.byteLength;\n",
              "            progress.value = downloaded;\n",
              "          }\n",
              "        }\n",
              "      }\n",
              "      const blob = new Blob(buffers, {type: 'application/binary'});\n",
              "      const a = document.createElement('a');\n",
              "      a.href = window.URL.createObjectURL(blob);\n",
              "      a.download = filename;\n",
              "      div.appendChild(a);\n",
              "      a.click();\n",
              "      div.remove();\n",
              "    }\n",
              "  "
            ]
          },
          "metadata": {}
        },
        {
          "output_type": "display_data",
          "data": {
            "text/plain": [
              "<IPython.core.display.Javascript object>"
            ],
            "application/javascript": [
              "download(\"download_56801f80-a980-4108-b0da-9302ebe0df0b\", \"_NOTEBOOK.html\", 668378)"
            ]
          },
          "metadata": {}
        }
      ]
    },
    {
      "cell_type": "markdown",
      "metadata": {
        "id": "qhRFqKSDY8D2"
      },
      "source": [
        "- Open `_NOTEBOOK.html` in your browser, and save it as a PDF.\n",
        "    - Go to File > Print > Save as PDF.\n",
        "- Double check that all of your code and output is visible in the saved PDF.\n",
        "- Upload the PDF to [Gradescope](https://www.gradescope.com/courses/694907).\n",
        "    - Please be sure to select the correct pages corresponding to each question."
      ]
    }
  ]
}
